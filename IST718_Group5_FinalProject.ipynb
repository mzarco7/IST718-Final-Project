{
  "cells": [
    {
      "attachments": {},
      "cell_type": "markdown",
      "metadata": {
        "id": "dQaNPafGJ-LE"
      },
      "source": [
        "# **IST 718 Final Project**\n",
        "### Flight Delay Predictions\n",
        "Mike Carvalhero"
      ]
    },
    {
      "attachments": {},
      "cell_type": "markdown",
      "metadata": {
        "id": "FuYwyyIxJ0-c"
      },
      "source": [
        "# Install Pyspark & Load Packages"
      ]
    },
    {
      "cell_type": "code",
      "execution_count": 2,
      "metadata": {
        "colab": {
          "base_uri": "https://localhost:8080/"
        },
        "id": "OD5RmHArkyVY",
        "outputId": "a6f0975e-3ca2-469a-ec5f-1e692e73645a"
      },
      "outputs": [
        {
          "name": "stderr",
          "output_type": "stream",
          "text": [
            "Setting default log level to \"WARN\".\n",
            "To adjust logging level use sc.setLogLevel(newLevel). For SparkR, use setLogLevel(newLevel).\n",
            "23/07/09 16:47:21 WARN NativeCodeLoader: Unable to load native-hadoop library for your platform... using builtin-java classes where applicable\n",
            "/Library/Frameworks/Python.framework/Versions/3.11/lib/python3.11/site-packages/pyspark/sql/context.py:112: FutureWarning: Deprecated in 3.0.0. Use SparkSession.builder.getOrCreate() instead.\n",
            "  warnings.warn(\n"
          ]
        }
      ],
      "source": [
        "%matplotlib inline\n",
        "from pyspark.sql import SparkSession\n",
        "from pyspark.sql import SQLContext\n",
        "from pyspark.sql.functions import isnan, isnull, when, count, col\n",
        "from pyspark.ml import feature, regression, evaluation, Pipeline\n",
        "from pyspark.mllib.evaluation import RegressionMetrics\n",
        "from pyspark.mllib.evaluation import BinaryClassificationMetrics\n",
        "from pyspark.mllib.evaluation import MulticlassMetrics\n",
        "from pyspark.ml.regression import LinearRegression\n",
        "import matplotlib.pyplot as plt; plt.rcdefaults()\n",
        "from pyspark.ml.classification import LogisticRegression, RandomForestClassifier\n",
        "from pyspark.ml.feature import VectorIndexer\n",
        "from pyspark.sql.types import FloatType\n",
        "from pyspark.ml import classification\n",
        "from pyspark.ml.classification import GBTClassifier\n",
        "from pyspark.sql import functions as fn\n",
        "from pyspark.sql.functions import abs\n",
        "from pyspark.sql.functions import col, expr, when\n",
        "from pyspark.sql.functions import dayofmonth\n",
        "from pyspark.sql.functions import month\n",
        "from pyspark.ml.evaluation import BinaryClassificationEvaluator, \\\n",
        "    MulticlassClassificationEvaluator, \\\n",
        "    RegressionEvaluator\n",
        "from pyspark.ml.tuning import CrossValidator, ParamGridBuilder\n",
        "import matplotlib.pyplot as plt\n",
        "import seaborn as sns\n",
        "import numpy as np\n",
        "import pandas as pd\n",
        "# seting master(\"local[*]\") enables multicore processing on all available logical cores on your machine\n",
        "spark = SparkSession\\\n",
        ".builder\\\n",
        ".master(\"local[*]\")\\\n",
        ".config(\"spark.memory.fraction\",0.8)\\\n",
        ".config(\"spark.executor.memory\",\"12g\")\\\n",
        ".config(\"spark.driver.memory\",\"12g\")\\\n",
        ".config(\"spark.memory.offHeap.enabled\",'true')\\\n",
        ".config(\"spark.memory.offHeap.size\",\"12g\")\\\n",
        ".config(\"spark.driver.maxResultSize\",\"0\")\\\n",
        ".getOrCreate()\n",
        "sc = spark.sparkContext\n",
        "sqlContext = SQLContext(sc)"
      ]
    },
    {
      "attachments": {},
      "cell_type": "markdown",
      "metadata": {
        "id": "0xgfkwH3VdAd"
      },
      "source": [
        "# Initial Set of Questions & Predictions\n",
        "Predictions:\n",
        "\n",
        "\n",
        "1.   For the end user/travel booking sites - predict how likely a flight departure is to be delayed based on airline, season, origin, time of day & more\n",
        "2.   For end user/airlines - predict how likely a flight arrival is to be delayed based on airline, season, origin, time of day & more\n",
        "1.   For end user/travel booking sites - predict how long a flight is likely to be delayed based on predictors\n",
        "2.   For end user/airlines - predict how likely a flight will have a weather delay\n",
        "\n",
        "\n",
        "\n",
        "Inferences:\n",
        "1.\tDoes time of day impact the chance a flight will be delayed?\n",
        "2.\tDoes the time of year / date impact the likelihood of a delay?\n",
        "3.\tHow do airlines compare in terms of how often delays occur?\n",
        "4.\tIf an origin flight is in an area known for bad weather, will there be more delays?\n",
        "5.\tAre origins/destinations a major factor when calculating a delay likelihood?\n",
        "6.\tIs there an optimal time of day that flights will be least likely to delay?\n",
        "7.\tWhich destinations are highly likely to have a delay?\n",
        "\n"
      ]
    },
    {
      "cell_type": "code",
      "execution_count": 3,
      "metadata": {
        "id": "U8KsjlUTgYZV"
      },
      "outputs": [],
      "source": [
        "enable_grid_search = True"
      ]
    },
    {
      "attachments": {},
      "cell_type": "markdown",
      "metadata": {
        "id": "e9g5PL3lHTkK"
      },
      "source": [
        "# Data Source\n",
        "The uncleaned data set has 28 columns and 7,213,446 rows. This data was found on Kaggle at this link the [Airline Delay and Cancellation Data](https://www.kaggle.com/datasets/yuanyuwendymu/airline-delay-and-cancellation-data-2009-2018). Some of the predictors in this data set are origin, destination airport, date of flight, airline carrier, planned departure time, distance, and a few others. The primary data set that we are working with will be the flight data from 2018. Due to the size limitation of Github uploads, we took a random sample of data from the original file with 7 million rows. The maximum reduced file that we could upload was 190,000 random rows.\n",
        "\n",
        "The code used to create the sample:\n",
        "\n",
        "\n",
        "```\n",
        "new = pd.read_csv('/Users/mcarvalheiro/Desktop/IST718/2018.csv')\n",
        "airline_sample = new.sample(n=190000)\n",
        "airline_csv_data = airline_sample.to_csv('DelaySubset2018.csv', index = True)\n",
        "\n",
        "```\n",
        "\n",
        "\n",
        "\n",
        "In order to get a deeper description of certain variables, there is a separate link to the [Bureau of Transporation Statistics](https://www.transtats.bts.gov/Fields.asp?gnoyr_VQ=FGK) that has more information. This link directs to a page that identifies the meaning of each of these variables. Variables such as WheelsOn, and TaxiIn for example are not as intuitive as DEP_TIME or ORIGIN.\n",
        "\n",
        "Now read the 2018 csv file into a spark data frame titled 'airline_df'"
      ]
    },
    {
      "cell_type": "code",
      "execution_count": 4,
      "metadata": {
        "id": "D8DwaDSQkmI8"
      },
      "outputs": [
        {
          "name": "stderr",
          "output_type": "stream",
          "text": [
            "                                                                                \r"
          ]
        }
      ],
      "source": [
        "airline_df = spark.read.csv('/Users/mcarvalheiro/Desktop/VS Code/IST718_FinalProject/data/DelaySubset2018.csv', header=True, inferSchema=True)"
      ]
    },
    {
      "attachments": {},
      "cell_type": "markdown",
      "metadata": {
        "id": "_3GwQXVgI2l3"
      },
      "source": [
        "To verify that the data was loaded in it's entirety display the airline_df information by using .info(). If the file is being manually loaded into Google Colab, it takes awhile for the full data set to be fully loaded - the *RangeIndex:* number should be 190000."
      ]
    },
    {
      "cell_type": "code",
      "execution_count": 5,
      "metadata": {
        "colab": {
          "base_uri": "https://localhost:8080/",
          "height": 678
        },
        "id": "x9NR8AmtnhMP",
        "outputId": "09a53758-5968-4489-bead-8f6be9029af7"
      },
      "outputs": [
        {
          "name": "stderr",
          "output_type": "stream",
          "text": [
            "23/07/09 16:48:26 WARN package: Truncated the string representation of a plan since it was too large. This behavior can be adjusted by setting 'spark.sql.debug.maxToStringFields'.\n",
            "23/07/09 16:48:26 WARN CSVHeaderChecker: CSV header does not conform to the schema.\n",
            " Header: , FL_DATE, OP_CARRIER, OP_CARRIER_FL_NUM, ORIGIN, DEST, CRS_DEP_TIME, DEP_TIME, DEP_DELAY, TAXI_OUT, WHEELS_OFF, WHEELS_ON, TAXI_IN, CRS_ARR_TIME, ARR_TIME, ARR_DELAY, CANCELLED, CANCELLATION_CODE, DIVERTED, CRS_ELAPSED_TIME, ACTUAL_ELAPSED_TIME, AIR_TIME, DISTANCE, CARRIER_DELAY, WEATHER_DELAY, NAS_DELAY, SECURITY_DELAY, LATE_AIRCRAFT_DELAY, Unnamed: 27\n",
            " Schema: _c0, FL_DATE, OP_CARRIER, OP_CARRIER_FL_NUM, ORIGIN, DEST, CRS_DEP_TIME, DEP_TIME, DEP_DELAY, TAXI_OUT, WHEELS_OFF, WHEELS_ON, TAXI_IN, CRS_ARR_TIME, ARR_TIME, ARR_DELAY, CANCELLED, CANCELLATION_CODE, DIVERTED, CRS_ELAPSED_TIME, ACTUAL_ELAPSED_TIME, AIR_TIME, DISTANCE, CARRIER_DELAY, WEATHER_DELAY, NAS_DELAY, SECURITY_DELAY, LATE_AIRCRAFT_DELAY, Unnamed: 27\n",
            "Expected: _c0 but found: \n",
            "CSV file: file:///Users/mcarvalheiro/Desktop/VS%20Code/IST718_FinalProject/data/DelaySubset2018.csv\n",
            "                                                                                \r"
          ]
        },
        {
          "name": "stdout",
          "output_type": "stream",
          "text": [
            "<class 'pandas.core.frame.DataFrame'>\n",
            "RangeIndex: 190000 entries, 0 to 189999\n",
            "Data columns (total 29 columns):\n",
            " #   Column               Non-Null Count   Dtype  \n",
            "---  ------               --------------   -----  \n",
            " 0   _c0                  190000 non-null  int32  \n",
            " 1   FL_DATE              190000 non-null  object \n",
            " 2   OP_CARRIER           190000 non-null  object \n",
            " 3   OP_CARRIER_FL_NUM    190000 non-null  int32  \n",
            " 4   ORIGIN               190000 non-null  object \n",
            " 5   DEST                 190000 non-null  object \n",
            " 6   CRS_DEP_TIME         190000 non-null  int32  \n",
            " 7   DEP_TIME             187021 non-null  float64\n",
            " 8   DEP_DELAY            186881 non-null  float64\n",
            " 9   TAXI_OUT             186922 non-null  float64\n",
            " 10  WHEELS_OFF           186922 non-null  float64\n",
            " 11  WHEELS_ON            186835 non-null  float64\n",
            " 12  TAXI_IN              186835 non-null  float64\n",
            " 13  CRS_ARR_TIME         190000 non-null  int32  \n",
            " 14  ARR_TIME             186835 non-null  float64\n",
            " 15  ARR_DELAY            186313 non-null  float64\n",
            " 16  CANCELLED            190000 non-null  float64\n",
            " 17  CANCELLATION_CODE    3096 non-null    object \n",
            " 18  DIVERTED             190000 non-null  float64\n",
            " 19  CRS_ELAPSED_TIME     190000 non-null  float64\n",
            " 20  ACTUAL_ELAPSED_TIME  186395 non-null  float64\n",
            " 21  AIR_TIME             186395 non-null  float64\n",
            " 22  DISTANCE             190000 non-null  float64\n",
            " 23  CARRIER_DELAY        35602 non-null   float64\n",
            " 24  WEATHER_DELAY        35602 non-null   float64\n",
            " 25  NAS_DELAY            35602 non-null   float64\n",
            " 26  SECURITY_DELAY       35602 non-null   float64\n",
            " 27  LATE_AIRCRAFT_DELAY  35602 non-null   float64\n",
            " 28  Unnamed: 27          0 non-null       object \n",
            "dtypes: float64(19), int32(4), object(6)\n",
            "memory usage: 39.1+ MB\n"
          ]
        },
        {
          "data": {
            "text/plain": [
              "None"
            ]
          },
          "metadata": {},
          "output_type": "display_data"
        }
      ],
      "source": [
        "display(airline_df.toPandas().info())"
      ]
    },
    {
      "attachments": {},
      "cell_type": "markdown",
      "metadata": {
        "id": "9s0cjgueqDnb"
      },
      "source": [
        "The most notable takeaway from this information output is that there are a lot of nulls that need to be dealt with before we are able to use this data in models. If the delay variables hae nulls - that means a delay was not recorded - so should fill the nulls of each delay variable we are focusing on (ARR_DELAY, DEP_DELAY, WEATHER_DELAY) with 0."
      ]
    },
    {
      "attachments": {},
      "cell_type": "markdown",
      "metadata": {
        "id": "Mq2c4UcXCyX9"
      },
      "source": [
        "# Drop Unnecessary Variables\n",
        "Since this data set is so massive, it would be good to consolidate the number of columns used as much as possible. The first variable that should be dropped is 'Unnamed: 27\". Also, 'OP_CARRIER_FL_NUM', 'TAXI_OUT', 'WHEELS_OFF', 'WHEELS_ON', and 'TAXI_IN' are all not relevant to the testing we want to run. Can take out the delay variables as well - be sure to keep WEATHER_DELAY."
      ]
    },
    {
      "cell_type": "code",
      "execution_count": 6,
      "metadata": {
        "colab": {
          "base_uri": "https://localhost:8080/"
        },
        "id": "YNyretCMFb1M",
        "outputId": "1d094d39-bd2a-4a89-9126-2d4bb3999224"
      },
      "outputs": [
        {
          "name": "stdout",
          "output_type": "stream",
          "text": [
            "+----------+----------+------+----+------------+--------+---------+------------+--------+---------+--------+--------+-------------+\n",
            "|   FL_DATE|OP_CARRIER|ORIGIN|DEST|CRS_DEP_TIME|DEP_TIME|DEP_DELAY|CRS_ARR_TIME|ARR_TIME|ARR_DELAY|AIR_TIME|DISTANCE|WEATHER_DELAY|\n",
            "+----------+----------+------+----+------------+--------+---------+------------+--------+---------+--------+--------+-------------+\n",
            "|2018-04-13|        B6|   DCA| MCO|         740|   931.0|    111.0|        1001|  1135.0|     94.0|   101.0|   759.0|          0.0|\n",
            "|2018-03-09|        WN|   CMH| LAS|        1650|  1648.0|     -2.0|        1820|  1821.0|      1.0|   260.0|  1771.0|         null|\n",
            "|2018-08-17|        DL|   ATL| CLT|        1752|  1753.0|      1.0|        1919|  1918.0|     -1.0|    47.0|   226.0|         null|\n",
            "|2018-03-14|        WN|   DAL| MSY|        1155|  1153.0|     -2.0|        1315|  1258.0|    -17.0|    55.0|   436.0|         null|\n",
            "|2018-07-30|        YX|   DCA| SDF|        1850|  1849.0|     -1.0|        2041|  2039.0|     -2.0|    77.0|   474.0|         null|\n",
            "|2018-05-13|        WN|   TUS| LAS|         630|   628.0|     -2.0|         745|   736.0|     -9.0|    54.0|   364.0|         null|\n",
            "|2018-02-13|        DL|   ATL| GSP|        1326|  1323.0|     -3.0|        1421|  1412.0|     -9.0|    27.0|   153.0|         null|\n",
            "|2018-02-09|        DL|   RNO| SLC|         600|   628.0|     28.0|         843|   848.0|      5.0|    57.0|   422.0|         null|\n",
            "|2018-01-23|        WN|   AUS| EWR|        1055|  1120.0|     25.0|        1530|  1536.0|      6.0|   178.0|  1504.0|         null|\n",
            "|2018-07-13|        WN|   SAN| OAK|        2055|  2055.0|      0.0|        2215|  2221.0|      6.0|    62.0|   446.0|         null|\n",
            "|2018-04-02|        EV|   AEX| IAH|        1215|  1205.0|    -10.0|        1323|  1326.0|      3.0|    48.0|   190.0|         null|\n",
            "|2018-11-13|        AA|   DFW| SEA|        1845|  1849.0|      4.0|        2122|  2106.0|    -16.0|   230.0|  1660.0|         null|\n",
            "|2018-10-19|        F9|   MSP| CVG|         944|   932.0|    -12.0|        1245|  1208.0|    -37.0|    76.0|   596.0|         null|\n",
            "|2018-04-05|        UA|   FLL| ORD|        1059|  1050.0|     -9.0|        1320|  1303.0|    -17.0|   173.0|  1182.0|         null|\n",
            "|2018-07-01|        HA|   HNL| LIH|         519|   513.0|     -6.0|         557|   549.0|     -8.0|    21.0|   102.0|         null|\n",
            "|2018-08-16|        WN|   LAX| SJC|        1110|  1109.0|     -1.0|        1220|  1211.0|     -9.0|    46.0|   308.0|         null|\n",
            "|2018-03-10|        UA|   ONT| DEN|         530|   523.0|     -7.0|         850|   822.0|    -28.0|   102.0|   819.0|         null|\n",
            "|2018-10-12|        YV|   LGA| IAD|        1450|  1615.0|     85.0|        1613|  1729.0|     76.0|    47.0|   229.0|          0.0|\n",
            "|2018-02-09|        AS|   KOA| OAK|        1745|  1735.0|    -10.0|          44|    55.0|     11.0|   305.0|  2378.0|         null|\n",
            "|2018-01-21|        F9|   RSW| CVG|        1815|  1811.0|     -4.0|        2049|  2037.0|    -12.0|   123.0|   879.0|         null|\n",
            "+----------+----------+------+----+------------+--------+---------+------------+--------+---------+--------+--------+-------------+\n",
            "only showing top 20 rows\n",
            "\n"
          ]
        }
      ],
      "source": [
        "#Drop all variables that we are not interesting in using - then store into a new data frame\n",
        "delay_df = airline_df.\\\n",
        "    drop('_c0', 'Unnamed: 27', 'TAXI_OUT', 'TAXI_IN', 'WHEELS_OFF',\n",
        "          'WHEELS_ON', 'OP_CARRIER_FL_NUM', 'DIVERTED', 'CANCELLED',\n",
        "          'CANCELLATION_CODE', 'NAS_DELAY', 'SECURITY_DELAY', 'LATE_AIRCRAFT_DELAY',\n",
        "          'CARRIER_DELAY', 'CRS_ELAPSED_TIME', 'ACTUAL_ELAPSED_TIME')\n",
        "#Look at results\n",
        "delay_df.show()"
      ]
    },
    {
      "attachments": {},
      "cell_type": "markdown",
      "metadata": {
        "id": "eJIMYzliEXli"
      },
      "source": [
        "# Cleaning the Data\n",
        "Extract the day of month, and the month from the FL_DATE column. These variables could provide insight to some of our initial questions."
      ]
    },
    {
      "cell_type": "code",
      "execution_count": null,
      "metadata": {
        "id": "eja1olBQ6Hfe"
      },
      "outputs": [],
      "source": [
        "#Extract day of month, and month from the date\n",
        "delay_df = delay_df.withColumn('DayOfMonth',dayofmonth(airline_df.FL_DATE))\n",
        "delay_df = delay_df.withColumn('FlightMonth',month(airline_df.FL_DATE))\n",
        "# delay_df.show()"
      ]
    },
    {
      "attachments": {},
      "cell_type": "markdown",
      "metadata": {
        "id": "ncly4hiW12Qx"
      },
      "source": [
        "### Decode Carriers\n",
        "The carriers/airlines are difficult to interpret in their current form of carrier code. Should decode this to make output easier to understand during exploration."
      ]
    },
    {
      "cell_type": "code",
      "execution_count": null,
      "metadata": {
        "colab": {
          "base_uri": "https://localhost:8080/"
        },
        "id": "nv17Yb3UqsSO",
        "outputId": "a312b875-06f7-4b35-ed5a-2a7b69a9d0dd"
      },
      "outputs": [
        {
          "name": "stdout",
          "output_type": "stream",
          "text": [
            "+----------+\n",
            "|OP_CARRIER|\n",
            "+----------+\n",
            "|UA        |\n",
            "|NK        |\n",
            "|AA        |\n",
            "|EV        |\n",
            "|B6        |\n",
            "|DL        |\n",
            "|OO        |\n",
            "|F9        |\n",
            "|YV        |\n",
            "|MQ        |\n",
            "|OH        |\n",
            "|HA        |\n",
            "|G4        |\n",
            "|YX        |\n",
            "|AS        |\n",
            "|VX        |\n",
            "|WN        |\n",
            "|9E        |\n",
            "+----------+\n",
            "\n"
          ]
        }
      ],
      "source": [
        "delay_df.select('OP_CARRIER').distinct().show(truncate=False)"
      ]
    },
    {
      "cell_type": "code",
      "execution_count": null,
      "metadata": {
        "id": "AFKcV72M2NWz"
      },
      "outputs": [],
      "source": [
        "carrierDic = {'AA':'American Airlines', 'AS':'Alaska Airline', 'B6':'JetBlue Airways',\n",
        "              'DL':'Delta Lines Inc.', 'F9':'Frontier Airlines Inc.', 'G4':'Allegiant Air',\n",
        "              'HA':'Hawaiian Airlines Inc.', 'NK':'Spirit Air Lines', 'UA':'United Air Lines Inc.',\n",
        "              'VX':'Virgin America', 'WN':'Southwest Airlines Co.', 'EV':'ExpressJet Airlines LLC',\n",
        "              'OO':'SkyWest Airlines Inc.', 'YV':'Mesa Airlines Inc.', 'MQ':'Envoy Air',\n",
        "              'OH':'PSA Airlines Inc.', 'YX':'Republic Airline', '9E':'Endeavor Air Inc.'}\n",
        "\n",
        "delay_df = delay_df.replace(carrierDic, subset=['OP_CARRIER'])\n",
        "# delay_df.show()"
      ]
    },
    {
      "cell_type": "code",
      "execution_count": null,
      "metadata": {
        "id": "_ueO86H6iXd-"
      },
      "outputs": [],
      "source": [
        "# display(delay_df.toPandas().info())"
      ]
    },
    {
      "attachments": {},
      "cell_type": "markdown",
      "metadata": {
        "id": "DIRqNRznaRpl"
      },
      "source": [
        "Check the unique values for *ORIGIN*, and *DEST*. There are a lot of unique *ORIGIN* and *DEST* values."
      ]
    },
    {
      "cell_type": "code",
      "execution_count": null,
      "metadata": {
        "colab": {
          "base_uri": "https://localhost:8080/"
        },
        "id": "wSV4saDpEVFe",
        "outputId": "c30d4f8d-c91f-4257-c64c-0d908e045b83"
      },
      "outputs": [
        {
          "data": {
            "text/plain": [
              "351"
            ]
          },
          "execution_count": 9,
          "metadata": {},
          "output_type": "execute_result"
        }
      ],
      "source": [
        "delay_df.select('ORIGIN').distinct().count()"
      ]
    },
    {
      "cell_type": "code",
      "execution_count": null,
      "metadata": {
        "colab": {
          "base_uri": "https://localhost:8080/"
        },
        "id": "7yrOjP3kEc5F",
        "outputId": "bb4ba299-e0f7-4fc8-9e11-8d08fd6f4cfd"
      },
      "outputs": [
        {
          "data": {
            "text/plain": [
              "354"
            ]
          },
          "execution_count": 10,
          "metadata": {},
          "output_type": "execute_result"
        }
      ],
      "source": [
        "delay_df.select('DEST').distinct().count()"
      ]
    },
    {
      "attachments": {},
      "cell_type": "markdown",
      "metadata": {
        "id": "1QOTYNaLiC0L"
      },
      "source": [
        "# Handle the Nulls\n",
        "Since weather delay is going to be used later on in one of our models, we need to replace the null values with zero. After this step is complete, we need to drop the rest of the observations that had null values. Replacing each null with zero would not work for other variables such as depart time, so discarding the rest of the observations with null values is the only solution that makes sense."
      ]
    },
    {
      "cell_type": "code",
      "execution_count": null,
      "metadata": {
        "id": "6pDsNtQHg_iP"
      },
      "outputs": [],
      "source": [
        "#First fill all nulls in the arrival, departure, and weather delay column with 0, store results in new data frame\n",
        "delay_df_fillnull = delay_df.fillna(0, subset=['WEATHER_DELAY', 'ARR_DELAY', 'DEP_DELAY'])\n",
        "#From this data frame, drop all remaining nulls - models won't run otherwise\n",
        "delay_nonnull = delay_df_fillnull.dropna()\n",
        "# display(delay_nonnull.toPandas().info())"
      ]
    },
    {
      "attachments": {},
      "cell_type": "markdown",
      "metadata": {
        "id": "Ned6_KOtikNo"
      },
      "source": [
        "After dropping all null values remaining, the resulting data frame has 186,395 observations."
      ]
    },
    {
      "attachments": {},
      "cell_type": "markdown",
      "metadata": {
        "id": "tEDLvh03nR0s"
      },
      "source": [
        "# Set Up Binary Target Columns Needed for Logistic Models"
      ]
    },
    {
      "attachments": {},
      "cell_type": "markdown",
      "metadata": {
        "id": "hcsjnVWlnjUC"
      },
      "source": [
        "### Creating the Classification Targets\n",
        "For this variable we are capturing if a delay was recorded as a value higher than 0 - return 1, if the value is less than or equal to 0 then return 0. Since the WEATHER_DELAY column is recorded in minutes, a positive value here means that there was a time delay due to weather. The same is done for the arrival delay and depart delay respectively."
      ]
    },
    {
      "cell_type": "code",
      "execution_count": null,
      "metadata": {
        "colab": {
          "base_uri": "https://localhost:8080/"
        },
        "id": "8Drej2zjmMdQ",
        "outputId": "e2fa464b-c10f-4875-8ba1-b5ad0ec95b35"
      },
      "outputs": [
        {
          "name": "stdout",
          "output_type": "stream",
          "text": [
            "+-------------------+--------------------+------+----+------------+--------+---------+------------+--------+---------+--------+--------+-------------+----------+-----------+--------------+-------------+--------------+\n",
            "|            FL_DATE|          OP_CARRIER|ORIGIN|DEST|CRS_DEP_TIME|DEP_TIME|DEP_DELAY|CRS_ARR_TIME|ARR_TIME|ARR_DELAY|AIR_TIME|DISTANCE|WEATHER_DELAY|DayOfMonth|FlightMonth|IsWeatherDelay|IsDepartDelay|IsArrivalDelay|\n",
            "+-------------------+--------------------+------+----+------------+--------+---------+------------+--------+---------+--------+--------+-------------+----------+-----------+--------------+-------------+--------------+\n",
            "|2018-04-13 00:00:00|     JetBlue Airways|   DCA| MCO|         740|   931.0|    111.0|        1001|  1135.0|     94.0|   101.0|   759.0|          0.0|        13|          4|             0|            1|             1|\n",
            "|2018-03-09 00:00:00|Southwest Airline...|   CMH| LAS|        1650|  1648.0|     -2.0|        1820|  1821.0|      1.0|   260.0|  1771.0|          0.0|         9|          3|             0|            0|             1|\n",
            "|2018-08-17 00:00:00|    Delta Lines Inc.|   ATL| CLT|        1752|  1753.0|      1.0|        1919|  1918.0|     -1.0|    47.0|   226.0|          0.0|        17|          8|             0|            1|             0|\n",
            "|2018-03-14 00:00:00|Southwest Airline...|   DAL| MSY|        1155|  1153.0|     -2.0|        1315|  1258.0|    -17.0|    55.0|   436.0|          0.0|        14|          3|             0|            0|             0|\n",
            "|2018-07-30 00:00:00|    Republic Airline|   DCA| SDF|        1850|  1849.0|     -1.0|        2041|  2039.0|     -2.0|    77.0|   474.0|          0.0|        30|          7|             0|            0|             0|\n",
            "|2018-05-13 00:00:00|Southwest Airline...|   TUS| LAS|         630|   628.0|     -2.0|         745|   736.0|     -9.0|    54.0|   364.0|          0.0|        13|          5|             0|            0|             0|\n",
            "|2018-02-13 00:00:00|    Delta Lines Inc.|   ATL| GSP|        1326|  1323.0|     -3.0|        1421|  1412.0|     -9.0|    27.0|   153.0|          0.0|        13|          2|             0|            0|             0|\n",
            "|2018-02-09 00:00:00|    Delta Lines Inc.|   RNO| SLC|         600|   628.0|     28.0|         843|   848.0|      5.0|    57.0|   422.0|          0.0|         9|          2|             0|            1|             1|\n",
            "|2018-01-23 00:00:00|Southwest Airline...|   AUS| EWR|        1055|  1120.0|     25.0|        1530|  1536.0|      6.0|   178.0|  1504.0|          0.0|        23|          1|             0|            1|             1|\n",
            "|2018-07-13 00:00:00|Southwest Airline...|   SAN| OAK|        2055|  2055.0|      0.0|        2215|  2221.0|      6.0|    62.0|   446.0|          0.0|        13|          7|             0|            0|             1|\n",
            "|2018-04-02 00:00:00|ExpressJet Airlin...|   AEX| IAH|        1215|  1205.0|    -10.0|        1323|  1326.0|      3.0|    48.0|   190.0|          0.0|         2|          4|             0|            0|             1|\n",
            "|2018-11-13 00:00:00|   American Airlines|   DFW| SEA|        1845|  1849.0|      4.0|        2122|  2106.0|    -16.0|   230.0|  1660.0|          0.0|        13|         11|             0|            1|             0|\n",
            "|2018-10-19 00:00:00|Frontier Airlines...|   MSP| CVG|         944|   932.0|    -12.0|        1245|  1208.0|    -37.0|    76.0|   596.0|          0.0|        19|         10|             0|            0|             0|\n",
            "|2018-04-05 00:00:00|United Air Lines ...|   FLL| ORD|        1059|  1050.0|     -9.0|        1320|  1303.0|    -17.0|   173.0|  1182.0|          0.0|         5|          4|             0|            0|             0|\n",
            "|2018-07-01 00:00:00|Hawaiian Airlines...|   HNL| LIH|         519|   513.0|     -6.0|         557|   549.0|     -8.0|    21.0|   102.0|          0.0|         1|          7|             0|            0|             0|\n",
            "|2018-08-16 00:00:00|Southwest Airline...|   LAX| SJC|        1110|  1109.0|     -1.0|        1220|  1211.0|     -9.0|    46.0|   308.0|          0.0|        16|          8|             0|            0|             0|\n",
            "|2018-03-10 00:00:00|United Air Lines ...|   ONT| DEN|         530|   523.0|     -7.0|         850|   822.0|    -28.0|   102.0|   819.0|          0.0|        10|          3|             0|            0|             0|\n",
            "|2018-10-12 00:00:00|  Mesa Airlines Inc.|   LGA| IAD|        1450|  1615.0|     85.0|        1613|  1729.0|     76.0|    47.0|   229.0|          0.0|        12|         10|             0|            1|             1|\n",
            "|2018-02-09 00:00:00|      Alaska Airline|   KOA| OAK|        1745|  1735.0|    -10.0|          44|    55.0|     11.0|   305.0|  2378.0|          0.0|         9|          2|             0|            0|             1|\n",
            "|2018-01-21 00:00:00|Frontier Airlines...|   RSW| CVG|        1815|  1811.0|     -4.0|        2049|  2037.0|    -12.0|   123.0|   879.0|          0.0|        21|          1|             0|            0|             0|\n",
            "+-------------------+--------------------+------+----+------------+--------+---------+------------+--------+---------+--------+--------+-------------+----------+-----------+--------------+-------------+--------------+\n",
            "only showing top 20 rows\n",
            "\n"
          ]
        }
      ],
      "source": [
        "#Creating the Weather Delay Binary\n",
        "IS_WEATHER_DELAY = expr(\n",
        "    \"\"\"IF(WEATHER_DELAY > 0, 1, 0)\"\"\"\n",
        ")\n",
        "delay_nonnull = delay_nonnull.withColumn(\"IsWeatherDelay\", IS_WEATHER_DELAY)\n",
        "\n",
        "#Creating the Depart Delay Binary\n",
        "IS_DEPART_DELAY = expr(\n",
        "    \"\"\"IF(DEP_DELAY > 0, 1, 0)\"\"\"\n",
        ")\n",
        "delay_nonnull = delay_nonnull.withColumn(\"IsDepartDelay\", IS_DEPART_DELAY )\n",
        "\n",
        "#Creating the Arrival Delay Binary\n",
        "IS_ARRIVAL_DELAY = expr(\n",
        "    \"\"\"IF(ARR_DELAY > 0, 1, 0)\"\"\"\n",
        ")\n",
        "delay_nonnull = delay_nonnull.withColumn(\"IsArrivalDelay\", IS_ARRIVAL_DELAY)\n",
        "delay_nonnull.show()"
      ]
    },
    {
      "attachments": {},
      "cell_type": "markdown",
      "metadata": {
        "id": "RaXBOb9Kz8wH"
      },
      "source": [
        "# New Variables: Binning\n",
        "We are going to bin variables such as flight month, and expected depart time - see how our models may perform with one or the other.\n"
      ]
    },
    {
      "cell_type": "code",
      "execution_count": null,
      "metadata": {
        "id": "1hpMn0238b_u"
      },
      "outputs": [],
      "source": [
        "#Create a season column variable that bins based on month\n",
        "delay_nonnull = delay_nonnull.withColumn('Flight_Season',\n",
        "                                     when((col('FlightMonth') == 12) | (col('FlightMonth') == 1) | (col('FlightMonth') == 2), 'Winter').\\\n",
        "                                     when((col('FlightMonth') == 3) | (col('FlightMonth') == 4) | (col('FlightMonth') == 5), 'Spring').\\\n",
        "                                     when((col('FlightMonth') == 6) | (col('FlightMonth') == 7) | (col('FlightMonth') == 8), 'Summer').\\\n",
        "                                     when((col('FlightMonth') == 9) | (col('FlightMonth') == 10) | (col('FlightMonth') == 11), 'Autumn'))\n",
        "\n",
        "#Create a depart time of day (TOD) column that bins expected departure time\n",
        "delay_nonnull = delay_nonnull.withColumn('Flight_ExpDepTOD',\n",
        "                                     when((col('CRS_DEP_TIME') >= 500) & (col('CRS_DEP_TIME') <= 1200), 'Morning').\\\n",
        "                                     when((col('CRS_DEP_TIME') >= 1201) & (col('CRS_DEP_TIME') <= 1700), 'Afternoon').\\\n",
        "                                     when((col('CRS_DEP_TIME') >= 1701) & (col('CRS_DEP_TIME') <= 2100), 'Evening').\\\n",
        "                                     otherwise('Night'))\n",
        "\n",
        "#Create a arrival time of day (TOD) column that bins expected arrival time\n",
        "delay_nonnull = delay_nonnull.withColumn('Flight_ExpArrTOD',\n",
        "                                     when((col('CRS_ARR_TIME') >= 500) & (col('CRS_ARR_TIME') <= 1200), 'Morning').\\\n",
        "                                     when((col('CRS_ARR_TIME') >= 1201) & (col('CRS_ARR_TIME') <= 1700), 'Afternoon').\\\n",
        "                                     when((col('CRS_ARR_TIME') >= 1701) & (col('CRS_ARR_TIME') <= 2100), 'Evening').\\\n",
        "                                     otherwise('Night'))\n",
        "\n"
      ]
    },
    {
      "attachments": {},
      "cell_type": "markdown",
      "metadata": {
        "id": "dxMTL2i0GFka"
      },
      "source": [
        "# Preliminary Data Exploration Graphs\n",
        "Looking at the distributions of these variables in itself can be very telling of underlying trends within the data. Creating a graph of distribution of observations by airline would be useful to see which carriers are sending out the most flights in this data set. The same should be done for city/region. It may be useful to also create a pairplot using our cleaned data.\n",
        "\n",
        "Adding a summary table of the numeric variables is essential as well in order to get a quick understanding of the distributions of all of the variables."
      ]
    },
    {
      "attachments": {},
      "cell_type": "markdown",
      "metadata": {
        "id": "pUCyrzv0cFwf"
      },
      "source": [
        "## Delay by Airline"
      ]
    },
    {
      "cell_type": "code",
      "execution_count": null,
      "metadata": {
        "id": "FtNmgzOAJupR"
      },
      "outputs": [],
      "source": [
        "#Create df that groups by airline and gets the sum of delay for each\n",
        "airline_df = delay_nonnull.groupby('OP_CARRIER').agg({'IsArrivalDelay':'sum'})\n",
        "#Create another df that groups by flight month and gets the count of each origin\n",
        "airline_df_1 = delay_nonnull.groupby('OP_CARRIER').agg({'OP_CARRIER':'count'})\n",
        "#Left join the origin_weather_df with the origin_weather_df_1\n",
        "total_airline = airline_df.join(airline_df_1, on = ['OP_CARRIER'], how = 'left')\n",
        "#Get the percentage of weather delays compared to total flights by origin - see how they compare\n",
        "final_airline = total_airline.withColumn('PctArrivalDelay', ((fn.col('sum(IsArrivalDelay)') / fn.col('count(OP_CARRIER)') * 100))). \\\n",
        "                                            withColumnRenamed('sum(IsArrivalDelay)', 'TotalArrivalDelay').\\\n",
        "                                            withColumnRenamed('count(OP_CARRIER)', 'TotalFlights')\n",
        "\n",
        "#Order by number of weather delays - see if areas known for bad weather are more likely to have a weather delay\n",
        "final_airline = final_airline.orderBy('PctArrivalDelay', ascending = False)"
      ]
    },
    {
      "cell_type": "code",
      "execution_count": null,
      "metadata": {
        "colab": {
          "base_uri": "https://localhost:8080/",
          "height": 472
        },
        "id": "O2v1DzXmdMYX",
        "outputId": "d9900976-a2e3-4c8c-d625-1b745026104f"
      },
      "outputs": [
        {
          "data": {
            "image/png": "[encoded data removed]",
            "text/plain": [
              "<Figure size 640x480 with 1 Axes>"
            ]
          },
          "metadata": {},
          "output_type": "display_data"
        }
      ],
      "source": [
        "#Create a bar chart that identifies the 8 highest arrival delay percentages\n",
        "#Make a horizontal bar chart so that it is easier to reach the airline names\n",
        "final_airline_graph = final_airline.limit(8).toPandas()\n",
        "ax = final_airline_graph.plot.barh(x='OP_CARRIER', y='PctArrivalDelay', rot=0, alpha=0.4)\n",
        "\n",
        "plt.xlabel('Percentage of Flights Delayed')\n",
        "plt.ylabel('Airline')\n",
        "plt.title('Arrival Delay by Airline')\n",
        "\n",
        "plt.show()"
      ]
    },
    {
      "cell_type": "code",
      "execution_count": null,
      "metadata": {
        "colab": {
          "base_uri": "https://localhost:8080/",
          "height": 697
        },
        "id": "e2iJK_wxiGzX",
        "outputId": "a79940a5-e67a-4d81-f466-9efb11968a0d"
      },
      "outputs": [
        {
          "data": {
            "image/png": "[encoded data removed]",
            "text/plain": [
              "<Figure size 1120x800 with 1 Axes>"
            ]
          },
          "metadata": {},
          "output_type": "display_data"
        }
      ],
      "source": [
        "#Diverging Bar Chart for Airline Departure Delay\n",
        "\n",
        "# Prepare Data\n",
        "departcount_df = delay_nonnull.groupby('OP_CARRIER').agg({'IsDepartDelay':'sum', 'OP_CARRIER':'count'})\n",
        "final_depairline_df = departcount_df.withColumn('PctDepartDelay', ((fn.col('sum(IsDepartDelay)') / fn.col('count(OP_CARRIER)') * 100))). \\\n",
        "                                            withColumnRenamed('sum(IsDepartDelay)', 'TotalDepartureDelays').\\\n",
        "                                            withColumnRenamed('count(OP_CARRIER)', 'TotalFlights').toPandas()\n",
        "x = final_depairline_df.loc[:, ['PctDepartDelay']]\n",
        "final_depairline_df['depdelay_zscore'] = (x - x.mean())/x.std()\n",
        "final_depairline_df['colors'] = ['red' if x > 0 else 'green' for x in final_depairline_df['depdelay_zscore']]\n",
        "final_depairline_df.sort_values('depdelay_zscore', inplace=True)\n",
        "final_depairline_df.reset_index(inplace=True)\n",
        "\n",
        "# Draw plot\n",
        "plt.figure(figsize=(14,10), dpi= 80)\n",
        "plt.hlines(y=final_depairline_df.index, xmin=0, xmax=final_depairline_df.depdelay_zscore, color=final_depairline_df.colors, alpha=0.4, linewidth=5)\n",
        "plt.xlabel('Percent of Flights with a Departure Delay')\n",
        "plt.ylabel('Airline')\n",
        "plt.title('Diverted Bar Chart of Departure Delay Percentage by Airline')\n",
        "plt.yticks(final_depairline_df.index, final_depairline_df.OP_CARRIER, fontsize=12)\n",
        "plt.grid(linestyle='dotted', alpha=0.5)\n",
        "plt.show()"
      ]
    },
    {
      "attachments": {},
      "cell_type": "markdown",
      "metadata": {
        "id": "Mi1W5QjLqxx4"
      },
      "source": [
        "### Arrival Delay by Airline:\n",
        "1.   F9 - Frontier Airlines Inc.: 1417, 45.17%\n",
        "1.   B6 - JetBlue Airways: 3216, 41.96%\n",
        "1.   OH - PSA Airlines Inc.: 2793, 39.45%\n",
        "1.   G4 - Allegiant Air: 1011, 39.40%\n",
        "1.   WN - Southwest Airlines Co.: 13351, 38.29%\n",
        "2.   YV - Mesa Airlines Inc.: 2107, 38.21%\n",
        "1.   AA - American Airlines: 8964, 37.77%\n",
        "2.   MQ - Envoy Air: 2754, 36.98%\n",
        "2.   OO - SkyWest Airlines Inc.: 7089, 35.44%\n",
        "2.   AS - Alaska Airline: 2252, 35.16%\n",
        "2.   EV - ExpressJet Airlines LLC: 1847, 35.13%\n",
        "1.   UA - United Air Lines Inc.: 5646, 34.67%\n",
        "2.   VX - Virgin America: 149, 34.41%\n",
        "2.   YX - Republic Airline: 2661, 33.33%\n",
        "2.   HA - Hawaiian Airlines Inc.: 715, 32.49%\n",
        "1.   NK - Spirit Air Lines: 1455, 31.45%\n",
        "2.   9E - Endeavor Air Inc.: 1878, 31.18%\n",
        "1.   DL - Delta Lines Inc.: 7004, 28.06%\n",
        "\n",
        "\n",
        "\n",
        "\n",
        "\n",
        "\n",
        "\n",
        "\n",
        "\n",
        "\n",
        "\n",
        "\n",
        "\n",
        "### Departure Delay by Airline:\n",
        "\n",
        "\n",
        "1.   WN - Southwest Airlines Co.: 17354, 49.77%\n",
        "1.   F9 - Frontier Airlines Inc.: 1421, 45.30%\n",
        "1.   B6 - JetBlue Airways: 3166, 41.30%\n",
        "1.   OH - PSA Airlines Inc.: 2685, 37.92%\n",
        "1.   AA - American Airlines: 8429, 35.52%\n",
        "1.   G4 - Allegiant Air: 911, 35.50%\n",
        "1.   DL - Delta Lines Inc.: 7653, 30.66%\n",
        "1.   NK - Spirit Air Lines: 1357, 29.33%\n",
        "1.   UA - United Air Lines Inc.: 4772, 29.30%\n",
        "2.   MQ - Envoy Air: 2181, 29.28%\n",
        "2.   VX - Virgin America: 126, 29.01%\n",
        "2.   YV - Mesa Airlines Inc.: 1580, 28.65%\n",
        "2.   9E - Endeavor Air Inc.: 1677, 27.84%\n",
        "2.   EV - ExpressJet Airlines LLC: 1438, 27.35%\n",
        "2.   AS - Alaska Airline: 1717, 26.81%\n",
        "2.   OO - SkyWest Airlines Inc.: 5330, 26.65%\n",
        "2.   HA - Hawaiian Airlines Inc.: 563, 25.57%\n",
        "2.   YX - Republic Airline: 1990, 24.93%\n",
        "\n"
      ]
    },
    {
      "attachments": {},
      "cell_type": "markdown",
      "metadata": {
        "id": "VbNJJffAcBh8"
      },
      "source": [
        "## Delay by Flight Season"
      ]
    },
    {
      "cell_type": "code",
      "execution_count": null,
      "metadata": {
        "colab": {
          "base_uri": "https://localhost:8080/"
        },
        "id": "WXZGFMt40B4D",
        "outputId": "28a7a988-9ac2-484a-9b3a-dd7a42e45ffe"
      },
      "outputs": [
        {
          "name": "stdout",
          "output_type": "stream",
          "text": [
            "+-------------+----------------+------------+------------------+\n",
            "|Flight_Season|TotalDepartDelay|TotalFlights|    PctFlightDelay|\n",
            "+-------------+----------------+------------+------------------+\n",
            "|       Summer|           19139|       49578| 38.60381620880229|\n",
            "|       Winter|           14878|       43474| 34.22275382987533|\n",
            "|       Spring|           15827|       46877|33.762826119418904|\n",
            "|       Autumn|           14532|       46466|31.274480265140102|\n",
            "+-------------+----------------+------------+------------------+\n",
            "\n"
          ]
        }
      ],
      "source": [
        "\n",
        "#Create df that groups by flight season and gets the sum of isweatherdelay for each\n",
        "month_weather_df = delay_nonnull.groupby('Flight_Season').agg({'IsDepartDelay':'sum'})\n",
        "# month_weather_df = delay_nonnull.groupby('FlightMonth').agg({'IsWeatherDelay':'sum'})\n",
        "#Create another df that groups by flight month and gets the count of each origin\n",
        "month_weather_df_1 = delay_nonnull.groupby('Flight_Season').agg({'Flight_Season':'count'})\n",
        "# month_weather_df_1 = delay_nonnull.groupby('FlightMonth').agg({'FlightMonth':'count'})\n",
        "#Left join the origin_weather_df with the origin_weather_df_1\n",
        "total_month_weather = month_weather_df.join(month_weather_df_1, on = ['Flight_Season'], how = 'left')\n",
        "#Get the percentage of weather delays compared to total flights by origin - see how they compare\n",
        "final_month_weather = total_month_weather.withColumn('PctFlightDelay', ((fn.col('sum(IsDepartDelay)') / fn.col('count(Flight_Season)') * 100))). \\\n",
        "                                            withColumnRenamed('sum(IsDepartDelay)', 'TotalDepartDelay').\\\n",
        "                                            withColumnRenamed('count(Flight_Season)', 'TotalFlights')\n",
        "\n",
        "#Order by number of weather delays - see if areas known for bad weather are more likely to have a weather delay\n",
        "final_month_weather.orderBy('PctFlightDelay', ascending = False).show()"
      ]
    },
    {
      "cell_type": "code",
      "execution_count": null,
      "metadata": {
        "colab": {
          "base_uri": "https://localhost:8080/",
          "height": 472
        },
        "id": "bAtsEbsOZ5QR",
        "outputId": "7dee505f-c41d-45bc-887c-b54de9950643"
      },
      "outputs": [
        {
          "data": {
            "image/png": "[encoded data removed]",
            "text/plain": [
              "<Figure size 640x480 with 1 Axes>"
            ]
          },
          "metadata": {},
          "output_type": "display_data"
        }
      ],
      "source": [
        "#Create multi bar chart that looks at the count of each delay type for each time of day category\n",
        "season_weather_df = delay_nonnull.groupby('Flight_Season').agg({'IsDepartDelay':'sum', 'IsArrivalDelay':'sum', 'IsWeatherDelay':'sum'}).\\\n",
        "                                withColumnRenamed('sum(IsDepartDelay)', 'TotalDepartDelay').\\\n",
        "                                withColumnRenamed('sum(IsArrivalDelay)', 'TotalArrivalDelay').\\\n",
        "                                withColumnRenamed('sum(IsWeatherDelay)', 'TotalWeatherDelay')\n",
        "final_season_graph = season_weather_df.toPandas()\n",
        "ax = final_season_graph.plot.bar(x='Flight_Season',rot=0, color=['blue', 'red', 'green'], alpha=0.4)\n",
        "\n",
        "plt.xlabel('Season')\n",
        "plt.ylabel('Total Count of Arrival Delays')\n",
        "plt.title('Arrival Delay Count by Season')\n",
        "\n",
        "\n",
        "plt.show()"
      ]
    },
    {
      "attachments": {},
      "cell_type": "markdown",
      "metadata": {
        "id": "BAoEEbfKH6B2"
      },
      "source": [
        "### Weather Delay by Season\n",
        "1.   Summer: 828, 1.67%\n",
        "1.   Winter: 557, 1.28%\n",
        "2.   Spring: 459, 0.98%\n",
        "2.   Autumn: 442, 0.95%\n",
        "\n",
        "### Arrival Delay by Season\n",
        "1.   Summer: 19291, 38.98%\n",
        "1.   Spring: 16237, 34.70%\n",
        "2.   Winter: 14916, 34.34%\n",
        "2.   Autumn: 15865, 34.14%\n",
        "\n",
        "### Departure Delay by Season\n",
        "\n",
        "1.   Summer: 19125, 38.64%\n",
        "1.   Winter: 14874, 34.24%\n",
        "2.   Spring: 15819, 33.81%\n",
        "2.   Autumn: 14532, 31.27%"
      ]
    },
    {
      "attachments": {},
      "cell_type": "markdown",
      "metadata": {
        "id": "cHxGYWzKb503"
      },
      "source": [
        "## Weather Delay by Origin"
      ]
    },
    {
      "cell_type": "code",
      "execution_count": null,
      "metadata": {
        "colab": {
          "base_uri": "https://localhost:8080/"
        },
        "id": "m7ccPkH63jyd",
        "outputId": "3d1d7862-7a4b-4633-89c9-24645076afd6"
      },
      "outputs": [
        {
          "name": "stdout",
          "output_type": "stream",
          "text": [
            "+------+-----------------+------------+---------------------+\n",
            "|ORIGIN|TotalWeatherDelay|TotalFlights|PctFlightWeatherDelay|\n",
            "+------+-----------------+------------+---------------------+\n",
            "|   PIE|                9|         198|    4.545454545454546|\n",
            "|   SFB|                9|         242|     3.71900826446281|\n",
            "|   MIA|               71|        2277|   3.1181379007465964|\n",
            "|   ORD|              263|        8578|     3.06598274656097|\n",
            "|   JAN|                6|         218|   2.7522935779816518|\n",
            "|   DFW|              182|        7149|    2.545810602881522|\n",
            "|   MCO|               92|        3641|   2.5267783575940674|\n",
            "|   GRR|               11|         442|     2.48868778280543|\n",
            "|   XNA|                7|         310|    2.258064516129032|\n",
            "|   ATL|              224|       10129|     2.21147201105736|\n",
            "+------+-----------------+------------+---------------------+\n",
            "only showing top 10 rows\n",
            "\n"
          ]
        }
      ],
      "source": [
        "#Create df that groups by origin and gets the sum of isweatherdelay for each\n",
        "origin_weather_df = delay_nonnull.groupby('ORIGIN').agg({'IsWeatherDelay':'sum'})\n",
        "#Create another df that groups by origin and gets the count of each origin\n",
        "origin_weather_df_1 = delay_nonnull.groupby('ORIGIN').agg({'ORIGIN':'count'})\n",
        "#Left join the origin_weather_df with the origin_weather_df_1\n",
        "total_origin_weather = origin_weather_df.join(origin_weather_df_1, on = ['ORIGIN'], how = 'left')\n",
        "#Get the percentage of weather delays compared to total flights by origin - see how they compare\n",
        "final_origin_weather = total_origin_weather.withColumn('PctFlightWeatherDelay', ((fn.col('sum(IsWeatherDelay)') / fn.col('count(ORIGIN)') * 100))). \\\n",
        "                                            withColumnRenamed('sum(IsWeatherDelay)', 'TotalWeatherDelay').\\\n",
        "                                            withColumnRenamed('count(ORIGIN)', 'TotalFlights')\n",
        "\n",
        "#add a filter on the data to only return observations with more than 5 weather delays\n",
        "filter_fow_df = final_origin_weather.where(final_origin_weather.TotalWeatherDelay>5)\n",
        "\n",
        "#Order by number of weather delays - see if areas known for bad weather are more likely to have a weather delay\n",
        "filter_fow_df.orderBy('PctFlightWeatherDelay', ascending = False).show(10)"
      ]
    },
    {
      "cell_type": "code",
      "execution_count": null,
      "metadata": {
        "colab": {
          "base_uri": "https://localhost:8080/",
          "height": 472
        },
        "id": "wfAFWd3DgdpU",
        "outputId": "376682ea-bef8-4779-df92-94b14bb94bd3"
      },
      "outputs": [
        {
          "data": {
            "image/png": "[encoded data removed]",
            "text/plain": [
              "<Figure size 640x480 with 1 Axes>"
            ]
          },
          "metadata": {},
          "output_type": "display_data"
        }
      ],
      "source": [
        "#Create a bar chart that shows the highest 7 weather delay percentages by origin airport\n",
        "\n",
        "final_origin_graph = filter_fow_df.orderBy('PctFlightWeatherDelay', ascending = False).limit(7).toPandas()\n",
        "y= final_origin_graph['PctFlightWeatherDelay']\n",
        "ax = final_origin_graph.plot.bar(x='ORIGIN', y='PctFlightWeatherDelay', rot=0, alpha=0.4)\n",
        "\n",
        "plt.xlabel('Origin Airport')\n",
        "plt.ylabel('Percentage of Flights Delayed by Weather')\n",
        "plt.title('Weather Delay by Origin Airport')\n",
        "\n",
        "#Add percentage values to the top of each bar\n",
        "xlocs, xlabs = plt.xticks()\n",
        "for i, j in enumerate(y):\n",
        "    plt.text(xlocs[i] -0.3, j + 0.05, str(round(j,2)) + '%')\n",
        "\n",
        "plt.show()"
      ]
    },
    {
      "attachments": {},
      "cell_type": "markdown",
      "metadata": {
        "id": "_5MfhDVpBTbD"
      },
      "source": [
        "When first looking at this data frame and ordering by PctFlightWeatherDelay, it is clear that there are cases where there simply is not enough data. For example, HGR (Hagerstown, MD) has the highest percentage - but only recoreded 1 weather delay out of 6 flights. So to make sure this is no issue, the data frame was then filtered to remove rows that have less than 5 observed weather delays\n",
        "\n",
        "### Highest Total Number of Weather Delays:\n",
        "1.   ORD - Chicago, IL: 263, 3.07%\n",
        "2.   ATL - Atlanta, GA: 224, 2.22%\n",
        "1.   DFW - Dallas, TX: 182, 2.54%\n",
        "2.   CLT - Charlotte, NC: 129, 2.19%\n",
        "1.   IAH - Houston, TX: 93, 2.03 %\n",
        "2.   MCO - Orlando, FL: 92, 2.53%\n",
        "1.   MIA - Miami, FL: 71, 3.11%\n",
        "\n",
        "### Highest Percentage of Flights Delayed By Weather:\n",
        "1.   PIE - Clearwater, FL: 9, 4.55%\n",
        "1.   SFB - Sanford, FL: 9, 3.72%\n",
        "1.   MIA - Miami, FL: 71, 3.11%\n",
        "1.   ORD - Chicago, IL: 263, 3.07%\n",
        "2.   JAN - Jackson, MS: 6, 2.75%\n",
        "2.   DFW - Dallas, TX: 182, 2.54%\n",
        "2.   MCO - Orlando, FL: 92, 2.53%\n",
        "\n",
        "\n",
        "\n",
        "\n",
        "\n",
        "\n",
        "\n",
        "\n",
        "\n",
        "\n",
        "\n"
      ]
    },
    {
      "attachments": {},
      "cell_type": "markdown",
      "metadata": {
        "id": "qXZPEqMBaXo4"
      },
      "source": [
        "## Delay by Expected Departure Time of Day"
      ]
    },
    {
      "cell_type": "code",
      "execution_count": null,
      "metadata": {
        "colab": {
          "base_uri": "https://localhost:8080/"
        },
        "id": "cSNl3ZhAUnlv",
        "outputId": "e5777f8c-3279-4c6d-d145-4be38969f6b3"
      },
      "outputs": [
        {
          "name": "stdout",
          "output_type": "stream",
          "text": [
            "+----------------+----------------+------------+------------------+\n",
            "|Flight_ExpDepTOD|TotalDepartDelay|TotalFlights|    PctFlightDelay|\n",
            "+----------------+----------------+------------+------------------+\n",
            "|         Evening|             712|       41138|1.7307598813748846|\n",
            "|           Night|             180|       12179|1.4779538549963052|\n",
            "|       Afternoon|             794|       54891|1.4465030697199905|\n",
            "|         Morning|             600|       78187|0.7673909985035875|\n",
            "+----------------+----------------+------------+------------------+\n",
            "\n"
          ]
        }
      ],
      "source": [
        "#Create df that groups by time of day - for expected departure and arrival and gets the sum of delay for each\n",
        "depart_df = delay_nonnull.groupby('Flight_ExpDepTOD').agg({'IsWeatherDelay':'sum'})\n",
        "\n",
        "#Create another df that groups by time of day and gets the count of each time of day\n",
        "depart_df_1 = delay_nonnull.groupby('Flight_ExpDepTOD').agg({'Flight_ExpDepTOD':'count'})\n",
        "\n",
        "#Left join the count and delay sum dfs\n",
        "total_depart = depart_df.join(depart_df_1, on = ['Flight_ExpDepTOD'], how = 'left')\n",
        "\n",
        "#Get the percentage of weather delays compared to total flights by origin - see how they compare\n",
        "final_depart = total_depart.withColumn('PctFlightDelay', ((fn.col('sum(IsWeatherDelay)') / fn.col('count(Flight_ExpDepTOD)') * 100))). \\\n",
        "                                            withColumnRenamed('sum(IsWeatherDelay)', 'TotalDepartDelay').\\\n",
        "                                            withColumnRenamed('count(Flight_ExpDepTOD)', 'TotalFlights')\n",
        "\n",
        "#Order by number of weather delays\n",
        "final_depart.orderBy('PctFlightDelay', ascending = False).show()"
      ]
    },
    {
      "attachments": {},
      "cell_type": "markdown",
      "metadata": {
        "id": "zof0FtjsXz3O"
      },
      "source": [
        "### **Arrival Delay** by **Expected Departure** Time of Day\n",
        "\n",
        "1.   Evening: 17570, 42.75%\n",
        "1.   Night: 4765, 39.16%\n",
        "2.   Afternoon: 21162, 38.60%\n",
        "2.   Morning: 22812, 29.21%\n",
        "\n",
        "\n",
        "### **Departure Delay** by **Expected Departure** Time of Day\n",
        "\n",
        "1.   Evening: 18142, 44.14%\n",
        "1.   Night: 5061, 41.59%\n",
        "2.   Afternoon: 21686, 39.56%\n",
        "2.   Morning: 19461, 24.92%\n",
        "\n",
        "\n",
        "### **Weather Delay** by **Expected Departure** Time of Day\n",
        "\n",
        "1.   Evening: 712, 1.73%\n",
        "1.   Night: 180, 1.48%\n",
        "2.   Afternoon: 794, 1.45%\n",
        "2.   Morning: 600, 0.77%\n"
      ]
    },
    {
      "attachments": {},
      "cell_type": "markdown",
      "metadata": {
        "id": "mWwIoD9Iaf7H"
      },
      "source": [
        "## Delay by Expected Arrival Time of Day"
      ]
    },
    {
      "cell_type": "code",
      "execution_count": null,
      "metadata": {
        "colab": {
          "base_uri": "https://localhost:8080/"
        },
        "id": "-MHya27maP72",
        "outputId": "fc28e1e7-b347-4a15-e96f-049bd6f2d9bf"
      },
      "outputs": [
        {
          "name": "stdout",
          "output_type": "stream",
          "text": [
            "+----------------+-----------------+------------+------------------+\n",
            "|Flight_ExpArrTOD|TotalWeatherDelay|TotalFlights|    PctFlightDelay|\n",
            "+----------------+-----------------+------------+------------------+\n",
            "|           Night|              555|       32090|1.7295107510127767|\n",
            "|         Evening|              729|       44268|1.6467877473570074|\n",
            "|       Afternoon|              599|       55567|1.0779779365450717|\n",
            "|         Morning|              403|       54470|0.7398568019093079|\n",
            "+----------------+-----------------+------------+------------------+\n",
            "\n"
          ]
        }
      ],
      "source": [
        "#Create df that groups by expected arrival time of day  - sum isweatherdelay by each group\n",
        "arrive_df = delay_nonnull.groupby('Flight_ExpArrTOD').agg({'IsWeatherDelay':'sum'})\n",
        "\n",
        "#Create another df that grabs the count of each arrival time of day, group by arrival time of day\n",
        "arrive_df_1 = delay_nonnull.groupby('Flight_ExpArrTOD').agg({'Flight_ExpArrTOD':'count'})\n",
        "\n",
        "#Left join the sum of weather delays df with the count of arrival time of day df\n",
        "total_arrive = arrive_df.join(arrive_df_1, on = ['Flight_ExpArrTOD'], how = 'left')\n",
        "\n",
        "#Create a new column that gets the percentage of total flights observed in each category that encountered a weather delay\n",
        "final_arrive = total_arrive.withColumn('PctFlightDelay', ((fn.col('sum(IsWeatherDelay)') / fn.col('count(Flight_ExpArrTOD)') * 100))). \\\n",
        "                                            withColumnRenamed('sum(IsWeatherDelay)', 'TotalWeatherDelay').\\\n",
        "                                            withColumnRenamed('count(Flight_ExpArrTOD)', 'TotalFlights')\n",
        "\n",
        "#Order by the percentage\n",
        "final_arrive.orderBy('PctFlightDelay', ascending = False).show()"
      ]
    },
    {
      "cell_type": "code",
      "execution_count": null,
      "metadata": {
        "colab": {
          "base_uri": "https://localhost:8080/",
          "height": 697
        },
        "id": "4UvdzQP4rua_",
        "outputId": "6df5882e-dc93-4ba0-939b-d28db17f83d0"
      },
      "outputs": [
        {
          "data": {
            "image/png": "[encoded data removed]",
            "text/plain": [
              "<Figure size 1120x800 with 1 Axes>"
            ]
          },
          "metadata": {},
          "output_type": "display_data"
        }
      ],
      "source": [
        "#Density Plot of Arrival Delay by Time of Day\n",
        "#Need to filter data frame from large values so that the plot is interpretable -  with normal df there is no way to get insights\n",
        "TimeOfDayDF = delay_nonnull.where(delay_nonnull.ARR_DELAY<200).toPandas()\n",
        "#Also filter so that an arrival delay is present\n",
        "TimeOfDayDF = TimeOfDayDF.where(TimeOfDayDF.ARR_DELAY>0)\n",
        "\n",
        "# Create plot\n",
        "plt.figure(figsize=(14,10), dpi= 80)\n",
        "sns.kdeplot(TimeOfDayDF.loc[TimeOfDayDF['Flight_ExpArrTOD'] == 'Morning', \"ARR_DELAY\"], shade=True, color=\"lightgreen\", label=\"Morning\", alpha=.7)\n",
        "sns.kdeplot(TimeOfDayDF.loc[TimeOfDayDF['Flight_ExpArrTOD'] == 'Afternoon', \"ARR_DELAY\"], shade=True, color=\"mediumpurple\", label=\"Afternoon\", alpha=.6)\n",
        "sns.kdeplot(TimeOfDayDF.loc[TimeOfDayDF['Flight_ExpArrTOD'] == 'Evening', \"ARR_DELAY\"], shade=True, color=\"darkturquoise\", label=\"Evening\", alpha=.5)\n",
        "sns.kdeplot(TimeOfDayDF.loc[TimeOfDayDF['Flight_ExpArrTOD'] == 'Night', \"ARR_DELAY\"], shade=True, color=\"lightcoral\", label=\"Night\", alpha=.5)\n",
        "\n",
        "plt.xlabel('Arrival Delay (Minutes)')\n",
        "plt.title('Density Plot of Arrival Delay (Minutes) by Time of Day')\n",
        "plt.legend()\n",
        "plt.show()"
      ]
    },
    {
      "attachments": {},
      "cell_type": "markdown",
      "metadata": {
        "id": "RGYZDPSjaQbW"
      },
      "source": [
        "### ***Arrival Delay*** by ***Expected Arrival*** Time of Day\n",
        "\n",
        "1.   Night: 13581, 42.35%\n",
        "1.   Evening: 18620, 42.11%\n",
        "2.   Afternoon: 19101, 34.41%\n",
        "2.   Morning: 15007, 27.59%\n",
        "\n",
        "\n",
        "### ***Departure Delay*** by ***Expected Arrival*** Time of Day\n",
        "\n",
        "1.   Night: 14343, 44.73%\n",
        "1.   Evening: 19015, 43.01%\n",
        "2.   Afternoon: 19190, 34.57%\n",
        "2.   Morning: 11802, 21.70%\n",
        "\n",
        "\n",
        "### ***Weather Delay*** by ***Expected Arrival*** Time of Day\n",
        "\n",
        "1.   Night: 555, 1.73%\n",
        "1.   Evening: 729, 1.65%\n",
        "2.   Afternoon: 599, 1.08%\n",
        "2.   Morning: 403, 0.74%"
      ]
    },
    {
      "attachments": {},
      "cell_type": "markdown",
      "metadata": {
        "id": "q3dXuMVCKFFq"
      },
      "source": [
        "# Feature Engineering Pipeline\n",
        "Need to use stringIndexer on *ORIGIN*, *DEST*, & *OP_CARRIER*. Additionally need to assemble a features vector using vectorAssembler."
      ]
    },
    {
      "cell_type": "code",
      "execution_count": null,
      "metadata": {
        "id": "X9m16qXQKnhP"
      },
      "outputs": [],
      "source": [
        "# THE ORIGINAL PIPELINE\n",
        "feature_engineering_pipe = Pipeline(stages=[feature.StringIndexer(inputCol=\"OP_CARRIER\", outputCol='Airline'),\n",
        "                                       feature.StringIndexer(inputCol='Flight_Season', outputCol = 'Season'),\n",
        "                                       feature.StringIndexer(inputCol='Flight_ExpDepTOD', outputCol = 'ExpectDepartTOD'),\n",
        "                                       feature.StringIndexer(inputCol='Flight_ExpArrTOD', outputCol = 'ExpectArrivalTOD'),\n",
        "                                       feature.StringIndexer(inputCol='ORIGIN', outputCol = 'Origin'),\n",
        "                                       feature.StringIndexer(inputCol='DEST', outputCol = 'Dest')])\n",
        "\n",
        "delay_df_xformed = feature_engineering_pipe.fit(delay_nonnull).transform(delay_nonnull).\\\n",
        "                                                withColumnRenamed('CRS_DEP_TIME', 'ExpectedDepartTime').\\\n",
        "                                                withColumnRenamed('CRS_ARR_TIME', 'ExpectedArrivalTime').\\\n",
        "                                                withColumnRenamed('DEP_DELAY', 'DepartDelay').\\\n",
        "                                                withColumnRenamed('ARR_DELAY', 'ArrivalDelay').\\\n",
        "                                                withColumnRenamed('DISTANCE', 'Distance').\\\n",
        "                                                withColumnRenamed('AIR_TIME', 'AirTime').\\\n",
        "                                                drop('OP_CARRIER', 'FL_DATE', 'ARR_TIME', 'Flight_Season', 'Flight_ExpDepTOD', 'Flight_ExpArrTOD', 'DEP_TIME')\n"
      ]
    },
    {
      "cell_type": "code",
      "execution_count": null,
      "metadata": {
        "id": "bbSvwoqfzd6f"
      },
      "outputs": [],
      "source": [
        "#Tried one hot encoding - made a negative difference for model performance on certain models - so sticking with string indexer\n",
        "\n",
        "# feature_engineering_pipe = Pipeline(stages=[feature.StringIndexer(inputCol=\"OP_CARRIER\", outputCol='SIAirline'),\n",
        "#                                         feature.StringIndexer(inputCol='ORIGIN', outputCol = 'SIOrigin'),\n",
        "#                                         feature.StringIndexer(inputCol='DEST', outputCol = 'SIDest'),\n",
        "#                                         feature.StringIndexer(inputCol='Flight_Season', outputCol = 'Season'),\n",
        "#                                         feature.StringIndexer(inputCol='Flight_ExpDepTOD', outputCol = 'ExpectDepartTOD'),\n",
        "#                                         feature.StringIndexer(inputCol='Flight_ExpArrTOD', outputCol = 'ExpectArrivalTOD'),\n",
        "#                                         feature.OneHotEncoder(inputCol=\"SIAirline\", outputCol='Airline'),\n",
        "#                                         feature.OneHotEncoder(inputCol='SIOrigin', outputCol = 'Origin'),\n",
        "#                                         feature.OneHotEncoder(inputCol='SIDest', outputCol = 'Dest')])\n",
        "\n",
        "# delay_df_xformed = feature_engineering_pipe.fit(delay_nonnull).transform(delay_nonnull).\\\n",
        "#                                                 withColumnRenamed('CRS_DEP_TIME', 'ExpectedDepartTime').\\\n",
        "#                                                 withColumnRenamed('CRS_ARR_TIME', 'ExpectedArrivalTime').\\\n",
        "#                                                 withColumnRenamed('DEP_DELAY', 'DepartDelay').\\\n",
        "#                                                 withColumnRenamed('ARR_DELAY', 'ArrivalDelay').\\\n",
        "#                                                 withColumnRenamed('DISTANCE', 'Distance').\\\n",
        "#                                                 withColumnRenamed('AIR_TIME', 'AirTime').\\\n",
        "#                                                 drop('OP_CARRIER', 'FL_DATE', 'ARR_TIME', 'WEATHER_DELAY', 'Flight_Season', 'Flight_ExpDepTOD', 'Flight_ExpArrTOD', 'DEP_TIME')"
      ]
    },
    {
      "attachments": {},
      "cell_type": "markdown",
      "metadata": {
        "id": "PAZewaOGF_AQ"
      },
      "source": [
        "### Pair Plot\n",
        "This pair plot does not provide us with many great insights because of the size of the data - and the number of categories in some of our variables. A correlation matrix will be easier to interpret"
      ]
    },
    {
      "cell_type": "code",
      "execution_count": null,
      "metadata": {
        "id": "ZB-1SFSSNyz5"
      },
      "outputs": [],
      "source": [
        "# df = delay_df_xformed.toPandas()\n",
        "# sns.pairplot(df, vars = [\"Airline\",\"Origin\",\"Dest\",\"ExpectedDepartTime\",\"ActualDepartTime\",\"ExpectedArrivalTime\",\"AirTime\",\"Distance\",\n",
        "#                          \"DayOfMonth\",\"FlightMonth\"], dropna = True)"
      ]
    },
    {
      "attachments": {},
      "cell_type": "markdown",
      "metadata": {
        "id": "QDR-de3EF7Y8"
      },
      "source": [
        "### Correlation Matrix"
      ]
    },
    {
      "cell_type": "code",
      "execution_count": null,
      "metadata": {
        "colab": {
          "base_uri": "https://localhost:8080/",
          "height": 540
        },
        "id": "KJQ2wOMrVhO2",
        "outputId": "ce1a0e63-9bdb-46fc-c49c-1612cd6ffd78"
      },
      "outputs": [
        {
          "data": {
            "text/html": [
              "<style type=\"text/css\">\n",
              "#T_ecfb5_row0_col0, #T_ecfb5_row1_col1, #T_ecfb5_row2_col2, #T_ecfb5_row3_col3, #T_ecfb5_row4_col4, #T_ecfb5_row5_col5, #T_ecfb5_row6_col6, #T_ecfb5_row7_col7, #T_ecfb5_row8_col8, #T_ecfb5_row9_col9, #T_ecfb5_row10_col10, #T_ecfb5_row11_col11, #T_ecfb5_row12_col12, #T_ecfb5_row13_col13, #T_ecfb5_row14_col14 {\n",
              "  background-color: #b40426;\n",
              "  color: #f1f1f1;\n",
              "}\n",
              "#T_ecfb5_row0_col1, #T_ecfb5_row0_col5, #T_ecfb5_row0_col12, #T_ecfb5_row2_col12, #T_ecfb5_row6_col3, #T_ecfb5_row7_col3, #T_ecfb5_row11_col12 {\n",
              "  background-color: #455cce;\n",
              "  color: #f1f1f1;\n",
              "}\n",
              "#T_ecfb5_row0_col2, #T_ecfb5_row0_col4, #T_ecfb5_row0_col7, #T_ecfb5_row0_col13, #T_ecfb5_row0_col14, #T_ecfb5_row1_col6, #T_ecfb5_row1_col7, #T_ecfb5_row5_col12, #T_ecfb5_row6_col1, #T_ecfb5_row6_col8, #T_ecfb5_row7_col0, #T_ecfb5_row7_col8, #T_ecfb5_row7_col11, #T_ecfb5_row11_col10, #T_ecfb5_row12_col3, #T_ecfb5_row12_col5, #T_ecfb5_row12_col8, #T_ecfb5_row12_col9 {\n",
              "  background-color: #3b4cc0;\n",
              "  color: #f1f1f1;\n",
              "}\n",
              "#T_ecfb5_row0_col3, #T_ecfb5_row0_col6, #T_ecfb5_row0_col9, #T_ecfb5_row0_col10, #T_ecfb5_row1_col9, #T_ecfb5_row6_col9, #T_ecfb5_row7_col5, #T_ecfb5_row7_col9, #T_ecfb5_row9_col10, #T_ecfb5_row11_col9, #T_ecfb5_row14_col9 {\n",
              "  background-color: #3f53c6;\n",
              "  color: #f1f1f1;\n",
              "}\n",
              "#T_ecfb5_row0_col8, #T_ecfb5_row2_col10, #T_ecfb5_row3_col9, #T_ecfb5_row3_col12, #T_ecfb5_row4_col9, #T_ecfb5_row5_col9, #T_ecfb5_row6_col10, #T_ecfb5_row7_col1, #T_ecfb5_row9_col8, #T_ecfb5_row10_col8, #T_ecfb5_row11_col8, #T_ecfb5_row13_col10, #T_ecfb5_row14_col10 {\n",
              "  background-color: #3d50c3;\n",
              "  color: #f1f1f1;\n",
              "}\n",
              "#T_ecfb5_row0_col11, #T_ecfb5_row3_col2 {\n",
              "  background-color: #7b9ff9;\n",
              "  color: #f1f1f1;\n",
              "}\n",
              "#T_ecfb5_row1_col0, #T_ecfb5_row1_col3, #T_ecfb5_row2_col8, #T_ecfb5_row4_col8, #T_ecfb5_row7_col12, #T_ecfb5_row9_col3, #T_ecfb5_row9_col12, #T_ecfb5_row13_col8, #T_ecfb5_row14_col8 {\n",
              "  background-color: #4257c9;\n",
              "  color: #f1f1f1;\n",
              "}\n",
              "#T_ecfb5_row1_col2 {\n",
              "  background-color: #85a8fc;\n",
              "  color: #f1f1f1;\n",
              "}\n",
              "#T_ecfb5_row1_col4, #T_ecfb5_row8_col1 {\n",
              "  background-color: #7699f6;\n",
              "  color: #f1f1f1;\n",
              "}\n",
              "#T_ecfb5_row1_col5, #T_ecfb5_row8_col11, #T_ecfb5_row9_col11 {\n",
              "  background-color: #485fd1;\n",
              "  color: #f1f1f1;\n",
              "}\n",
              "#T_ecfb5_row1_col8, #T_ecfb5_row5_col10, #T_ecfb5_row10_col9 {\n",
              "  background-color: #4055c8;\n",
              "  color: #f1f1f1;\n",
              "}\n",
              "#T_ecfb5_row1_col10, #T_ecfb5_row2_col9, #T_ecfb5_row3_col10, #T_ecfb5_row4_col10, #T_ecfb5_row7_col10, #T_ecfb5_row8_col9, #T_ecfb5_row8_col10, #T_ecfb5_row13_col9 {\n",
              "  background-color: #3e51c5;\n",
              "  color: #f1f1f1;\n",
              "}\n",
              "#T_ecfb5_row1_col11 {\n",
              "  background-color: #7a9df8;\n",
              "  color: #f1f1f1;\n",
              "}\n",
              "#T_ecfb5_row1_col12, #T_ecfb5_row6_col5, #T_ecfb5_row6_col12, #T_ecfb5_row8_col12, #T_ecfb5_row9_col5, #T_ecfb5_row11_col3, #T_ecfb5_row14_col11, #T_ecfb5_row14_col12 {\n",
              "  background-color: #445acc;\n",
              "  color: #f1f1f1;\n",
              "}\n",
              "#T_ecfb5_row1_col13, #T_ecfb5_row3_col6, #T_ecfb5_row3_col13, #T_ecfb5_row4_col7, #T_ecfb5_row5_col1, #T_ecfb5_row9_col1 {\n",
              "  background-color: #7396f5;\n",
              "  color: #f1f1f1;\n",
              "}\n",
              "#T_ecfb5_row1_col14, #T_ecfb5_row2_col3 {\n",
              "  background-color: #6384eb;\n",
              "  color: #f1f1f1;\n",
              "}\n",
              "#T_ecfb5_row2_col0 {\n",
              "  background-color: #4c66d6;\n",
              "  color: #f1f1f1;\n",
              "}\n",
              "#T_ecfb5_row2_col1 {\n",
              "  background-color: #98b9ff;\n",
              "  color: #000000;\n",
              "}\n",
              "#T_ecfb5_row2_col4 {\n",
              "  background-color: #f6a586;\n",
              "  color: #000000;\n",
              "}\n",
              "#T_ecfb5_row2_col5, #T_ecfb5_row8_col2, #T_ecfb5_row11_col7 {\n",
              "  background-color: #6282ea;\n",
              "  color: #f1f1f1;\n",
              "}\n",
              "#T_ecfb5_row2_col6, #T_ecfb5_row5_col14, #T_ecfb5_row8_col7 {\n",
              "  background-color: #6c8ff1;\n",
              "  color: #f1f1f1;\n",
              "}\n",
              "#T_ecfb5_row2_col7, #T_ecfb5_row3_col0, #T_ecfb5_row12_col7 {\n",
              "  background-color: #6b8df0;\n",
              "  color: #f1f1f1;\n",
              "}\n",
              "#T_ecfb5_row2_col11, #T_ecfb5_row4_col11, #T_ecfb5_row12_col10, #T_ecfb5_row12_col11 {\n",
              "  background-color: #465ecf;\n",
              "  color: #f1f1f1;\n",
              "}\n",
              "#T_ecfb5_row2_col13 {\n",
              "  background-color: #d55042;\n",
              "  color: #f1f1f1;\n",
              "}\n",
              "#T_ecfb5_row2_col14 {\n",
              "  background-color: #f7b599;\n",
              "  color: #000000;\n",
              "}\n",
              "#T_ecfb5_row3_col1, #T_ecfb5_row3_col7, #T_ecfb5_row5_col6, #T_ecfb5_row12_col1, #T_ecfb5_row12_col6 {\n",
              "  background-color: #7093f3;\n",
              "  color: #f1f1f1;\n",
              "}\n",
              "#T_ecfb5_row3_col4 {\n",
              "  background-color: #7597f6;\n",
              "  color: #f1f1f1;\n",
              "}\n",
              "#T_ecfb5_row3_col5, #T_ecfb5_row5_col3 {\n",
              "  background-color: #c32e31;\n",
              "  color: #f1f1f1;\n",
              "}\n",
              "#T_ecfb5_row3_col8, #T_ecfb5_row5_col8 {\n",
              "  background-color: #9dbdff;\n",
              "  color: #000000;\n",
              "}\n",
              "#T_ecfb5_row3_col11, #T_ecfb5_row10_col5, #T_ecfb5_row13_col11 {\n",
              "  background-color: #4961d2;\n",
              "  color: #f1f1f1;\n",
              "}\n",
              "#T_ecfb5_row3_col14, #T_ecfb5_row5_col0, #T_ecfb5_row12_col0 {\n",
              "  background-color: #6e90f2;\n",
              "  color: #f1f1f1;\n",
              "}\n",
              "#T_ecfb5_row4_col0 {\n",
              "  background-color: #506bda;\n",
              "  color: #f1f1f1;\n",
              "}\n",
              "#T_ecfb5_row4_col1 {\n",
              "  background-color: #8db0fe;\n",
              "  color: #000000;\n",
              "}\n",
              "#T_ecfb5_row4_col2 {\n",
              "  background-color: #f6a385;\n",
              "  color: #000000;\n",
              "}\n",
              "#T_ecfb5_row4_col3, #T_ecfb5_row7_col4, #T_ecfb5_row8_col4, #T_ecfb5_row12_col4 {\n",
              "  background-color: #5e7de7;\n",
              "  color: #f1f1f1;\n",
              "}\n",
              "#T_ecfb5_row4_col5, #T_ecfb5_row6_col4 {\n",
              "  background-color: #5f7fe8;\n",
              "  color: #f1f1f1;\n",
              "}\n",
              "#T_ecfb5_row4_col6 {\n",
              "  background-color: #779af7;\n",
              "  color: #f1f1f1;\n",
              "}\n",
              "#T_ecfb5_row4_col12 {\n",
              "  background-color: #4a63d3;\n",
              "  color: #f1f1f1;\n",
              "}\n",
              "#T_ecfb5_row4_col13 {\n",
              "  background-color: #f2c9b4;\n",
              "  color: #000000;\n",
              "}\n",
              "#T_ecfb5_row4_col14 {\n",
              "  background-color: #e7d7ce;\n",
              "  color: #000000;\n",
              "}\n",
              "#T_ecfb5_row5_col2 {\n",
              "  background-color: #799cf8;\n",
              "  color: #f1f1f1;\n",
              "}\n",
              "#T_ecfb5_row5_col4, #T_ecfb5_row9_col6, #T_ecfb5_row10_col1, #T_ecfb5_row10_col6, #T_ecfb5_row13_col6, #T_ecfb5_row13_col7 {\n",
              "  background-color: #7295f4;\n",
              "  color: #f1f1f1;\n",
              "}\n",
              "#T_ecfb5_row5_col7, #T_ecfb5_row6_col14 {\n",
              "  background-color: #688aef;\n",
              "  color: #f1f1f1;\n",
              "}\n",
              "#T_ecfb5_row5_col11, #T_ecfb5_row10_col12 {\n",
              "  background-color: #4f69d9;\n",
              "  color: #f1f1f1;\n",
              "}\n",
              "#T_ecfb5_row5_col13, #T_ecfb5_row8_col0, #T_ecfb5_row8_col6, #T_ecfb5_row9_col0, #T_ecfb5_row9_col7, #T_ecfb5_row10_col0, #T_ecfb5_row10_col7 {\n",
              "  background-color: #6f92f3;\n",
              "  color: #f1f1f1;\n",
              "}\n",
              "#T_ecfb5_row6_col0, #T_ecfb5_row6_col11 {\n",
              "  background-color: #3c4ec2;\n",
              "  color: #f1f1f1;\n",
              "}\n",
              "#T_ecfb5_row6_col2, #T_ecfb5_row9_col4 {\n",
              "  background-color: #5875e1;\n",
              "  color: #f1f1f1;\n",
              "}\n",
              "#T_ecfb5_row6_col7, #T_ecfb5_row7_col6 {\n",
              "  background-color: #b8122a;\n",
              "  color: #f1f1f1;\n",
              "}\n",
              "#T_ecfb5_row6_col13, #T_ecfb5_row9_col13, #T_ecfb5_row10_col14 {\n",
              "  background-color: #5572df;\n",
              "  color: #f1f1f1;\n",
              "}\n",
              "#T_ecfb5_row7_col2, #T_ecfb5_row7_col13, #T_ecfb5_row11_col4 {\n",
              "  background-color: #5977e3;\n",
              "  color: #f1f1f1;\n",
              "}\n",
              "#T_ecfb5_row7_col14 {\n",
              "  background-color: #6a8bef;\n",
              "  color: #f1f1f1;\n",
              "}\n",
              "#T_ecfb5_row8_col3 {\n",
              "  background-color: #a2c1ff;\n",
              "  color: #000000;\n",
              "}\n",
              "#T_ecfb5_row8_col5 {\n",
              "  background-color: #a5c3fe;\n",
              "  color: #000000;\n",
              "}\n",
              "#T_ecfb5_row8_col13, #T_ecfb5_row10_col4 {\n",
              "  background-color: #5a78e4;\n",
              "  color: #f1f1f1;\n",
              "}\n",
              "#T_ecfb5_row8_col14, #T_ecfb5_row9_col2, #T_ecfb5_row10_col2, #T_ecfb5_row12_col2, #T_ecfb5_row14_col3, #T_ecfb5_row14_col5 {\n",
              "  background-color: #5b7ae5;\n",
              "  color: #f1f1f1;\n",
              "}\n",
              "#T_ecfb5_row9_col14, #T_ecfb5_row11_col13 {\n",
              "  background-color: #5673e0;\n",
              "  color: #f1f1f1;\n",
              "}\n",
              "#T_ecfb5_row10_col3, #T_ecfb5_row10_col11, #T_ecfb5_row13_col12 {\n",
              "  background-color: #4358cb;\n",
              "  color: #f1f1f1;\n",
              "}\n",
              "#T_ecfb5_row10_col13, #T_ecfb5_row12_col14, #T_ecfb5_row13_col0 {\n",
              "  background-color: #5470de;\n",
              "  color: #f1f1f1;\n",
              "}\n",
              "#T_ecfb5_row11_col0 {\n",
              "  background-color: #9fbfff;\n",
              "  color: #000000;\n",
              "}\n",
              "#T_ecfb5_row11_col1 {\n",
              "  background-color: #a1c0ff;\n",
              "  color: #000000;\n",
              "}\n",
              "#T_ecfb5_row11_col2 {\n",
              "  background-color: #5d7ce6;\n",
              "  color: #f1f1f1;\n",
              "}\n",
              "#T_ecfb5_row11_col5 {\n",
              "  background-color: #4e68d8;\n",
              "  color: #f1f1f1;\n",
              "}\n",
              "#T_ecfb5_row11_col6 {\n",
              "  background-color: #6788ee;\n",
              "  color: #f1f1f1;\n",
              "}\n",
              "#T_ecfb5_row11_col14, #T_ecfb5_row12_col13, #T_ecfb5_row14_col0 {\n",
              "  background-color: #536edd;\n",
              "  color: #f1f1f1;\n",
              "}\n",
              "#T_ecfb5_row13_col1 {\n",
              "  background-color: #8fb1fe;\n",
              "  color: #000000;\n",
              "}\n",
              "#T_ecfb5_row13_col2 {\n",
              "  background-color: #d44e41;\n",
              "  color: #f1f1f1;\n",
              "}\n",
              "#T_ecfb5_row13_col3, #T_ecfb5_row13_col5 {\n",
              "  background-color: #6180e9;\n",
              "  color: #f1f1f1;\n",
              "}\n",
              "#T_ecfb5_row13_col4 {\n",
              "  background-color: #f3c8b2;\n",
              "  color: #000000;\n",
              "}\n",
              "#T_ecfb5_row13_col14, #T_ecfb5_row14_col13 {\n",
              "  background-color: #f7ac8e;\n",
              "  color: #000000;\n",
              "}\n",
              "#T_ecfb5_row14_col1 {\n",
              "  background-color: #7ea1fa;\n",
              "  color: #f1f1f1;\n",
              "}\n",
              "#T_ecfb5_row14_col2 {\n",
              "  background-color: #f7b396;\n",
              "  color: #000000;\n",
              "}\n",
              "#T_ecfb5_row14_col4 {\n",
              "  background-color: #e8d6cc;\n",
              "  color: #000000;\n",
              "}\n",
              "#T_ecfb5_row14_col6 {\n",
              "  background-color: #84a7fc;\n",
              "  color: #f1f1f1;\n",
              "}\n",
              "#T_ecfb5_row14_col7 {\n",
              "  background-color: #82a6fb;\n",
              "  color: #f1f1f1;\n",
              "}\n",
              "</style>\n",
              "<table id=\"T_ecfb5_\" class=\"dataframe\">\n",
              "  <thead>\n",
              "    <tr>\n",
              "      <th class=\"blank level0\" >&nbsp;</th>\n",
              "      <th class=\"col_heading level0 col0\" >Origin</th>\n",
              "      <th class=\"col_heading level0 col1\" >Dest</th>\n",
              "      <th class=\"col_heading level0 col2\" >ExpectedDepartTime</th>\n",
              "      <th class=\"col_heading level0 col3\" >DepartDelay</th>\n",
              "      <th class=\"col_heading level0 col4\" >ExpectedArrivalTime</th>\n",
              "      <th class=\"col_heading level0 col5\" >ArrivalDelay</th>\n",
              "      <th class=\"col_heading level0 col6\" >AirTime</th>\n",
              "      <th class=\"col_heading level0 col7\" >Distance</th>\n",
              "      <th class=\"col_heading level0 col8\" >WEATHER_DELAY</th>\n",
              "      <th class=\"col_heading level0 col9\" >DayOfMonth</th>\n",
              "      <th class=\"col_heading level0 col10\" >FlightMonth</th>\n",
              "      <th class=\"col_heading level0 col11\" >Airline</th>\n",
              "      <th class=\"col_heading level0 col12\" >Season</th>\n",
              "      <th class=\"col_heading level0 col13\" >ExpectDepartTOD</th>\n",
              "      <th class=\"col_heading level0 col14\" >ExpectArrivalTOD</th>\n",
              "    </tr>\n",
              "  </thead>\n",
              "  <tbody>\n",
              "    <tr>\n",
              "      <th id=\"T_ecfb5_level0_row0\" class=\"row_heading level0 row0\" >Origin</th>\n",
              "      <td id=\"T_ecfb5_row0_col0\" class=\"data row0 col0\" >1.000000</td>\n",
              "      <td id=\"T_ecfb5_row0_col1\" class=\"data row0 col1\" >-0.166013</td>\n",
              "      <td id=\"T_ecfb5_row0_col2\" class=\"data row0 col2\" >-0.125205</td>\n",
              "      <td id=\"T_ecfb5_row0_col3\" class=\"data row0 col3\" >-0.013575</td>\n",
              "      <td id=\"T_ecfb5_row0_col4\" class=\"data row0 col4\" >-0.112336</td>\n",
              "      <td id=\"T_ecfb5_row0_col5\" class=\"data row0 col5\" >-0.001532</td>\n",
              "      <td id=\"T_ecfb5_row0_col6\" class=\"data row0 col6\" >-0.188420</td>\n",
              "      <td id=\"T_ecfb5_row0_col7\" class=\"data row0 col7\" >-0.196935</td>\n",
              "      <td id=\"T_ecfb5_row0_col8\" class=\"data row0 col8\" >0.001453</td>\n",
              "      <td id=\"T_ecfb5_row0_col9\" class=\"data row0 col9\" >0.002229</td>\n",
              "      <td id=\"T_ecfb5_row0_col10\" class=\"data row0 col10\" >0.003152</td>\n",
              "      <td id=\"T_ecfb5_row0_col11\" class=\"data row0 col11\" >0.163538</td>\n",
              "      <td id=\"T_ecfb5_row0_col12\" class=\"data row0 col12\" >-0.004038</td>\n",
              "      <td id=\"T_ecfb5_row0_col13\" class=\"data row0 col13\" >-0.096285</td>\n",
              "      <td id=\"T_ecfb5_row0_col14\" class=\"data row0 col14\" >-0.100540</td>\n",
              "    </tr>\n",
              "    <tr>\n",
              "      <th id=\"T_ecfb5_level0_row1\" class=\"row_heading level0 row1\" >Dest</th>\n",
              "      <td id=\"T_ecfb5_row1_col0\" class=\"data row1 col0\" >-0.166013</td>\n",
              "      <td id=\"T_ecfb5_row1_col1\" class=\"data row1 col1\" >1.000000</td>\n",
              "      <td id=\"T_ecfb5_row1_col2\" class=\"data row1 col2\" >0.133582</td>\n",
              "      <td id=\"T_ecfb5_row1_col3\" class=\"data row1 col3\" >-0.006207</td>\n",
              "      <td id=\"T_ecfb5_row1_col4\" class=\"data row1 col4\" >0.094214</td>\n",
              "      <td id=\"T_ecfb5_row1_col5\" class=\"data row1 col5\" >0.005283</td>\n",
              "      <td id=\"T_ecfb5_row1_col6\" class=\"data row1 col6\" >-0.210726</td>\n",
              "      <td id=\"T_ecfb5_row1_col7\" class=\"data row1 col7\" >-0.197093</td>\n",
              "      <td id=\"T_ecfb5_row1_col8\" class=\"data row1 col8\" >0.013687</td>\n",
              "      <td id=\"T_ecfb5_row1_col9\" class=\"data row1 col9\" >0.002561</td>\n",
              "      <td id=\"T_ecfb5_row1_col10\" class=\"data row1 col10\" >0.000694</td>\n",
              "      <td id=\"T_ecfb5_row1_col11\" class=\"data row1 col11\" >0.160791</td>\n",
              "      <td id=\"T_ecfb5_row1_col12\" class=\"data row1 col12\" >-0.005255</td>\n",
              "      <td id=\"T_ecfb5_row1_col13\" class=\"data row1 col13\" >0.100386</td>\n",
              "      <td id=\"T_ecfb5_row1_col14\" class=\"data row1 col14\" >0.044166</td>\n",
              "    </tr>\n",
              "    <tr>\n",
              "      <th id=\"T_ecfb5_level0_row2\" class=\"row_heading level0 row2\" >ExpectedDepartTime</th>\n",
              "      <td id=\"T_ecfb5_row2_col0\" class=\"data row2 col0\" >-0.125205</td>\n",
              "      <td id=\"T_ecfb5_row2_col1\" class=\"data row2 col1\" >0.133582</td>\n",
              "      <td id=\"T_ecfb5_row2_col2\" class=\"data row2 col2\" >1.000000</td>\n",
              "      <td id=\"T_ecfb5_row2_col3\" class=\"data row2 col3\" >0.103203</td>\n",
              "      <td id=\"T_ecfb5_row2_col4\" class=\"data row2 col4\" >0.688216</td>\n",
              "      <td id=\"T_ecfb5_row2_col5\" class=\"data row2 col5\" >0.093373</td>\n",
              "      <td id=\"T_ecfb5_row2_col6\" class=\"data row2 col6\" >-0.017682</td>\n",
              "      <td id=\"T_ecfb5_row2_col7\" class=\"data row2 col7\" >-0.011254</td>\n",
              "      <td id=\"T_ecfb5_row2_col8\" class=\"data row2 col8\" >0.017986</td>\n",
              "      <td id=\"T_ecfb5_row2_col9\" class=\"data row2 col9\" >-0.003759</td>\n",
              "      <td id=\"T_ecfb5_row2_col10\" class=\"data row2 col10\" >-0.003419</td>\n",
              "      <td id=\"T_ecfb5_row2_col11\" class=\"data row2 col11\" >-0.001302</td>\n",
              "      <td id=\"T_ecfb5_row2_col12\" class=\"data row2 col12\" >-0.003010</td>\n",
              "      <td id=\"T_ecfb5_row2_col13\" class=\"data row2 col13\" >0.896921</td>\n",
              "      <td id=\"T_ecfb5_row2_col14\" class=\"data row2 col14\" >0.642325</td>\n",
              "    </tr>\n",
              "    <tr>\n",
              "      <th id=\"T_ecfb5_level0_row3\" class=\"row_heading level0 row3\" >DepartDelay</th>\n",
              "      <td id=\"T_ecfb5_row3_col0\" class=\"data row3 col0\" >-0.013575</td>\n",
              "      <td id=\"T_ecfb5_row3_col1\" class=\"data row3 col1\" >-0.006207</td>\n",
              "      <td id=\"T_ecfb5_row3_col2\" class=\"data row3 col2\" >0.103203</td>\n",
              "      <td id=\"T_ecfb5_row3_col3\" class=\"data row3 col3\" >1.000000</td>\n",
              "      <td id=\"T_ecfb5_row3_col4\" class=\"data row3 col4\" >0.087690</td>\n",
              "      <td id=\"T_ecfb5_row3_col5\" class=\"data row3 col5\" >0.956507</td>\n",
              "      <td id=\"T_ecfb5_row3_col6\" class=\"data row3 col6\" >0.006751</td>\n",
              "      <td id=\"T_ecfb5_row3_col7\" class=\"data row3 col7\" >0.007258</td>\n",
              "      <td id=\"T_ecfb5_row3_col8\" class=\"data row3 col8\" >0.289155</td>\n",
              "      <td id=\"T_ecfb5_row3_col9\" class=\"data row3 col9\" >-0.006273</td>\n",
              "      <td id=\"T_ecfb5_row3_col10\" class=\"data row3 col10\" >-0.000743</td>\n",
              "      <td id=\"T_ecfb5_row3_col11\" class=\"data row3 col11\" >0.004335</td>\n",
              "      <td id=\"T_ecfb5_row3_col12\" class=\"data row3 col12\" >-0.031690</td>\n",
              "      <td id=\"T_ecfb5_row3_col13\" class=\"data row3 col13\" >0.096595</td>\n",
              "      <td id=\"T_ecfb5_row3_col14\" class=\"data row3 col14\" >0.078888</td>\n",
              "    </tr>\n",
              "    <tr>\n",
              "      <th id=\"T_ecfb5_level0_row4\" class=\"row_heading level0 row4\" >ExpectedArrivalTime</th>\n",
              "      <td id=\"T_ecfb5_row4_col0\" class=\"data row4 col0\" >-0.112336</td>\n",
              "      <td id=\"T_ecfb5_row4_col1\" class=\"data row4 col1\" >0.094214</td>\n",
              "      <td id=\"T_ecfb5_row4_col2\" class=\"data row4 col2\" >0.688216</td>\n",
              "      <td id=\"T_ecfb5_row4_col3\" class=\"data row4 col3\" >0.087690</td>\n",
              "      <td id=\"T_ecfb5_row4_col4\" class=\"data row4 col4\" >1.000000</td>\n",
              "      <td id=\"T_ecfb5_row4_col5\" class=\"data row4 col5\" >0.082148</td>\n",
              "      <td id=\"T_ecfb5_row4_col6\" class=\"data row4 col6\" >0.018182</td>\n",
              "      <td id=\"T_ecfb5_row4_col7\" class=\"data row4 col7\" >0.015342</td>\n",
              "      <td id=\"T_ecfb5_row4_col8\" class=\"data row4 col8\" >0.015671</td>\n",
              "      <td id=\"T_ecfb5_row4_col9\" class=\"data row4 col9\" >-0.005224</td>\n",
              "      <td id=\"T_ecfb5_row4_col10\" class=\"data row4 col10\" >0.001823</td>\n",
              "      <td id=\"T_ecfb5_row4_col11\" class=\"data row4 col11\" >-0.000906</td>\n",
              "      <td id=\"T_ecfb5_row4_col12\" class=\"data row4 col12\" >0.015680</td>\n",
              "      <td id=\"T_ecfb5_row4_col13\" class=\"data row4 col13\" >0.569140</td>\n",
              "      <td id=\"T_ecfb5_row4_col14\" class=\"data row4 col14\" >0.495739</td>\n",
              "    </tr>\n",
              "    <tr>\n",
              "      <th id=\"T_ecfb5_level0_row5\" class=\"row_heading level0 row5\" >ArrivalDelay</th>\n",
              "      <td id=\"T_ecfb5_row5_col0\" class=\"data row5 col0\" >-0.001532</td>\n",
              "      <td id=\"T_ecfb5_row5_col1\" class=\"data row5 col1\" >0.005283</td>\n",
              "      <td id=\"T_ecfb5_row5_col2\" class=\"data row5 col2\" >0.093373</td>\n",
              "      <td id=\"T_ecfb5_row5_col3\" class=\"data row5 col3\" >0.956507</td>\n",
              "      <td id=\"T_ecfb5_row5_col4\" class=\"data row5 col4\" >0.082148</td>\n",
              "      <td id=\"T_ecfb5_row5_col5\" class=\"data row5 col5\" >1.000000</td>\n",
              "      <td id=\"T_ecfb5_row5_col6\" class=\"data row5 col6\" >-0.004218</td>\n",
              "      <td id=\"T_ecfb5_row5_col7\" class=\"data row5 col7\" >-0.021246</td>\n",
              "      <td id=\"T_ecfb5_row5_col8\" class=\"data row5 col8\" >0.289353</td>\n",
              "      <td id=\"T_ecfb5_row5_col9\" class=\"data row5 col9\" >-0.007141</td>\n",
              "      <td id=\"T_ecfb5_row5_col10\" class=\"data row5 col10\" >0.010041</td>\n",
              "      <td id=\"T_ecfb5_row5_col11\" class=\"data row5 col11\" >0.026989</td>\n",
              "      <td id=\"T_ecfb5_row5_col12\" class=\"data row5 col12\" >-0.040689</td>\n",
              "      <td id=\"T_ecfb5_row5_col13\" class=\"data row5 col13\" >0.085773</td>\n",
              "      <td id=\"T_ecfb5_row5_col14\" class=\"data row5 col14\" >0.071633</td>\n",
              "    </tr>\n",
              "    <tr>\n",
              "      <th id=\"T_ecfb5_level0_row6\" class=\"row_heading level0 row6\" >AirTime</th>\n",
              "      <td id=\"T_ecfb5_row6_col0\" class=\"data row6 col0\" >-0.188420</td>\n",
              "      <td id=\"T_ecfb5_row6_col1\" class=\"data row6 col1\" >-0.210726</td>\n",
              "      <td id=\"T_ecfb5_row6_col2\" class=\"data row6 col2\" >-0.017682</td>\n",
              "      <td id=\"T_ecfb5_row6_col3\" class=\"data row6 col3\" >0.006751</td>\n",
              "      <td id=\"T_ecfb5_row6_col4\" class=\"data row6 col4\" >0.018182</td>\n",
              "      <td id=\"T_ecfb5_row6_col5\" class=\"data row6 col5\" >-0.004218</td>\n",
              "      <td id=\"T_ecfb5_row6_col6\" class=\"data row6 col6\" >1.000000</td>\n",
              "      <td id=\"T_ecfb5_row6_col7\" class=\"data row6 col7\" >0.984835</td>\n",
              "      <td id=\"T_ecfb5_row6_col8\" class=\"data row6 col8\" >-0.007517</td>\n",
              "      <td id=\"T_ecfb5_row6_col9\" class=\"data row6 col9\" >0.001019</td>\n",
              "      <td id=\"T_ecfb5_row6_col10\" class=\"data row6 col10\" >-0.001964</td>\n",
              "      <td id=\"T_ecfb5_row6_col11\" class=\"data row6 col11\" >-0.039636</td>\n",
              "      <td id=\"T_ecfb5_row6_col12\" class=\"data row6 col12\" >-0.004164</td>\n",
              "      <td id=\"T_ecfb5_row6_col13\" class=\"data row6 col13\" >0.001081</td>\n",
              "      <td id=\"T_ecfb5_row6_col14\" class=\"data row6 col14\" >0.058887</td>\n",
              "    </tr>\n",
              "    <tr>\n",
              "      <th id=\"T_ecfb5_level0_row7\" class=\"row_heading level0 row7\" >Distance</th>\n",
              "      <td id=\"T_ecfb5_row7_col0\" class=\"data row7 col0\" >-0.196935</td>\n",
              "      <td id=\"T_ecfb5_row7_col1\" class=\"data row7 col1\" >-0.197093</td>\n",
              "      <td id=\"T_ecfb5_row7_col2\" class=\"data row7 col2\" >-0.011254</td>\n",
              "      <td id=\"T_ecfb5_row7_col3\" class=\"data row7 col3\" >0.007258</td>\n",
              "      <td id=\"T_ecfb5_row7_col4\" class=\"data row7 col4\" >0.015342</td>\n",
              "      <td id=\"T_ecfb5_row7_col5\" class=\"data row7 col5\" >-0.021246</td>\n",
              "      <td id=\"T_ecfb5_row7_col6\" class=\"data row7 col6\" >0.984835</td>\n",
              "      <td id=\"T_ecfb5_row7_col7\" class=\"data row7 col7\" >1.000000</td>\n",
              "      <td id=\"T_ecfb5_row7_col8\" class=\"data row7 col8\" >-0.009452</td>\n",
              "      <td id=\"T_ecfb5_row7_col9\" class=\"data row7 col9\" >0.000956</td>\n",
              "      <td id=\"T_ecfb5_row7_col10\" class=\"data row7 col10\" >0.002102</td>\n",
              "      <td id=\"T_ecfb5_row7_col11\" class=\"data row7 col11\" >-0.045288</td>\n",
              "      <td id=\"T_ecfb5_row7_col12\" class=\"data row7 col12\" >-0.013073</td>\n",
              "      <td id=\"T_ecfb5_row7_col13\" class=\"data row7 col13\" >0.012638</td>\n",
              "      <td id=\"T_ecfb5_row7_col14\" class=\"data row7 col14\" >0.065034</td>\n",
              "    </tr>\n",
              "    <tr>\n",
              "      <th id=\"T_ecfb5_level0_row8\" class=\"row_heading level0 row8\" >WEATHER_DELAY</th>\n",
              "      <td id=\"T_ecfb5_row8_col0\" class=\"data row8 col0\" >0.001453</td>\n",
              "      <td id=\"T_ecfb5_row8_col1\" class=\"data row8 col1\" >0.013687</td>\n",
              "      <td id=\"T_ecfb5_row8_col2\" class=\"data row8 col2\" >0.017986</td>\n",
              "      <td id=\"T_ecfb5_row8_col3\" class=\"data row8 col3\" >0.289155</td>\n",
              "      <td id=\"T_ecfb5_row8_col4\" class=\"data row8 col4\" >0.015671</td>\n",
              "      <td id=\"T_ecfb5_row8_col5\" class=\"data row8 col5\" >0.289353</td>\n",
              "      <td id=\"T_ecfb5_row8_col6\" class=\"data row8 col6\" >-0.007517</td>\n",
              "      <td id=\"T_ecfb5_row8_col7\" class=\"data row8 col7\" >-0.009452</td>\n",
              "      <td id=\"T_ecfb5_row8_col8\" class=\"data row8 col8\" >1.000000</td>\n",
              "      <td id=\"T_ecfb5_row8_col9\" class=\"data row8 col9\" >-0.001329</td>\n",
              "      <td id=\"T_ecfb5_row8_col10\" class=\"data row8 col10\" >-0.000052</td>\n",
              "      <td id=\"T_ecfb5_row8_col11\" class=\"data row8 col11\" >0.002162</td>\n",
              "      <td id=\"T_ecfb5_row8_col12\" class=\"data row8 col12\" >-0.005581</td>\n",
              "      <td id=\"T_ecfb5_row8_col13\" class=\"data row8 col13\" >0.017520</td>\n",
              "      <td id=\"T_ecfb5_row8_col14\" class=\"data row8 col14\" >0.017027</td>\n",
              "    </tr>\n",
              "    <tr>\n",
              "      <th id=\"T_ecfb5_level0_row9\" class=\"row_heading level0 row9\" >DayOfMonth</th>\n",
              "      <td id=\"T_ecfb5_row9_col0\" class=\"data row9 col0\" >0.002229</td>\n",
              "      <td id=\"T_ecfb5_row9_col1\" class=\"data row9 col1\" >0.002561</td>\n",
              "      <td id=\"T_ecfb5_row9_col2\" class=\"data row9 col2\" >-0.003759</td>\n",
              "      <td id=\"T_ecfb5_row9_col3\" class=\"data row9 col3\" >-0.006273</td>\n",
              "      <td id=\"T_ecfb5_row9_col4\" class=\"data row9 col4\" >-0.005224</td>\n",
              "      <td id=\"T_ecfb5_row9_col5\" class=\"data row9 col5\" >-0.007141</td>\n",
              "      <td id=\"T_ecfb5_row9_col6\" class=\"data row9 col6\" >0.001019</td>\n",
              "      <td id=\"T_ecfb5_row9_col7\" class=\"data row9 col7\" >0.000956</td>\n",
              "      <td id=\"T_ecfb5_row9_col8\" class=\"data row9 col8\" >-0.001329</td>\n",
              "      <td id=\"T_ecfb5_row9_col9\" class=\"data row9 col9\" >1.000000</td>\n",
              "      <td id=\"T_ecfb5_row9_col10\" class=\"data row9 col10\" >0.004654</td>\n",
              "      <td id=\"T_ecfb5_row9_col11\" class=\"data row9 col11\" >0.000311</td>\n",
              "      <td id=\"T_ecfb5_row9_col12\" class=\"data row9 col12\" >-0.016167</td>\n",
              "      <td id=\"T_ecfb5_row9_col13\" class=\"data row9 col13\" >-0.000661</td>\n",
              "      <td id=\"T_ecfb5_row9_col14\" class=\"data row9 col14\" >0.000876</td>\n",
              "    </tr>\n",
              "    <tr>\n",
              "      <th id=\"T_ecfb5_level0_row10\" class=\"row_heading level0 row10\" >FlightMonth</th>\n",
              "      <td id=\"T_ecfb5_row10_col0\" class=\"data row10 col0\" >0.003152</td>\n",
              "      <td id=\"T_ecfb5_row10_col1\" class=\"data row10 col1\" >0.000694</td>\n",
              "      <td id=\"T_ecfb5_row10_col2\" class=\"data row10 col2\" >-0.003419</td>\n",
              "      <td id=\"T_ecfb5_row10_col3\" class=\"data row10 col3\" >-0.000743</td>\n",
              "      <td id=\"T_ecfb5_row10_col4\" class=\"data row10 col4\" >0.001823</td>\n",
              "      <td id=\"T_ecfb5_row10_col5\" class=\"data row10 col5\" >0.010041</td>\n",
              "      <td id=\"T_ecfb5_row10_col6\" class=\"data row10 col6\" >-0.001964</td>\n",
              "      <td id=\"T_ecfb5_row10_col7\" class=\"data row10 col7\" >0.002102</td>\n",
              "      <td id=\"T_ecfb5_row10_col8\" class=\"data row10 col8\" >-0.000052</td>\n",
              "      <td id=\"T_ecfb5_row10_col9\" class=\"data row10 col9\" >0.004654</td>\n",
              "      <td id=\"T_ecfb5_row10_col10\" class=\"data row10 col10\" >1.000000</td>\n",
              "      <td id=\"T_ecfb5_row10_col11\" class=\"data row10 col11\" >-0.012683</td>\n",
              "      <td id=\"T_ecfb5_row10_col12\" class=\"data row10 col12\" >0.029218</td>\n",
              "      <td id=\"T_ecfb5_row10_col13\" class=\"data row10 col13\" >-0.003389</td>\n",
              "      <td id=\"T_ecfb5_row10_col14\" class=\"data row10 col14\" >-0.003288</td>\n",
              "    </tr>\n",
              "    <tr>\n",
              "      <th id=\"T_ecfb5_level0_row11\" class=\"row_heading level0 row11\" >Airline</th>\n",
              "      <td id=\"T_ecfb5_row11_col0\" class=\"data row11 col0\" >0.163538</td>\n",
              "      <td id=\"T_ecfb5_row11_col1\" class=\"data row11 col1\" >0.160791</td>\n",
              "      <td id=\"T_ecfb5_row11_col2\" class=\"data row11 col2\" >-0.001302</td>\n",
              "      <td id=\"T_ecfb5_row11_col3\" class=\"data row11 col3\" >0.004335</td>\n",
              "      <td id=\"T_ecfb5_row11_col4\" class=\"data row11 col4\" >-0.000906</td>\n",
              "      <td id=\"T_ecfb5_row11_col5\" class=\"data row11 col5\" >0.026989</td>\n",
              "      <td id=\"T_ecfb5_row11_col6\" class=\"data row11 col6\" >-0.039636</td>\n",
              "      <td id=\"T_ecfb5_row11_col7\" class=\"data row11 col7\" >-0.045288</td>\n",
              "      <td id=\"T_ecfb5_row11_col8\" class=\"data row11 col8\" >0.002162</td>\n",
              "      <td id=\"T_ecfb5_row11_col9\" class=\"data row11 col9\" >0.000311</td>\n",
              "      <td id=\"T_ecfb5_row11_col10\" class=\"data row11 col10\" >-0.012683</td>\n",
              "      <td id=\"T_ecfb5_row11_col11\" class=\"data row11 col11\" >1.000000</td>\n",
              "      <td id=\"T_ecfb5_row11_col12\" class=\"data row11 col12\" >-0.001941</td>\n",
              "      <td id=\"T_ecfb5_row11_col13\" class=\"data row11 col13\" >0.005137</td>\n",
              "      <td id=\"T_ecfb5_row11_col14\" class=\"data row11 col14\" >-0.012382</td>\n",
              "    </tr>\n",
              "    <tr>\n",
              "      <th id=\"T_ecfb5_level0_row12\" class=\"row_heading level0 row12\" >Season</th>\n",
              "      <td id=\"T_ecfb5_row12_col0\" class=\"data row12 col0\" >-0.004038</td>\n",
              "      <td id=\"T_ecfb5_row12_col1\" class=\"data row12 col1\" >-0.005255</td>\n",
              "      <td id=\"T_ecfb5_row12_col2\" class=\"data row12 col2\" >-0.003010</td>\n",
              "      <td id=\"T_ecfb5_row12_col3\" class=\"data row12 col3\" >-0.031690</td>\n",
              "      <td id=\"T_ecfb5_row12_col4\" class=\"data row12 col4\" >0.015680</td>\n",
              "      <td id=\"T_ecfb5_row12_col5\" class=\"data row12 col5\" >-0.040689</td>\n",
              "      <td id=\"T_ecfb5_row12_col6\" class=\"data row12 col6\" >-0.004164</td>\n",
              "      <td id=\"T_ecfb5_row12_col7\" class=\"data row12 col7\" >-0.013073</td>\n",
              "      <td id=\"T_ecfb5_row12_col8\" class=\"data row12 col8\" >-0.005581</td>\n",
              "      <td id=\"T_ecfb5_row12_col9\" class=\"data row12 col9\" >-0.016167</td>\n",
              "      <td id=\"T_ecfb5_row12_col10\" class=\"data row12 col10\" >0.029218</td>\n",
              "      <td id=\"T_ecfb5_row12_col11\" class=\"data row12 col11\" >-0.001941</td>\n",
              "      <td id=\"T_ecfb5_row12_col12\" class=\"data row12 col12\" >1.000000</td>\n",
              "      <td id=\"T_ecfb5_row12_col13\" class=\"data row12 col13\" >-0.010282</td>\n",
              "      <td id=\"T_ecfb5_row12_col14\" class=\"data row12 col14\" >-0.007908</td>\n",
              "    </tr>\n",
              "    <tr>\n",
              "      <th id=\"T_ecfb5_level0_row13\" class=\"row_heading level0 row13\" >ExpectDepartTOD</th>\n",
              "      <td id=\"T_ecfb5_row13_col0\" class=\"data row13 col0\" >-0.096285</td>\n",
              "      <td id=\"T_ecfb5_row13_col1\" class=\"data row13 col1\" >0.100386</td>\n",
              "      <td id=\"T_ecfb5_row13_col2\" class=\"data row13 col2\" >0.896921</td>\n",
              "      <td id=\"T_ecfb5_row13_col3\" class=\"data row13 col3\" >0.096595</td>\n",
              "      <td id=\"T_ecfb5_row13_col4\" class=\"data row13 col4\" >0.569140</td>\n",
              "      <td id=\"T_ecfb5_row13_col5\" class=\"data row13 col5\" >0.085773</td>\n",
              "      <td id=\"T_ecfb5_row13_col6\" class=\"data row13 col6\" >0.001081</td>\n",
              "      <td id=\"T_ecfb5_row13_col7\" class=\"data row13 col7\" >0.012638</td>\n",
              "      <td id=\"T_ecfb5_row13_col8\" class=\"data row13 col8\" >0.017520</td>\n",
              "      <td id=\"T_ecfb5_row13_col9\" class=\"data row13 col9\" >-0.000661</td>\n",
              "      <td id=\"T_ecfb5_row13_col10\" class=\"data row13 col10\" >-0.003389</td>\n",
              "      <td id=\"T_ecfb5_row13_col11\" class=\"data row13 col11\" >0.005137</td>\n",
              "      <td id=\"T_ecfb5_row13_col12\" class=\"data row13 col12\" >-0.010282</td>\n",
              "      <td id=\"T_ecfb5_row13_col13\" class=\"data row13 col13\" >1.000000</td>\n",
              "      <td id=\"T_ecfb5_row13_col14\" class=\"data row13 col14\" >0.670724</td>\n",
              "    </tr>\n",
              "    <tr>\n",
              "      <th id=\"T_ecfb5_level0_row14\" class=\"row_heading level0 row14\" >ExpectArrivalTOD</th>\n",
              "      <td id=\"T_ecfb5_row14_col0\" class=\"data row14 col0\" >-0.100540</td>\n",
              "      <td id=\"T_ecfb5_row14_col1\" class=\"data row14 col1\" >0.044166</td>\n",
              "      <td id=\"T_ecfb5_row14_col2\" class=\"data row14 col2\" >0.642325</td>\n",
              "      <td id=\"T_ecfb5_row14_col3\" class=\"data row14 col3\" >0.078888</td>\n",
              "      <td id=\"T_ecfb5_row14_col4\" class=\"data row14 col4\" >0.495739</td>\n",
              "      <td id=\"T_ecfb5_row14_col5\" class=\"data row14 col5\" >0.071633</td>\n",
              "      <td id=\"T_ecfb5_row14_col6\" class=\"data row14 col6\" >0.058887</td>\n",
              "      <td id=\"T_ecfb5_row14_col7\" class=\"data row14 col7\" >0.065034</td>\n",
              "      <td id=\"T_ecfb5_row14_col8\" class=\"data row14 col8\" >0.017027</td>\n",
              "      <td id=\"T_ecfb5_row14_col9\" class=\"data row14 col9\" >0.000876</td>\n",
              "      <td id=\"T_ecfb5_row14_col10\" class=\"data row14 col10\" >-0.003288</td>\n",
              "      <td id=\"T_ecfb5_row14_col11\" class=\"data row14 col11\" >-0.012382</td>\n",
              "      <td id=\"T_ecfb5_row14_col12\" class=\"data row14 col12\" >-0.007908</td>\n",
              "      <td id=\"T_ecfb5_row14_col13\" class=\"data row14 col13\" >0.670724</td>\n",
              "      <td id=\"T_ecfb5_row14_col14\" class=\"data row14 col14\" >1.000000</td>\n",
              "    </tr>\n",
              "  </tbody>\n",
              "</table>\n"
            ],
            "text/plain": [
              "<pandas.io.formats.style.Styler at 0x7f33040a5150>"
            ]
          },
          "execution_count": 25,
          "metadata": {},
          "output_type": "execute_result"
        }
      ],
      "source": [
        "#Develop correlation matrix\n",
        "initial_corr_df = delay_df_xformed.drop('IsWeatherDelay', 'IsDepartDelay', 'IsArrivalDelay').toPandas()\n",
        "corr = initial_corr_df.corr()\n",
        "corr.style.background_gradient(cmap='coolwarm')"
      ]
    },
    {
      "attachments": {},
      "cell_type": "markdown",
      "metadata": {
        "id": "1K0aBPWOxy6J"
      },
      "source": [
        "ExpectedDepartTime and ActualDepartTime are naturally highly correlated, if we keep variables in that are highly correlated then we are unable to interpret the coefficients. This is the multicollinearity issue. The same can be said about DepartDelay and ArrivalDelay - so these cannot be predictors for any model. AirTime and Distance also are highly correlated, which intuitively makes sense - so we should drop AirTime in regression models. Also models should choose the variables expected depart time & expected arrival time, or expected depart tod and expect arrival tod. Should not have all 4 variables. Since the expected arrival time and expected departure time are more correlated with the delay variables we are looking at - we should drop the TOD variables."
      ]
    },
    {
      "cell_type": "code",
      "execution_count": null,
      "metadata": {
        "id": "HzGS5pnnDPKh"
      },
      "outputs": [],
      "source": [
        "#Drop remaining variables that are not needed for models\n",
        "delay_df_xformed = delay_df_xformed.drop('ExpectDepartTOD', 'ExpectArrivalTOD', 'WEATHER_DELAY', 'AirTime')"
      ]
    },
    {
      "attachments": {},
      "cell_type": "markdown",
      "metadata": {
        "id": "Jvr-gKpFGV2s"
      },
      "source": [
        "### Summary Table for Remaining Clean Variables"
      ]
    },
    {
      "cell_type": "code",
      "execution_count": null,
      "metadata": {
        "colab": {
          "base_uri": "https://localhost:8080/"
        },
        "id": "ov4u19qWGczB",
        "outputId": "cb863c04-31c0-446c-cd22-011865898312"
      },
      "outputs": [
        {
          "name": "stdout",
          "output_type": "stream",
          "text": [
            "+-------+-----------------+-----------------+------------------+-----------------+-------------------+-----------------+-----------------+------------------+------------------+--------------------+------------------+------------------+-----------------+------------------+\n",
            "|summary|           Origin|             Dest|ExpectedDepartTime|      DepartDelay|ExpectedArrivalTime|     ArrivalDelay|         Distance|        DayOfMonth|       FlightMonth|      IsWeatherDelay|     IsDepartDelay|    IsArrivalDelay|          Airline|            Season|\n",
            "+-------+-----------------+-----------------+------------------+-----------------+-------------------+-----------------+-----------------+------------------+------------------+--------------------+------------------+------------------+-----------------+------------------+\n",
            "|  count|           186395|           186395|            186395|           186395|             186395|           186395|           186395|            186395|            186395|              186395|            186395|            186395|           186395|            186395|\n",
            "|   mean|35.27442259717267|34.97472571689155| 1327.660269857024|9.834974114112503| 1484.5443922852007|5.019941522036535|802.7152874272379|15.807473376431771| 6.591507282920679|0.012264277475254165|0.3453740711928968|0.3559752139274122|4.405134257893184|1.4497760133050779|\n",
            "| stddev| 47.9984000922674| 48.1500773530185|490.69064897056865|44.42340060875952|  518.2330404853648|46.81467552176689|599.6812620090312| 8.765554537391669|3.3934715866602834| 0.11006329980471277|0.4754913617650489|0.4788090339113493|4.312244804445762|1.1162092253696165|\n",
            "|    min|              0.0|              0.0|                 1|           -114.0|                  1|           -106.0|             31.0|                 1|                 1|                   0|                 0|                 0|              0.0|               0.0|\n",
            "|    25%|              6.0|              6.0|               912|             -5.0|               1100|            -14.0|            363.0|                 8|                 4|                   0|                 0|                 0|              1.0|               0.0|\n",
            "|    50%|             18.0|             18.0|              1319|             -2.0|               1513|             -6.0|            633.0|                16|                 7|                   0|                 0|                 0|              3.0|               1.0|\n",
            "|    75%|             43.0|             42.0|              1735|              7.0|               1918|              8.0|           1035.0|                23|                10|                   0|                 1|                 1|              7.0|               2.0|\n",
            "|    max|            350.0|            353.0|              2359|           2109.0|               2400|           2153.0|           4983.0|                31|                12|                   1|                 1|                 1|             17.0|               3.0|\n",
            "+-------+-----------------+-----------------+------------------+-----------------+-------------------+-----------------+-----------------+------------------+------------------+--------------------+------------------+------------------+-----------------+------------------+\n",
            "\n"
          ]
        }
      ],
      "source": [
        "delay_df_xformed.summary().show()"
      ]
    },
    {
      "attachments": {},
      "cell_type": "markdown",
      "metadata": {
        "id": "KG6_zqM5NzTk"
      },
      "source": [
        "# Linear Regression Model: Predicting How Long a Delay Will Be\n",
        "With the continuous variable, *ARR_DELAY*, we are able to see by how many minutes a flight's arrival time was delayed (The difference between expected arrival time *CRS_ARR_TIME* and actual arrival time *ARR_TIME*). In order to create a model that can predict how many minutes a flight will be delayed, this arrival delay variable will need to be the dependent variable in a linear regression model."
      ]
    },
    {
      "cell_type": "code",
      "execution_count": null,
      "metadata": {
        "id": "X6Yr_f4w5cXL"
      },
      "outputs": [],
      "source": [
        "# Split Data\n",
        "training_df, validation_df, testing_df = delay_df_xformed.randomSplit([0.6, 0.3, 0.1], )"
      ]
    },
    {
      "attachments": {},
      "cell_type": "markdown",
      "metadata": {
        "id": "AEde_ZAwJ4Oy"
      },
      "source": [
        "### Linear Regression Model: Duration of Arrival Delay Prediction"
      ]
    },
    {
      "cell_type": "code",
      "execution_count": null,
      "metadata": {
        "colab": {
          "base_uri": "https://localhost:8080/"
        },
        "id": "XAgiY5BxMVr7",
        "outputId": "d7d98b31-7e18-4d50-97e0-64911f364335"
      },
      "outputs": [
        {
          "data": {
            "text/plain": [
              "2306.3149040705703"
            ]
          },
          "execution_count": 29,
          "metadata": {},
          "output_type": "execute_result"
        }
      ],
      "source": [
        "# Create Vector Assembler and Linear Regression model\n",
        "va = feature.VectorAssembler(inputCols = ['Airline', 'Origin', 'Dest', 'Season',\n",
        "                                          'Distance', 'DayOfMonth', 'ExpectedDepartTime',\n",
        "                                          'ExpectedArrivalTime', 'FlightMonth'],\n",
        "                             outputCol='features')\n",
        "lr = regression.LinearRegression(featuresCol = 'features', labelCol = 'ArrivalDelay')\n",
        "# Fit Pipe to Training data\n",
        "arr_delay_pipe = Pipeline(stages = [va, lr]).fit(training_df)\n",
        "# Evaluate MSE score of the Linear Regression model\n",
        "ev = RegressionEvaluator(metricName = 'mse', predictionCol = 'prediction', labelCol = 'ArrivalDelay')\n",
        "ev.evaluate(arr_delay_pipe.transform(validation_df))"
      ]
    },
    {
      "cell_type": "code",
      "execution_count": null,
      "metadata": {
        "colab": {
          "base_uri": "https://localhost:8080/"
        },
        "id": "Ss0SAQwR1eCL",
        "outputId": "6878d0f4-6ac0-426d-ae95-5af21884340c"
      },
      "outputs": [
        {
          "name": "stdout",
          "output_type": "stream",
          "text": [
            "{Param(parent='LinearRegression_a3ccf0ae8928', name='regParam', doc='regularization parameter (>= 0).'): 0.1, Param(parent='LinearRegression_a3ccf0ae8928', name='elasticNetParam', doc='the ElasticNet mixing parameter, in range [0, 1]. For alpha = 0, the penalty is an L2 penalty. For alpha = 1, it is an L1 penalty.'): 0.5}\n",
            "MSE on Validation Data =  2306.314518160212\n"
          ]
        }
      ],
      "source": [
        "lr_pipeline = Pipeline(stages = [va, lr])\n",
        "if enable_grid_search:\n",
        "      # Create grid\n",
        "      lr_grid = ParamGridBuilder().\\\n",
        "      addGrid(lr.regParam, [0.1, 0.00001]).\\\n",
        "      addGrid(lr.elasticNetParam, [0.0, 0.5, 1]).\\\n",
        "      build()\n",
        "\n",
        "      # Grid search - fit with training data\n",
        "      lr_all_models = []\n",
        "      for j in range(len(lr_grid)):\n",
        "        lr_model = lr_pipeline.fit(training_df, lr_grid[j])\n",
        "        lr_all_models.append(lr_model)\n",
        "\n",
        "      # Get the MSE scores of each model on the grid\n",
        "      # Create empty list that will be appended\n",
        "      lr_MSE_Scores = []\n",
        "      # For each model in all models on the grid - obtain the MSE score\n",
        "      for m in lr_all_models:\n",
        "        lr_predictions = m.transform(validation_df)\n",
        "        lr_MSE_score = ev.evaluate(lr_predictions, {ev.metricName: \"mse\"})\n",
        "        lr_MSE_Scores.append(lr_MSE_score)\n",
        "\n",
        "      # Get index of the best model by using function argmin - the lower the MSE score the better\n",
        "      best_lr_model_idx = np.argmin(lr_MSE_Scores)\n",
        "      best_lr_model = lr_all_models[best_lr_model_idx]\n",
        "\n",
        "      # Look at the corresponding grid index to find the hyper parameter values in the best model\n",
        "      print(lr_grid[best_lr_model_idx])\n",
        "      print(\"MSE on Validation Data = \", lr_MSE_Scores[best_lr_model_idx])\n",
        "      pass"
      ]
    },
    {
      "cell_type": "code",
      "execution_count": null,
      "metadata": {
        "colab": {
          "base_uri": "https://localhost:8080/"
        },
        "id": "RBENAaSUVOuV",
        "outputId": "684367c7-166f-4019-9326-bf6187ba5b31"
      },
      "outputs": [
        {
          "data": {
            "text/plain": [
              "1974.8701341728365"
            ]
          },
          "execution_count": 34,
          "metadata": {},
          "output_type": "execute_result"
        }
      ],
      "source": [
        "#Hard code best Linear Regression model\n",
        "tuned_lr = regression.LinearRegression(featuresCol = 'features', labelCol = 'ArrivalDelay', regParam=0.01, elasticNetParam=0.05)\n",
        "tuned_lr_pipe = Pipeline(stages=[va, tuned_lr]).fit(training_df)\n",
        "tuned_lr_mse = ev.evaluate(tuned_lr_pipe.transform(validation_df))\n",
        "# evaluate MSE on Testing data\n",
        "ev.evaluate(tuned_lr_pipe.transform(testing_df))"
      ]
    },
    {
      "cell_type": "code",
      "execution_count": null,
      "metadata": {
        "colab": {
          "base_uri": "https://localhost:8080/",
          "height": 332
        },
        "id": "rDN006rcNU0g",
        "outputId": "4b65bc18-0433-40ed-c6d8-f667c83b1a92"
      },
      "outputs": [
        {
          "data": {
            "text/html": [
              "\n",
              "  <div id=\"df-6cd29e23-e84c-4a49-838f-48e011175b12\">\n",
              "    <div class=\"colab-df-container\">\n",
              "      <div>\n",
              "<style scoped>\n",
              "    .dataframe tbody tr th:only-of-type {\n",
              "        vertical-align: middle;\n",
              "    }\n",
              "\n",
              "    .dataframe tbody tr th {\n",
              "        vertical-align: top;\n",
              "    }\n",
              "\n",
              "    .dataframe thead th {\n",
              "        text-align: right;\n",
              "    }\n",
              "</style>\n",
              "<table border=\"1\" class=\"dataframe\">\n",
              "  <thead>\n",
              "    <tr style=\"text-align: right;\">\n",
              "      <th></th>\n",
              "      <th>coefficient</th>\n",
              "      <th>weight</th>\n",
              "    </tr>\n",
              "  </thead>\n",
              "  <tbody>\n",
              "    <tr>\n",
              "      <th>3</th>\n",
              "      <td>Season</td>\n",
              "      <td>1.764727</td>\n",
              "    </tr>\n",
              "    <tr>\n",
              "      <th>0</th>\n",
              "      <td>Airline</td>\n",
              "      <td>0.343640</td>\n",
              "    </tr>\n",
              "    <tr>\n",
              "      <th>8</th>\n",
              "      <td>FlightMonth</td>\n",
              "      <td>0.143268</td>\n",
              "    </tr>\n",
              "    <tr>\n",
              "      <th>5</th>\n",
              "      <td>DayOfMonth</td>\n",
              "      <td>0.036434</td>\n",
              "    </tr>\n",
              "    <tr>\n",
              "      <th>2</th>\n",
              "      <td>Dest</td>\n",
              "      <td>0.014508</td>\n",
              "    </tr>\n",
              "    <tr>\n",
              "      <th>6</th>\n",
              "      <td>ExpectedDepartTime</td>\n",
              "      <td>0.006731</td>\n",
              "    </tr>\n",
              "    <tr>\n",
              "      <th>7</th>\n",
              "      <td>ExpectedArrivalTime</td>\n",
              "      <td>0.003418</td>\n",
              "    </tr>\n",
              "    <tr>\n",
              "      <th>1</th>\n",
              "      <td>Origin</td>\n",
              "      <td>0.001903</td>\n",
              "    </tr>\n",
              "    <tr>\n",
              "      <th>4</th>\n",
              "      <td>Distance</td>\n",
              "      <td>0.001750</td>\n",
              "    </tr>\n",
              "  </tbody>\n",
              "</table>\n",
              "</div>\n",
              "      <button class=\"colab-df-convert\" onclick=\"convertToInteractive('df-6cd29e23-e84c-4a49-838f-48e011175b12')\"\n",
              "              title=\"Convert this dataframe to an interactive table.\"\n",
              "              style=\"display:none;\">\n",
              "        \n",
              "  <svg xmlns=\"http://www.w3.org/2000/svg\" height=\"24px\"viewBox=\"0 0 24 24\"\n",
              "       width=\"24px\">\n",
              "    <path d=\"M0 0h24v24H0V0z\" fill=\"none\"/>\n",
              "    <path d=\"M18.56 5.44l.94 2.06.94-2.06 2.06-.94-2.06-.94-.94-2.06-.94 2.06-2.06.94zm-11 1L8.5 8.5l.94-2.06 2.06-.94-2.06-.94L8.5 2.5l-.94 2.06-2.06.94zm10 10l.94 2.06.94-2.06 2.06-.94-2.06-.94-.94-2.06-.94 2.06-2.06.94z\"/><path d=\"M17.41 7.96l-1.37-1.37c-.4-.4-.92-.59-1.43-.59-.52 0-1.04.2-1.43.59L10.3 9.45l-7.72 7.72c-.78.78-.78 2.05 0 2.83L4 21.41c.39.39.9.59 1.41.59.51 0 1.02-.2 1.41-.59l7.78-7.78 2.81-2.81c.8-.78.8-2.07 0-2.86zM5.41 20L4 18.59l7.72-7.72 1.47 1.35L5.41 20z\"/>\n",
              "  </svg>\n",
              "      </button>\n",
              "      \n",
              "  <style>\n",
              "    .colab-df-container {\n",
              "      display:flex;\n",
              "      flex-wrap:wrap;\n",
              "      gap: 12px;\n",
              "    }\n",
              "\n",
              "    .colab-df-convert {\n",
              "      background-color: #E8F0FE;\n",
              "      border: none;\n",
              "      border-radius: 50%;\n",
              "      cursor: pointer;\n",
              "      display: none;\n",
              "      fill: #1967D2;\n",
              "      height: 32px;\n",
              "      padding: 0 0 0 0;\n",
              "      width: 32px;\n",
              "    }\n",
              "\n",
              "    .colab-df-convert:hover {\n",
              "      background-color: #E2EBFA;\n",
              "      box-shadow: 0px 1px 2px rgba(60, 64, 67, 0.3), 0px 1px 3px 1px rgba(60, 64, 67, 0.15);\n",
              "      fill: #174EA6;\n",
              "    }\n",
              "\n",
              "    [theme=dark] .colab-df-convert {\n",
              "      background-color: #3B4455;\n",
              "      fill: #D2E3FC;\n",
              "    }\n",
              "\n",
              "    [theme=dark] .colab-df-convert:hover {\n",
              "      background-color: #434B5C;\n",
              "      box-shadow: 0px 1px 3px 1px rgba(0, 0, 0, 0.15);\n",
              "      filter: drop-shadow(0px 1px 2px rgba(0, 0, 0, 0.3));\n",
              "      fill: #FFFFFF;\n",
              "    }\n",
              "  </style>\n",
              "\n",
              "      <script>\n",
              "        const buttonEl =\n",
              "          document.querySelector('#df-6cd29e23-e84c-4a49-838f-48e011175b12 button.colab-df-convert');\n",
              "        buttonEl.style.display =\n",
              "          google.colab.kernel.accessAllowed ? 'block' : 'none';\n",
              "\n",
              "        async function convertToInteractive(key) {\n",
              "          const element = document.querySelector('#df-6cd29e23-e84c-4a49-838f-48e011175b12');\n",
              "          const dataTable =\n",
              "            await google.colab.kernel.invokeFunction('convertToInteractive',\n",
              "                                                     [key], {});\n",
              "          if (!dataTable) return;\n",
              "\n",
              "          const docLinkHtml = 'Like what you see? Visit the ' +\n",
              "            '<a target=\"_blank\" href=https://colab.research.google.com/notebooks/data_table.ipynb>data table notebook</a>'\n",
              "            + ' to learn more about interactive tables.';\n",
              "          element.innerHTML = '';\n",
              "          dataTable['output_type'] = 'display_data';\n",
              "          await google.colab.output.renderOutput(dataTable, element);\n",
              "          const docLink = document.createElement('div');\n",
              "          docLink.innerHTML = docLinkHtml;\n",
              "          element.appendChild(docLink);\n",
              "        }\n",
              "      </script>\n",
              "    </div>\n",
              "  </div>\n",
              "  "
            ],
            "text/plain": [
              "           coefficient    weight\n",
              "3               Season  1.764727\n",
              "0              Airline  0.343640\n",
              "8          FlightMonth  0.143268\n",
              "5           DayOfMonth  0.036434\n",
              "2                 Dest  0.014508\n",
              "6   ExpectedDepartTime  0.006731\n",
              "7  ExpectedArrivalTime  0.003418\n",
              "1               Origin  0.001903\n",
              "4             Distance  0.001750"
            ]
          },
          "execution_count": 35,
          "metadata": {},
          "output_type": "execute_result"
        }
      ],
      "source": [
        "# Create dataframe with Feature Weights\n",
        "feature_coeff = arr_delay_pipe.stages[-1].coefficients.toArray()\n",
        "feature_weight = {'coefficient': ['Airline', 'Origin', 'Dest', 'Season',\n",
        "                                  'Distance', 'DayOfMonth', 'ExpectedDepartTime',\n",
        "                                  'ExpectedArrivalTime', 'FlightMonth']\n",
        "                  , 'weight': np.abs(feature_coeff)}\n",
        "feature_weight_df = pd.DataFrame(data = feature_weight)\n",
        "feature_weight_df = feature_weight_df.sort_values('weight', ascending = False)\n",
        "feature_weight_df"
      ]
    },
    {
      "cell_type": "code",
      "execution_count": null,
      "metadata": {
        "id": "hc4lT9yBNZSu"
      },
      "outputs": [],
      "source": [
        "# Show some predictions from Linear Regression model\n",
        "arr_delay_pred = arr_delay_pipe.transform(testing_df)\n",
        "#arr_delay_pred.select('ArrivalDelay', 'prediction').show(20)"
      ]
    },
    {
      "cell_type": "code",
      "execution_count": null,
      "metadata": {
        "colab": {
          "base_uri": "https://localhost:8080/"
        },
        "id": "p_KwoyXuxjDs",
        "outputId": "23105150-1410-419b-f214-2a1f3b46e6cd"
      },
      "outputs": [
        {
          "data": {
            "text/plain": [
              "2306.3149040705694"
            ]
          },
          "execution_count": 37,
          "metadata": {},
          "output_type": "execute_result"
        }
      ],
      "source": [
        "# Create a StandardScaler and a Scaled Linear Regression Model\n",
        "sc = feature.StandardScaler(inputCol = 'features', outputCol = 'scaled_features',\n",
        "                            withMean = True, withStd = True)\n",
        "lr_scaled = regression.LinearRegression(featuresCol = 'scaled_features', labelCol = 'ArrivalDelay')\n",
        "# Fit Pipe to Training data\n",
        "arr_delay_pipe_4 = Pipeline(stages=[va, sc, lr_scaled]).fit(training_df)\n",
        "# Evaluate on Validation data\n",
        "ev.evaluate(arr_delay_pipe_4.transform(validation_df))"
      ]
    },
    {
      "cell_type": "code",
      "execution_count": null,
      "metadata": {
        "colab": {
          "base_uri": "https://localhost:8080/",
          "height": 332
        },
        "id": "QWl4IkPjz7AM",
        "outputId": "77d3688c-184a-400d-a984-887411b5b59a"
      },
      "outputs": [
        {
          "data": {
            "text/html": [
              "\n",
              "  <div id=\"df-f7f9ea6b-a343-4251-89ee-a98e36a6ca1c\">\n",
              "    <div class=\"colab-df-container\">\n",
              "      <div>\n",
              "<style scoped>\n",
              "    .dataframe tbody tr th:only-of-type {\n",
              "        vertical-align: middle;\n",
              "    }\n",
              "\n",
              "    .dataframe tbody tr th {\n",
              "        vertical-align: top;\n",
              "    }\n",
              "\n",
              "    .dataframe thead th {\n",
              "        text-align: right;\n",
              "    }\n",
              "</style>\n",
              "<table border=\"1\" class=\"dataframe\">\n",
              "  <thead>\n",
              "    <tr style=\"text-align: right;\">\n",
              "      <th></th>\n",
              "      <th>coefficient</th>\n",
              "      <th>weight</th>\n",
              "    </tr>\n",
              "  </thead>\n",
              "  <tbody>\n",
              "    <tr>\n",
              "      <th>6</th>\n",
              "      <td>ExpectedDepartTime</td>\n",
              "      <td>3.304841</td>\n",
              "    </tr>\n",
              "    <tr>\n",
              "      <th>3</th>\n",
              "      <td>Season</td>\n",
              "      <td>1.972916</td>\n",
              "    </tr>\n",
              "    <tr>\n",
              "      <th>7</th>\n",
              "      <td>ExpectedArrivalTime</td>\n",
              "      <td>1.774120</td>\n",
              "    </tr>\n",
              "    <tr>\n",
              "      <th>0</th>\n",
              "      <td>Airline</td>\n",
              "      <td>1.485147</td>\n",
              "    </tr>\n",
              "    <tr>\n",
              "      <th>4</th>\n",
              "      <td>Distance</td>\n",
              "      <td>1.046970</td>\n",
              "    </tr>\n",
              "    <tr>\n",
              "      <th>2</th>\n",
              "      <td>Dest</td>\n",
              "      <td>0.699522</td>\n",
              "    </tr>\n",
              "    <tr>\n",
              "      <th>8</th>\n",
              "      <td>FlightMonth</td>\n",
              "      <td>0.485661</td>\n",
              "    </tr>\n",
              "    <tr>\n",
              "      <th>5</th>\n",
              "      <td>DayOfMonth</td>\n",
              "      <td>0.319226</td>\n",
              "    </tr>\n",
              "    <tr>\n",
              "      <th>1</th>\n",
              "      <td>Origin</td>\n",
              "      <td>0.091461</td>\n",
              "    </tr>\n",
              "  </tbody>\n",
              "</table>\n",
              "</div>\n",
              "      <button class=\"colab-df-convert\" onclick=\"convertToInteractive('df-f7f9ea6b-a343-4251-89ee-a98e36a6ca1c')\"\n",
              "              title=\"Convert this dataframe to an interactive table.\"\n",
              "              style=\"display:none;\">\n",
              "        \n",
              "  <svg xmlns=\"http://www.w3.org/2000/svg\" height=\"24px\"viewBox=\"0 0 24 24\"\n",
              "       width=\"24px\">\n",
              "    <path d=\"M0 0h24v24H0V0z\" fill=\"none\"/>\n",
              "    <path d=\"M18.56 5.44l.94 2.06.94-2.06 2.06-.94-2.06-.94-.94-2.06-.94 2.06-2.06.94zm-11 1L8.5 8.5l.94-2.06 2.06-.94-2.06-.94L8.5 2.5l-.94 2.06-2.06.94zm10 10l.94 2.06.94-2.06 2.06-.94-2.06-.94-.94-2.06-.94 2.06-2.06.94z\"/><path d=\"M17.41 7.96l-1.37-1.37c-.4-.4-.92-.59-1.43-.59-.52 0-1.04.2-1.43.59L10.3 9.45l-7.72 7.72c-.78.78-.78 2.05 0 2.83L4 21.41c.39.39.9.59 1.41.59.51 0 1.02-.2 1.41-.59l7.78-7.78 2.81-2.81c.8-.78.8-2.07 0-2.86zM5.41 20L4 18.59l7.72-7.72 1.47 1.35L5.41 20z\"/>\n",
              "  </svg>\n",
              "      </button>\n",
              "      \n",
              "  <style>\n",
              "    .colab-df-container {\n",
              "      display:flex;\n",
              "      flex-wrap:wrap;\n",
              "      gap: 12px;\n",
              "    }\n",
              "\n",
              "    .colab-df-convert {\n",
              "      background-color: #E8F0FE;\n",
              "      border: none;\n",
              "      border-radius: 50%;\n",
              "      cursor: pointer;\n",
              "      display: none;\n",
              "      fill: #1967D2;\n",
              "      height: 32px;\n",
              "      padding: 0 0 0 0;\n",
              "      width: 32px;\n",
              "    }\n",
              "\n",
              "    .colab-df-convert:hover {\n",
              "      background-color: #E2EBFA;\n",
              "      box-shadow: 0px 1px 2px rgba(60, 64, 67, 0.3), 0px 1px 3px 1px rgba(60, 64, 67, 0.15);\n",
              "      fill: #174EA6;\n",
              "    }\n",
              "\n",
              "    [theme=dark] .colab-df-convert {\n",
              "      background-color: #3B4455;\n",
              "      fill: #D2E3FC;\n",
              "    }\n",
              "\n",
              "    [theme=dark] .colab-df-convert:hover {\n",
              "      background-color: #434B5C;\n",
              "      box-shadow: 0px 1px 3px 1px rgba(0, 0, 0, 0.15);\n",
              "      filter: drop-shadow(0px 1px 2px rgba(0, 0, 0, 0.3));\n",
              "      fill: #FFFFFF;\n",
              "    }\n",
              "  </style>\n",
              "\n",
              "      <script>\n",
              "        const buttonEl =\n",
              "          document.querySelector('#df-f7f9ea6b-a343-4251-89ee-a98e36a6ca1c button.colab-df-convert');\n",
              "        buttonEl.style.display =\n",
              "          google.colab.kernel.accessAllowed ? 'block' : 'none';\n",
              "\n",
              "        async function convertToInteractive(key) {\n",
              "          const element = document.querySelector('#df-f7f9ea6b-a343-4251-89ee-a98e36a6ca1c');\n",
              "          const dataTable =\n",
              "            await google.colab.kernel.invokeFunction('convertToInteractive',\n",
              "                                                     [key], {});\n",
              "          if (!dataTable) return;\n",
              "\n",
              "          const docLinkHtml = 'Like what you see? Visit the ' +\n",
              "            '<a target=\"_blank\" href=https://colab.research.google.com/notebooks/data_table.ipynb>data table notebook</a>'\n",
              "            + ' to learn more about interactive tables.';\n",
              "          element.innerHTML = '';\n",
              "          dataTable['output_type'] = 'display_data';\n",
              "          await google.colab.output.renderOutput(dataTable, element);\n",
              "          const docLink = document.createElement('div');\n",
              "          docLink.innerHTML = docLinkHtml;\n",
              "          element.appendChild(docLink);\n",
              "        }\n",
              "      </script>\n",
              "    </div>\n",
              "  </div>\n",
              "  "
            ],
            "text/plain": [
              "           coefficient    weight\n",
              "6   ExpectedDepartTime  3.304841\n",
              "3               Season  1.972916\n",
              "7  ExpectedArrivalTime  1.774120\n",
              "0              Airline  1.485147\n",
              "4             Distance  1.046970\n",
              "2                 Dest  0.699522\n",
              "8          FlightMonth  0.485661\n",
              "5           DayOfMonth  0.319226\n",
              "1               Origin  0.091461"
            ]
          },
          "execution_count": 38,
          "metadata": {},
          "output_type": "execute_result"
        }
      ],
      "source": [
        "# Create dataframe with Feature Weights\n",
        "feature_coeff_2 = arr_delay_pipe_4.stages[-1].coefficients.toArray()\n",
        "feature_weight_2 = {'coefficient': ['Airline', 'Origin', 'Dest', 'Season',\n",
        "                                  'Distance', 'DayOfMonth', 'ExpectedDepartTime',\n",
        "                                  'ExpectedArrivalTime', 'FlightMonth']\n",
        "                  , 'weight': np.abs(feature_coeff_2)}\n",
        "feature_weight_df_2 = pd.DataFrame(data = feature_weight_2)\n",
        "feature_weight_df_2 = feature_weight_df_2.sort_values('weight', ascending = False)\n",
        "feature_weight_df_2"
      ]
    },
    {
      "cell_type": "code",
      "execution_count": null,
      "metadata": {
        "id": "JViObRJM0VsN"
      },
      "outputs": [],
      "source": [
        "# Show some predictions from Scaled Linear Regression Model\n",
        "arr_delay_pred_4 = arr_delay_pipe_4.transform(testing_df)\n",
        "#arr_delay_pred_4.select('ArrivalDelay', 'prediction').show(20)"
      ]
    },
    {
      "attachments": {},
      "cell_type": "markdown",
      "metadata": {
        "id": "xFtqFEycJxJh"
      },
      "source": [
        "### Random Forest Regression Model: Duration of Arrival Delay Prediction"
      ]
    },
    {
      "cell_type": "code",
      "execution_count": null,
      "metadata": {
        "colab": {
          "base_uri": "https://localhost:8080/"
        },
        "id": "jqOC3dsVNdJl",
        "outputId": "f8f2635f-0aab-44fc-a0c5-974dd044bffa"
      },
      "outputs": [
        {
          "data": {
            "text/plain": [
              "2310.6668735345575"
            ]
          },
          "execution_count": 39,
          "metadata": {},
          "output_type": "execute_result"
        }
      ],
      "source": [
        "# Create Vector Indexer and Random Forest Regression Model\n",
        "feature_idx = VectorIndexer(inputCol = 'features', outputCol = 'indexedFeatures')\n",
        "rf = regression.RandomForestRegressor(featuresCol = 'indexedFeatures', labelCol = 'ArrivalDelay', maxBins = 354)\n",
        "# Fit Pipe to Training data\n",
        "arr_delay_pipe_2 = Pipeline(stages = [va, feature_idx, rf]).fit(training_df)\n",
        "# Evaluate MSE of Random Forest Regression Model\n",
        "ev.evaluate(arr_delay_pipe_2.transform(validation_df))"
      ]
    },
    {
      "cell_type": "code",
      "execution_count": null,
      "metadata": {
        "colab": {
          "base_uri": "https://localhost:8080/"
        },
        "id": "Wv9cxlTz1jur",
        "outputId": "dfa3819e-da1a-446f-ed60-e4693271f6f4"
      },
      "outputs": [
        {
          "name": "stdout",
          "output_type": "stream",
          "text": [
            "{Param(parent='RandomForestRegressor_8ecf277db41b', name='numTrees', doc='Number of trees to train (>= 1).'): 30, Param(parent='RandomForestRegressor_8ecf277db41b', name='maxDepth', doc='Maximum depth of the tree. (>= 0) E.g., depth 0 means 1 leaf node; depth 1 means 1 internal node + 2 leaf nodes. Must be in range [0, 30].'): 5}\n",
            "Mean Squared Error (MSE) on Validation Data =  2306.3939109620405\n"
          ]
        }
      ],
      "source": [
        "rf_pipeline = Pipeline(stages = [va, feature_idx, rf])\n",
        "if enable_grid_search:\n",
        "  # Build grid\n",
        "    grid = ParamGridBuilder().\\\n",
        "    addGrid(rf.numTrees, [30, 70]).\\\n",
        "    addGrid(rf.maxDepth, [5, 10]).\\\n",
        "    build()\n",
        "\n",
        "  # Grid search\n",
        "    all_models = []\n",
        "    for j in range(len(grid)):\n",
        "      model = rf_pipeline.fit(training_df, grid[j])\n",
        "      all_models.append(model)\n",
        "\n",
        "    # Get the MSE scores of each model on the grid\n",
        "    # Create empty list that will be appended\n",
        "    mse_scores = []\n",
        "    # For each model in all models on the grid - obtain the MSE score using a RegressionEvaluator\n",
        "    for m in all_models:\n",
        "      predictions = m.transform(validation_df)\n",
        "      evaluator = RegressionEvaluator(labelCol=\"ArrivalDelay\", predictionCol=\"prediction\", metricName=\"mse\")\n",
        "      mse = evaluator.evaluate(predictions)\n",
        "      mse_scores.append(mse)\n",
        "\n",
        "    # Get index of the best model by using function argmin - lower MSE is better\n",
        "    best_model_idx = np.argmin(mse_scores)\n",
        "    best_model = all_models[best_model_idx]\n",
        "\n",
        "    # Print the best model parameters\n",
        "    print(grid[best_model_idx])\n",
        "    # Print the MSE score of the best model\n",
        "    print(\"Mean Squared Error (MSE) on Validation Data = \", mse_scores[best_model_idx])\n",
        "    pass"
      ]
    },
    {
      "cell_type": "code",
      "execution_count": null,
      "metadata": {
        "colab": {
          "base_uri": "https://localhost:8080/"
        },
        "id": "g0-NN4U-Wjne",
        "outputId": "e68209f0-4720-4e4a-abb9-ecf57aaaf8e0"
      },
      "outputs": [
        {
          "data": {
            "text/plain": [
              "1979.6603825369368"
            ]
          },
          "execution_count": 41,
          "metadata": {},
          "output_type": "execute_result"
        }
      ],
      "source": [
        "# Hard code parameter values for Random Forest Regressor model\n",
        "nt = 30\n",
        "md = 5\n",
        "mb = 354\n",
        "\n",
        "# Create new random forest regressor with hard coded best model hyper params\n",
        "tuned_rf = regression.RandomForestRegressor().\\\n",
        "    setLabelCol('ArrivalDelay').\\\n",
        "    setFeaturesCol('indexedFeatures').\\\n",
        "    setNumTrees(nt).\\\n",
        "    setMaxBins(mb).\\\n",
        "    setMaxDepth(md)\n",
        "\n",
        "# Create the pipeline\n",
        "tuned_rf_pipe = Pipeline(stages=[va, feature_idx, tuned_rf]).fit(training_df)\n",
        "tuned_rf_mse = ev.evaluate(tuned_rf_pipe.transform(validation_df))\n",
        "# Evaluate MSE on Testing data\n",
        "ev.evaluate(tuned_rf_pipe.transform(testing_df))"
      ]
    },
    {
      "cell_type": "code",
      "execution_count": null,
      "metadata": {
        "id": "HsW1ZpYIN36G"
      },
      "outputs": [],
      "source": [
        "# Show some predictions from Random Forest Regression Model\n",
        "arr_delay_pred_2 = arr_delay_pipe_2.transform(testing_df)\n",
        "#arr_delay_pred_2.select('ArrivalDelay', 'prediction').show(20)"
      ]
    },
    {
      "cell_type": "code",
      "execution_count": null,
      "metadata": {
        "colab": {
          "base_uri": "https://localhost:8080/",
          "height": 332
        },
        "id": "VmU_C6p0N9Kz",
        "outputId": "0928e8b5-ad95-4ebf-c1e7-6a46f749311b"
      },
      "outputs": [
        {
          "data": {
            "text/html": [
              "\n",
              "  <div id=\"df-18e2311d-29a4-4e26-97b3-7be530244167\">\n",
              "    <div class=\"colab-df-container\">\n",
              "      <div>\n",
              "<style scoped>\n",
              "    .dataframe tbody tr th:only-of-type {\n",
              "        vertical-align: middle;\n",
              "    }\n",
              "\n",
              "    .dataframe tbody tr th {\n",
              "        vertical-align: top;\n",
              "    }\n",
              "\n",
              "    .dataframe thead th {\n",
              "        text-align: right;\n",
              "    }\n",
              "</style>\n",
              "<table border=\"1\" class=\"dataframe\">\n",
              "  <thead>\n",
              "    <tr style=\"text-align: right;\">\n",
              "      <th></th>\n",
              "      <th>feature</th>\n",
              "      <th>importance</th>\n",
              "    </tr>\n",
              "  </thead>\n",
              "  <tbody>\n",
              "    <tr>\n",
              "      <th>1</th>\n",
              "      <td>Dest</td>\n",
              "      <td>0.294572</td>\n",
              "    </tr>\n",
              "    <tr>\n",
              "      <th>2</th>\n",
              "      <td>ExpectedDepartTime</td>\n",
              "      <td>0.249669</td>\n",
              "    </tr>\n",
              "    <tr>\n",
              "      <th>6</th>\n",
              "      <td>FlightMonth</td>\n",
              "      <td>0.127804</td>\n",
              "    </tr>\n",
              "    <tr>\n",
              "      <th>7</th>\n",
              "      <td>Airline</td>\n",
              "      <td>0.098021</td>\n",
              "    </tr>\n",
              "    <tr>\n",
              "      <th>8</th>\n",
              "      <td>Season</td>\n",
              "      <td>0.081293</td>\n",
              "    </tr>\n",
              "    <tr>\n",
              "      <th>0</th>\n",
              "      <td>Origin</td>\n",
              "      <td>0.071029</td>\n",
              "    </tr>\n",
              "    <tr>\n",
              "      <th>5</th>\n",
              "      <td>DayOfMonth</td>\n",
              "      <td>0.035147</td>\n",
              "    </tr>\n",
              "    <tr>\n",
              "      <th>3</th>\n",
              "      <td>ExpectedArrivalTime</td>\n",
              "      <td>0.022232</td>\n",
              "    </tr>\n",
              "    <tr>\n",
              "      <th>4</th>\n",
              "      <td>Distance</td>\n",
              "      <td>0.020233</td>\n",
              "    </tr>\n",
              "  </tbody>\n",
              "</table>\n",
              "</div>\n",
              "      <button class=\"colab-df-convert\" onclick=\"convertToInteractive('df-18e2311d-29a4-4e26-97b3-7be530244167')\"\n",
              "              title=\"Convert this dataframe to an interactive table.\"\n",
              "              style=\"display:none;\">\n",
              "        \n",
              "  <svg xmlns=\"http://www.w3.org/2000/svg\" height=\"24px\"viewBox=\"0 0 24 24\"\n",
              "       width=\"24px\">\n",
              "    <path d=\"M0 0h24v24H0V0z\" fill=\"none\"/>\n",
              "    <path d=\"M18.56 5.44l.94 2.06.94-2.06 2.06-.94-2.06-.94-.94-2.06-.94 2.06-2.06.94zm-11 1L8.5 8.5l.94-2.06 2.06-.94-2.06-.94L8.5 2.5l-.94 2.06-2.06.94zm10 10l.94 2.06.94-2.06 2.06-.94-2.06-.94-.94-2.06-.94 2.06-2.06.94z\"/><path d=\"M17.41 7.96l-1.37-1.37c-.4-.4-.92-.59-1.43-.59-.52 0-1.04.2-1.43.59L10.3 9.45l-7.72 7.72c-.78.78-.78 2.05 0 2.83L4 21.41c.39.39.9.59 1.41.59.51 0 1.02-.2 1.41-.59l7.78-7.78 2.81-2.81c.8-.78.8-2.07 0-2.86zM5.41 20L4 18.59l7.72-7.72 1.47 1.35L5.41 20z\"/>\n",
              "  </svg>\n",
              "      </button>\n",
              "      \n",
              "  <style>\n",
              "    .colab-df-container {\n",
              "      display:flex;\n",
              "      flex-wrap:wrap;\n",
              "      gap: 12px;\n",
              "    }\n",
              "\n",
              "    .colab-df-convert {\n",
              "      background-color: #E8F0FE;\n",
              "      border: none;\n",
              "      border-radius: 50%;\n",
              "      cursor: pointer;\n",
              "      display: none;\n",
              "      fill: #1967D2;\n",
              "      height: 32px;\n",
              "      padding: 0 0 0 0;\n",
              "      width: 32px;\n",
              "    }\n",
              "\n",
              "    .colab-df-convert:hover {\n",
              "      background-color: #E2EBFA;\n",
              "      box-shadow: 0px 1px 2px rgba(60, 64, 67, 0.3), 0px 1px 3px 1px rgba(60, 64, 67, 0.15);\n",
              "      fill: #174EA6;\n",
              "    }\n",
              "\n",
              "    [theme=dark] .colab-df-convert {\n",
              "      background-color: #3B4455;\n",
              "      fill: #D2E3FC;\n",
              "    }\n",
              "\n",
              "    [theme=dark] .colab-df-convert:hover {\n",
              "      background-color: #434B5C;\n",
              "      box-shadow: 0px 1px 3px 1px rgba(0, 0, 0, 0.15);\n",
              "      filter: drop-shadow(0px 1px 2px rgba(0, 0, 0, 0.3));\n",
              "      fill: #FFFFFF;\n",
              "    }\n",
              "  </style>\n",
              "\n",
              "      <script>\n",
              "        const buttonEl =\n",
              "          document.querySelector('#df-18e2311d-29a4-4e26-97b3-7be530244167 button.colab-df-convert');\n",
              "        buttonEl.style.display =\n",
              "          google.colab.kernel.accessAllowed ? 'block' : 'none';\n",
              "\n",
              "        async function convertToInteractive(key) {\n",
              "          const element = document.querySelector('#df-18e2311d-29a4-4e26-97b3-7be530244167');\n",
              "          const dataTable =\n",
              "            await google.colab.kernel.invokeFunction('convertToInteractive',\n",
              "                                                     [key], {});\n",
              "          if (!dataTable) return;\n",
              "\n",
              "          const docLinkHtml = 'Like what you see? Visit the ' +\n",
              "            '<a target=\"_blank\" href=https://colab.research.google.com/notebooks/data_table.ipynb>data table notebook</a>'\n",
              "            + ' to learn more about interactive tables.';\n",
              "          element.innerHTML = '';\n",
              "          dataTable['output_type'] = 'display_data';\n",
              "          await google.colab.output.renderOutput(dataTable, element);\n",
              "          const docLink = document.createElement('div');\n",
              "          docLink.innerHTML = docLinkHtml;\n",
              "          element.appendChild(docLink);\n",
              "        }\n",
              "      </script>\n",
              "    </div>\n",
              "  </div>\n",
              "  "
            ],
            "text/plain": [
              "               feature  importance\n",
              "1                 Dest    0.294572\n",
              "2   ExpectedDepartTime    0.249669\n",
              "6          FlightMonth    0.127804\n",
              "7              Airline    0.098021\n",
              "8               Season    0.081293\n",
              "0               Origin    0.071029\n",
              "5           DayOfMonth    0.035147\n",
              "3  ExpectedArrivalTime    0.022232\n",
              "4             Distance    0.020233"
            ]
          },
          "execution_count": 43,
          "metadata": {},
          "output_type": "execute_result"
        }
      ],
      "source": [
        "# Create dataframe with Feature Importances\n",
        "rf_arr_delay = arr_delay_pipe_2.stages[-1]\n",
        "arr_delay_array = rf_arr_delay.featureImportances.toArray()\n",
        "arr_delay_abs = np.abs(arr_delay_array)\n",
        "\n",
        "feature_imp_df = pd.DataFrame(list(zip(arr_delay_pred_2.drop('prediction', 'IsWeatherDelay', 'ExpectDepartTOD',\n",
        "                                                'ExpectArrivalTOD', 'ArrivalDelay', 'DepartDelay',\n",
        "                                                'AirTime', 'features', 'indexedFeatures', 'IsDepartDelay',\n",
        "                                                'IsArrivalDelay').columns, arr_delay_abs)),\n",
        "                     columns = ['feature', 'importance']).sort_values('importance', ascending = False)\n",
        "\n",
        "feature_imp_df"
      ]
    },
    {
      "attachments": {},
      "cell_type": "markdown",
      "metadata": {
        "id": "mo1RZbAtJWur"
      },
      "source": [
        "### Gradient-Boosted Trees Regression Model: Duration of Arrival Delay Prediction"
      ]
    },
    {
      "cell_type": "code",
      "execution_count": null,
      "metadata": {
        "colab": {
          "base_uri": "https://localhost:8080/"
        },
        "id": "OCZRuXZHOAVa",
        "outputId": "cd8e6f44-38cb-4200-e9a8-ef6d447fcdce"
      },
      "outputs": [
        {
          "data": {
            "text/plain": [
              "2488.705038547405"
            ]
          },
          "execution_count": 44,
          "metadata": {},
          "output_type": "execute_result"
        }
      ],
      "source": [
        "# Create Gradient-Boosted Tree Regression Model\n",
        "gbt = regression.GBTRegressor(featuresCol = 'indexedFeatures', labelCol = 'ArrivalDelay', maxBins = 354)\n",
        "# Fit Pipe to Training data\n",
        "arr_delay_pipe_3 = Pipeline(stages = [va, feature_idx, gbt]).fit(training_df)\n",
        "# Evaluate MSE of GBT Regression Model\n",
        "ev.evaluate(arr_delay_pipe_3.transform(validation_df))"
      ]
    },
    {
      "cell_type": "code",
      "execution_count": null,
      "metadata": {
        "colab": {
          "base_uri": "https://localhost:8080/"
        },
        "id": "Q1hK_HtV1qMN",
        "outputId": "006e83cf-01da-4383-c79e-052e04b671c8"
      },
      "outputs": [
        {
          "name": "stdout",
          "output_type": "stream",
          "text": [
            "{Param(parent='GBTRegressor_8e13f81810e3', name='subsamplingRate', doc='Fraction of the training data used for learning each decision tree, in range (0, 1].'): 0.85, Param(parent='GBTRegressor_8e13f81810e3', name='maxIter', doc='max number of iterations (>= 0).'): 90, Param(parent='GBTRegressor_8e13f81810e3', name='stepSize', doc='Step size (a.k.a. learning rate) in interval (0, 1] for shrinking the contribution of each estimator.'): 0.14, Param(parent='GBTRegressor_8e13f81810e3', name='maxDepth', doc='Maximum depth of the tree. (>= 0) E.g., depth 0 means 1 leaf node; depth 1 means 1 internal node + 2 leaf nodes. Must be in range [0, 30].'): 4}\n",
            "Mean Squared Error (MSE) on Validation Data =  2524.1483241367405\n"
          ]
        }
      ],
      "source": [
        "gbt_pipeline = Pipeline(stages = [va, feature_idx, gbt])\n",
        "if enable_grid_search:\n",
        "  # Build grid\n",
        "    grid = ParamGridBuilder().\\\n",
        "    addGrid(gbt.subsamplingRate, [0.85]).\\\n",
        "    addGrid(gbt.maxIter, [90]).\\\n",
        "    addGrid(gbt.stepSize, [0.14, 0.15, 0.16]).\\\n",
        "    addGrid(gbt.maxDepth, [4]).\\\n",
        "    build()\n",
        "\n",
        "  # Grid search\n",
        "    all_models = []\n",
        "    for j in range(len(grid)):\n",
        "      model = gbt_pipeline.fit(training_df, grid[j])\n",
        "      all_models.append(model)\n",
        "\n",
        "    # Get the MSE scores of each model on the grid\n",
        "    # Create empty list that will be appended\n",
        "    gbt_mse_scores = []\n",
        "    # For each model in all models on the grid - obtain the MSE score using a RegressionEvaluator\n",
        "    for m in all_models:\n",
        "      predictions = m.transform(validation_df)\n",
        "      evaluator = RegressionEvaluator(labelCol=\"ArrivalDelay\", predictionCol=\"prediction\", metricName=\"mse\")\n",
        "      mse = evaluator.evaluate(predictions)\n",
        "      gbt_mse_scores.append(mse)\n",
        "\n",
        "    # Get index of the best model by using function argmin - lower MSE is better\n",
        "    best_model_idx = np.argmin(gbt_mse_scores)\n",
        "    best_model = all_models[best_model_idx]\n",
        "\n",
        "    # Print the best model parameters\n",
        "    print(grid[best_model_idx])\n",
        "    # Print the MSE score of the best model\n",
        "    print(\"Mean Squared Error (MSE) on Validation Data = \", gbt_mse_scores[best_model_idx])\n",
        "    pass"
      ]
    },
    {
      "cell_type": "code",
      "execution_count": null,
      "metadata": {
        "colab": {
          "base_uri": "https://localhost:8080/"
        },
        "id": "fU3Kb7AJXnJI",
        "outputId": "74b2c842-37ef-4611-84f6-e67b9bdd4181"
      },
      "outputs": [
        {
          "data": {
            "text/plain": [
              "2201.3275545342276"
            ]
          },
          "execution_count": 46,
          "metadata": {},
          "output_type": "execute_result"
        }
      ],
      "source": [
        "# Hard code parameter values for GBT Regression model\n",
        "ssr = 0.85\n",
        "mi = 90\n",
        "ss = 0.14\n",
        "md = 4\n",
        "mb= 354\n",
        "\n",
        "# Create new random forest regressor with hard coded best model hyper params\n",
        "tuned_gbt = regression.GBTRegressor().\\\n",
        "    setLabelCol('ArrivalDelay').\\\n",
        "    setFeaturesCol('indexedFeatures').\\\n",
        "    setSubsamplingRate(ssr).\\\n",
        "    setMaxIter(mi).\\\n",
        "    setStepSize(ss).\\\n",
        "    setMaxBins(mb).\\\n",
        "    setMaxDepth(md)\n",
        "\n",
        "# Create the pipeline\n",
        "tuned_gbt_pipe = Pipeline(stages=[va, feature_idx, tuned_gbt]).fit(training_df)\n",
        "tuned_gbt_mse = ev.evaluate(tuned_gbt_pipe.transform(validation_df))\n",
        "# Evaluate MSE on Testing data\n",
        "ev.evaluate(tuned_gbt_pipe.transform(testing_df))"
      ]
    },
    {
      "cell_type": "code",
      "execution_count": null,
      "metadata": {
        "id": "y1lH3uvpPSf3"
      },
      "outputs": [],
      "source": [
        "# Show some predictions from GBT Regression Model\n",
        "arr_delay_pred_3 = arr_delay_pipe_3.transform(testing_df)\n",
        "#arr_delay_pred_3.select('ArrivalDelay', 'prediction').show(20)"
      ]
    },
    {
      "cell_type": "code",
      "execution_count": null,
      "metadata": {
        "colab": {
          "base_uri": "https://localhost:8080/",
          "height": 269
        },
        "id": "ZZrrAz5LPWaq",
        "outputId": "6925ae6d-9723-4a06-e248-0c4e5b7fa7ae"
      },
      "outputs": [
        {
          "data": {
            "text/html": [
              "\n",
              "  <div id=\"df-2e123708-a5a4-485c-9190-5026457a2332\">\n",
              "    <div class=\"colab-df-container\">\n",
              "      <div>\n",
              "<style scoped>\n",
              "    .dataframe tbody tr th:only-of-type {\n",
              "        vertical-align: middle;\n",
              "    }\n",
              "\n",
              "    .dataframe tbody tr th {\n",
              "        vertical-align: top;\n",
              "    }\n",
              "\n",
              "    .dataframe thead th {\n",
              "        text-align: right;\n",
              "    }\n",
              "</style>\n",
              "<table border=\"1\" class=\"dataframe\">\n",
              "  <thead>\n",
              "    <tr style=\"text-align: right;\">\n",
              "      <th></th>\n",
              "      <th>feature</th>\n",
              "      <th>importance</th>\n",
              "    </tr>\n",
              "  </thead>\n",
              "  <tbody>\n",
              "    <tr>\n",
              "      <th>1</th>\n",
              "      <td>Dest</td>\n",
              "      <td>0.294572</td>\n",
              "    </tr>\n",
              "    <tr>\n",
              "      <th>2</th>\n",
              "      <td>Distance</td>\n",
              "      <td>0.249669</td>\n",
              "    </tr>\n",
              "    <tr>\n",
              "      <th>6</th>\n",
              "      <td>Season</td>\n",
              "      <td>0.127804</td>\n",
              "    </tr>\n",
              "    <tr>\n",
              "      <th>0</th>\n",
              "      <td>Origin</td>\n",
              "      <td>0.071029</td>\n",
              "    </tr>\n",
              "    <tr>\n",
              "      <th>5</th>\n",
              "      <td>Airline</td>\n",
              "      <td>0.035147</td>\n",
              "    </tr>\n",
              "    <tr>\n",
              "      <th>3</th>\n",
              "      <td>DayOfMonth</td>\n",
              "      <td>0.022232</td>\n",
              "    </tr>\n",
              "    <tr>\n",
              "      <th>4</th>\n",
              "      <td>FlightMonth</td>\n",
              "      <td>0.020233</td>\n",
              "    </tr>\n",
              "  </tbody>\n",
              "</table>\n",
              "</div>\n",
              "      <button class=\"colab-df-convert\" onclick=\"convertToInteractive('df-2e123708-a5a4-485c-9190-5026457a2332')\"\n",
              "              title=\"Convert this dataframe to an interactive table.\"\n",
              "              style=\"display:none;\">\n",
              "        \n",
              "  <svg xmlns=\"http://www.w3.org/2000/svg\" height=\"24px\"viewBox=\"0 0 24 24\"\n",
              "       width=\"24px\">\n",
              "    <path d=\"M0 0h24v24H0V0z\" fill=\"none\"/>\n",
              "    <path d=\"M18.56 5.44l.94 2.06.94-2.06 2.06-.94-2.06-.94-.94-2.06-.94 2.06-2.06.94zm-11 1L8.5 8.5l.94-2.06 2.06-.94-2.06-.94L8.5 2.5l-.94 2.06-2.06.94zm10 10l.94 2.06.94-2.06 2.06-.94-2.06-.94-.94-2.06-.94 2.06-2.06.94z\"/><path d=\"M17.41 7.96l-1.37-1.37c-.4-.4-.92-.59-1.43-.59-.52 0-1.04.2-1.43.59L10.3 9.45l-7.72 7.72c-.78.78-.78 2.05 0 2.83L4 21.41c.39.39.9.59 1.41.59.51 0 1.02-.2 1.41-.59l7.78-7.78 2.81-2.81c.8-.78.8-2.07 0-2.86zM5.41 20L4 18.59l7.72-7.72 1.47 1.35L5.41 20z\"/>\n",
              "  </svg>\n",
              "      </button>\n",
              "      \n",
              "  <style>\n",
              "    .colab-df-container {\n",
              "      display:flex;\n",
              "      flex-wrap:wrap;\n",
              "      gap: 12px;\n",
              "    }\n",
              "\n",
              "    .colab-df-convert {\n",
              "      background-color: #E8F0FE;\n",
              "      border: none;\n",
              "      border-radius: 50%;\n",
              "      cursor: pointer;\n",
              "      display: none;\n",
              "      fill: #1967D2;\n",
              "      height: 32px;\n",
              "      padding: 0 0 0 0;\n",
              "      width: 32px;\n",
              "    }\n",
              "\n",
              "    .colab-df-convert:hover {\n",
              "      background-color: #E2EBFA;\n",
              "      box-shadow: 0px 1px 2px rgba(60, 64, 67, 0.3), 0px 1px 3px 1px rgba(60, 64, 67, 0.15);\n",
              "      fill: #174EA6;\n",
              "    }\n",
              "\n",
              "    [theme=dark] .colab-df-convert {\n",
              "      background-color: #3B4455;\n",
              "      fill: #D2E3FC;\n",
              "    }\n",
              "\n",
              "    [theme=dark] .colab-df-convert:hover {\n",
              "      background-color: #434B5C;\n",
              "      box-shadow: 0px 1px 3px 1px rgba(0, 0, 0, 0.15);\n",
              "      filter: drop-shadow(0px 1px 2px rgba(0, 0, 0, 0.3));\n",
              "      fill: #FFFFFF;\n",
              "    }\n",
              "  </style>\n",
              "\n",
              "      <script>\n",
              "        const buttonEl =\n",
              "          document.querySelector('#df-2e123708-a5a4-485c-9190-5026457a2332 button.colab-df-convert');\n",
              "        buttonEl.style.display =\n",
              "          google.colab.kernel.accessAllowed ? 'block' : 'none';\n",
              "\n",
              "        async function convertToInteractive(key) {\n",
              "          const element = document.querySelector('#df-2e123708-a5a4-485c-9190-5026457a2332');\n",
              "          const dataTable =\n",
              "            await google.colab.kernel.invokeFunction('convertToInteractive',\n",
              "                                                     [key], {});\n",
              "          if (!dataTable) return;\n",
              "\n",
              "          const docLinkHtml = 'Like what you see? Visit the ' +\n",
              "            '<a target=\"_blank\" href=https://colab.research.google.com/notebooks/data_table.ipynb>data table notebook</a>'\n",
              "            + ' to learn more about interactive tables.';\n",
              "          element.innerHTML = '';\n",
              "          dataTable['output_type'] = 'display_data';\n",
              "          await google.colab.output.renderOutput(dataTable, element);\n",
              "          const docLink = document.createElement('div');\n",
              "          docLink.innerHTML = docLinkHtml;\n",
              "          element.appendChild(docLink);\n",
              "        }\n",
              "      </script>\n",
              "    </div>\n",
              "  </div>\n",
              "  "
            ],
            "text/plain": [
              "       feature  importance\n",
              "1         Dest    0.294572\n",
              "2     Distance    0.249669\n",
              "6       Season    0.127804\n",
              "0       Origin    0.071029\n",
              "5      Airline    0.035147\n",
              "3   DayOfMonth    0.022232\n",
              "4  FlightMonth    0.020233"
            ]
          },
          "execution_count": 48,
          "metadata": {},
          "output_type": "execute_result"
        }
      ],
      "source": [
        "# Create dataframe with Feature Importances\n",
        "gbt_arr_delay = arr_delay_pipe_3.stages[-1]\n",
        "arr_delay_array_2 = gbt_arr_delay.featureImportances.toArray()\n",
        "arr_delay_abs_2 = np.abs(arr_delay_array)\n",
        "\n",
        "feature_imp_df_2 = pd.DataFrame(list(zip(arr_delay_pred_3.drop('prediction', 'IsWeatherDelay', 'ExpectedDepartTime',\n",
        "                                                'ExpectedArrivalTime', 'ArrivalDelay', 'DepartDelay',\n",
        "                                                'AirTime', 'features', 'indexedFeatures', 'IsDepartDelay',\n",
        "                                                'IsArrivalDelay').columns,\n",
        "                              arr_delay_abs_2)),\n",
        "                     columns = ['feature', 'importance']).sort_values('importance', ascending = False)\n",
        "\n",
        "feature_imp_df_2"
      ]
    },
    {
      "cell_type": "code",
      "execution_count": null,
      "metadata": {
        "colab": {
          "base_uri": "https://localhost:8080/",
          "height": 175
        },
        "id": "cIMGTiWu6FEq",
        "outputId": "89ec1c52-11b3-4d6e-a555-d37c1bd52dda"
      },
      "outputs": [
        {
          "data": {
            "text/html": [
              "\n",
              "  <div id=\"df-01238ffd-3b9f-40bb-a1f8-3f43bea34ec1\">\n",
              "    <div class=\"colab-df-container\">\n",
              "      <div>\n",
              "<style scoped>\n",
              "    .dataframe tbody tr th:only-of-type {\n",
              "        vertical-align: middle;\n",
              "    }\n",
              "\n",
              "    .dataframe tbody tr th {\n",
              "        vertical-align: top;\n",
              "    }\n",
              "\n",
              "    .dataframe thead th {\n",
              "        text-align: right;\n",
              "    }\n",
              "</style>\n",
              "<table border=\"1\" class=\"dataframe\">\n",
              "  <thead>\n",
              "    <tr style=\"text-align: right;\">\n",
              "      <th></th>\n",
              "      <th>Model</th>\n",
              "      <th>MSE</th>\n",
              "    </tr>\n",
              "  </thead>\n",
              "  <tbody>\n",
              "    <tr>\n",
              "      <th>0</th>\n",
              "      <td>Unscaled LR</td>\n",
              "      <td>2306.3147</td>\n",
              "    </tr>\n",
              "    <tr>\n",
              "      <th>1</th>\n",
              "      <td>Scaled LR</td>\n",
              "      <td>2306.3149</td>\n",
              "    </tr>\n",
              "    <tr>\n",
              "      <th>2</th>\n",
              "      <td>RF</td>\n",
              "      <td>2306.3939</td>\n",
              "    </tr>\n",
              "    <tr>\n",
              "      <th>3</th>\n",
              "      <td>GBT</td>\n",
              "      <td>2524.1483</td>\n",
              "    </tr>\n",
              "  </tbody>\n",
              "</table>\n",
              "</div>\n",
              "      <button class=\"colab-df-convert\" onclick=\"convertToInteractive('df-01238ffd-3b9f-40bb-a1f8-3f43bea34ec1')\"\n",
              "              title=\"Convert this dataframe to an interactive table.\"\n",
              "              style=\"display:none;\">\n",
              "        \n",
              "  <svg xmlns=\"http://www.w3.org/2000/svg\" height=\"24px\"viewBox=\"0 0 24 24\"\n",
              "       width=\"24px\">\n",
              "    <path d=\"M0 0h24v24H0V0z\" fill=\"none\"/>\n",
              "    <path d=\"M18.56 5.44l.94 2.06.94-2.06 2.06-.94-2.06-.94-.94-2.06-.94 2.06-2.06.94zm-11 1L8.5 8.5l.94-2.06 2.06-.94-2.06-.94L8.5 2.5l-.94 2.06-2.06.94zm10 10l.94 2.06.94-2.06 2.06-.94-2.06-.94-.94-2.06-.94 2.06-2.06.94z\"/><path d=\"M17.41 7.96l-1.37-1.37c-.4-.4-.92-.59-1.43-.59-.52 0-1.04.2-1.43.59L10.3 9.45l-7.72 7.72c-.78.78-.78 2.05 0 2.83L4 21.41c.39.39.9.59 1.41.59.51 0 1.02-.2 1.41-.59l7.78-7.78 2.81-2.81c.8-.78.8-2.07 0-2.86zM5.41 20L4 18.59l7.72-7.72 1.47 1.35L5.41 20z\"/>\n",
              "  </svg>\n",
              "      </button>\n",
              "      \n",
              "  <style>\n",
              "    .colab-df-container {\n",
              "      display:flex;\n",
              "      flex-wrap:wrap;\n",
              "      gap: 12px;\n",
              "    }\n",
              "\n",
              "    .colab-df-convert {\n",
              "      background-color: #E8F0FE;\n",
              "      border: none;\n",
              "      border-radius: 50%;\n",
              "      cursor: pointer;\n",
              "      display: none;\n",
              "      fill: #1967D2;\n",
              "      height: 32px;\n",
              "      padding: 0 0 0 0;\n",
              "      width: 32px;\n",
              "    }\n",
              "\n",
              "    .colab-df-convert:hover {\n",
              "      background-color: #E2EBFA;\n",
              "      box-shadow: 0px 1px 2px rgba(60, 64, 67, 0.3), 0px 1px 3px 1px rgba(60, 64, 67, 0.15);\n",
              "      fill: #174EA6;\n",
              "    }\n",
              "\n",
              "    [theme=dark] .colab-df-convert {\n",
              "      background-color: #3B4455;\n",
              "      fill: #D2E3FC;\n",
              "    }\n",
              "\n",
              "    [theme=dark] .colab-df-convert:hover {\n",
              "      background-color: #434B5C;\n",
              "      box-shadow: 0px 1px 3px 1px rgba(0, 0, 0, 0.15);\n",
              "      filter: drop-shadow(0px 1px 2px rgba(0, 0, 0, 0.3));\n",
              "      fill: #FFFFFF;\n",
              "    }\n",
              "  </style>\n",
              "\n",
              "      <script>\n",
              "        const buttonEl =\n",
              "          document.querySelector('#df-01238ffd-3b9f-40bb-a1f8-3f43bea34ec1 button.colab-df-convert');\n",
              "        buttonEl.style.display =\n",
              "          google.colab.kernel.accessAllowed ? 'block' : 'none';\n",
              "\n",
              "        async function convertToInteractive(key) {\n",
              "          const element = document.querySelector('#df-01238ffd-3b9f-40bb-a1f8-3f43bea34ec1');\n",
              "          const dataTable =\n",
              "            await google.colab.kernel.invokeFunction('convertToInteractive',\n",
              "                                                     [key], {});\n",
              "          if (!dataTable) return;\n",
              "\n",
              "          const docLinkHtml = 'Like what you see? Visit the ' +\n",
              "            '<a target=\"_blank\" href=https://colab.research.google.com/notebooks/data_table.ipynb>data table notebook</a>'\n",
              "            + ' to learn more about interactive tables.';\n",
              "          element.innerHTML = '';\n",
              "          dataTable['output_type'] = 'display_data';\n",
              "          await google.colab.output.renderOutput(dataTable, element);\n",
              "          const docLink = document.createElement('div');\n",
              "          docLink.innerHTML = docLinkHtml;\n",
              "          element.appendChild(docLink);\n",
              "        }\n",
              "      </script>\n",
              "    </div>\n",
              "  </div>\n",
              "  "
            ],
            "text/plain": [
              "         Model        MSE\n",
              "0  Unscaled LR  2306.3147\n",
              "1    Scaled LR  2306.3149\n",
              "2           RF  2306.3939\n",
              "3          GBT  2524.1483"
            ]
          },
          "metadata": {},
          "output_type": "display_data"
        }
      ],
      "source": [
        "# Create model comparison df\n",
        "#Create list with specified model labels\n",
        "labels = ['Unscaled LR', 'Scaled LR', 'RF', 'GBT']\n",
        "u_lr_mse = tuned_lr_mse\n",
        "s_lr_mse = ev.evaluate(arr_delay_pipe_4.transform(validation_df))\n",
        "rf_MSE = tuned_rf_mse\n",
        "gbt_MSE = tuned_gbt_mse\n",
        "#Create list of results from each model\n",
        "scores = [u_lr_mse, s_lr_mse, rf_MSE, gbt_MSE]\n",
        "#Zip the two lists together, and sort values by MSE in descending order - highest at the top\n",
        "#Had to round the df to the nearest 2 decimals, otherwise MSE value output was returned in scientific notation\n",
        "arrival_delay_compare_df = pd.DataFrame(list(zip(labels, scores)),\n",
        "            columns = ['Model', 'MSE']).sort_values('MSE', ascending = True).round(4)\n",
        "\n",
        "#Return output\n",
        "display(arrival_delay_compare_df)"
      ]
    },
    {
      "attachments": {},
      "cell_type": "markdown",
      "metadata": {
        "id": "srytHtXoQcIw"
      },
      "source": [
        "# Logistic Regression Model: Predicting Likelihood a Flight Will Be Delayed\n",
        "Aside from a linear regression model that can predict how many minutes delayed (or early) a given flight may be, it is also beneficial to predict the probability that a flight will be delayed in general. This could be applicable to customers who would like delay alerts - if the probability hits a certain threshold, notify the customer that there is a risk of getting on this flight (for example, may impact connecting flights). To do this, create a variable called *IS_DELAY* that returns 1 if there was a delay, and 0 if there was not a delay (*ARR_DELAY* > 0). Use *IS_DELAY* as the target variable, and the remaining values other than *ARR_DELAY* should be VectorAssembled into the 'features' column.\n",
        "\n",
        "Create the new variable, then create the pipeline using LogisticRegression other than LinearRegression as used above.\n",
        "\n"
      ]
    },
    {
      "cell_type": "code",
      "execution_count": null,
      "metadata": {
        "id": "w6aFrhVjSUFm"
      },
      "outputs": [],
      "source": [
        "arr_delay_df = delay_df_xformed.withColumnRenamed('IsArrivalDelay', 'label')\n",
        "a_training_df, a_validation_df, a_testing_df = arr_delay_df.randomSplit([0.6, 0.3, 0.1], )"
      ]
    },
    {
      "attachments": {},
      "cell_type": "markdown",
      "metadata": {
        "id": "iXfan8GAJKNG"
      },
      "source": [
        "### Logisitc Regression Model: Arrival Delay Prediction"
      ]
    },
    {
      "cell_type": "code",
      "execution_count": null,
      "metadata": {
        "colab": {
          "base_uri": "https://localhost:8080/"
        },
        "id": "_XO7q68mJFfj",
        "outputId": "90de75e0-4877-4f59-abce-73641c941357"
      },
      "outputs": [
        {
          "data": {
            "text/plain": [
              "0.5"
            ]
          },
          "execution_count": 360,
          "metadata": {},
          "output_type": "execute_result"
        }
      ],
      "source": [
        "logr = LogisticRegression(regParam=0.37,elasticNetParam=0.2)\n",
        "logr_pipeline2 = Pipeline(stages=[va, logr]).fit(a_training_df)\n",
        "bce = BinaryClassificationEvaluator()\n",
        "bce.evaluate(logr_pipeline2.transform(a_validation_df))"
      ]
    },
    {
      "cell_type": "code",
      "execution_count": null,
      "metadata": {
        "id": "YI9AR23iH_Rr"
      },
      "outputs": [],
      "source": [
        "logr_pipeline = Pipeline(stages=[va, logr])\n",
        "\n",
        "if enable_grid_search:\n",
        "      #Create grid\n",
        "      alogr_grid = ParamGridBuilder().\\\n",
        "      addGrid(logr.regParam, [0.22, 0.25, 0.28]).\\\n",
        "      addGrid(logr.elasticNetParam, [0.0065, 0.0075, 0.0085]).\\\n",
        "      build()\n",
        "\n",
        "      #Grid search - fit with training data\n",
        "      alogr_all_models = []\n",
        "      for j in range(len(alogr_grid)):\n",
        "        alogr_model = logr_pipeline.fit(a_training_df, alogr_grid[j])\n",
        "        alogr_all_models.append(alogr_model)\n",
        "\n",
        "      #Get the MSE scores of each model on the grid\n",
        "      #Create empty list that will be appended\n",
        "      alogr_AUC_Scores = []\n",
        "      #For each model in all models on the grid - obtain the MSE score\n",
        "      for m in alogr_all_models:\n",
        "        alogr_predictions = m.transform(a_validation_df)\n",
        "        alogr_AUC_score = bce.evaluate(alogr_predictions, {bce.metricName: \"areaUnderROC\"})\n",
        "        alogr_AUC_Scores.append(alogr_AUC_score)\n",
        "\n",
        "      #Get index of the best model by using function argmin - the lower the AUC score the better\n",
        "      best_alogr_model_idx = np.argmax(alogr_AUC_Scores)\n",
        "      best_alogr_model = alogr_all_models[best_alogr_model_idx]\n",
        "\n",
        "      #Look at the corresponding grid index to find the hyper parameter values in the best model\n",
        "      print(alogr_grid[best_alogr_model_idx])\n",
        "      print(\"AUC on Validation Data = \", alogr_AUC_Scores[best_alogr_model_idx])\n",
        "      pass\n"
      ]
    },
    {
      "attachments": {},
      "cell_type": "markdown",
      "metadata": {
        "id": "UzBi2O1FJP3W"
      },
      "source": [
        "### Random Forest Classification Model: Arrival Delay Prediction"
      ]
    },
    {
      "cell_type": "code",
      "execution_count": null,
      "metadata": {
        "colab": {
          "base_uri": "https://localhost:8080/"
        },
        "id": "HUXKLDNnJS24",
        "outputId": "86059878-18f4-43bd-b33b-66f5e289b932"
      },
      "outputs": [
        {
          "data": {
            "text/plain": [
              "0.5882002776971613"
            ]
          },
          "execution_count": 362,
          "metadata": {},
          "output_type": "execute_result"
        }
      ],
      "source": [
        "rfc = RandomForestClassifier(maxBins=354)\n",
        "rfc_pipeline = Pipeline(stages=[va, rfc]).fit(a_training_df)\n",
        "bce.evaluate(rfc_pipeline.transform(a_validation_df))"
      ]
    },
    {
      "cell_type": "code",
      "execution_count": null,
      "metadata": {
        "id": "_BTJJsnNQG4A"
      },
      "outputs": [],
      "source": [
        "# see https://stackoverflow.com/questions/52847408/pyspark-extract-roc-curve\n",
        "\n",
        "\n",
        "# Scala version implements .roc() and .pr()\n",
        "# Python: https://spark.apache.org/docs/latest/api/python/_modules/pyspark/mllib/common.html\n",
        "# Scala: https://spark.apache.org/docs/latest/api/java/org/apache/spark/mllib/evaluation/BinaryClassificationMetrics.html\n",
        "class CurveMetrics(BinaryClassificationMetrics):\n",
        "    def __init__(self, *args):\n",
        "        super(CurveMetrics, self).__init__(*args)\n",
        "\n",
        "    def _to_list(self, rdd):\n",
        "        points = []\n",
        "        # Note this collect could be inefficient for large datasets\n",
        "        # considering there may be one probability per datapoint (at most)\n",
        "        # The Scala version takes a numBins parameter,\n",
        "        # but it doesn't seem possible to pass this from Python to Java\n",
        "        for row in rdd.collect():\n",
        "            # Results are returned as type scala.Tuple2,\n",
        "            # which doesn't appear to have a py4j mapping\n",
        "            points += [(float(row._1()), float(row._2()))]\n",
        "        return points\n",
        "\n",
        "    def get_curve(self, method):\n",
        "        rdd = getattr(self._java_model, method)().toJavaRDD()\n",
        "        return self._to_list(rdd)"
      ]
    },
    {
      "cell_type": "code",
      "execution_count": null,
      "metadata": {
        "colab": {
          "base_uri": "https://localhost:8080/",
          "height": 525
        },
        "id": "MNwd3BFJQIBX",
        "outputId": "cb491c4f-cc24-4325-deda-7de4ab254b60"
      },
      "outputs": [
        {
          "name": "stderr",
          "output_type": "stream",
          "text": [
            "/usr/local/lib/python3.7/dist-packages/pyspark/sql/context.py:127: FutureWarning: Deprecated in 3.0.0. Use SparkSession.builder.getOrCreate() instead.\n",
            "  FutureWarning\n"
          ]
        },
        {
          "data": {
            "text/plain": [
              "[<matplotlib.lines.Line2D at 0x7f10386299d0>]"
            ]
          },
          "execution_count": 364,
          "metadata": {},
          "output_type": "execute_result"
        },
        {
          "data": {
            "image/png": "[encoded data removed]",
            "text/plain": [
              "<Figure size 640x480 with 1 Axes>"
            ]
          },
          "metadata": {},
          "output_type": "display_data"
        }
      ],
      "source": [
        "# Create a Pipeline estimator and fit on train DF, predict on test DF\n",
        "predictions = logr_pipeline2.transform(a_testing_df)\n",
        "\n",
        "# Returns as a list (false positive rate, true positive rate)\n",
        "preds = predictions.select('label','probability').rdd.map(lambda row: (float(row['probability'][1]), float(row['label'])))\n",
        "points = CurveMetrics(preds).get_curve('roc')\n",
        "\n",
        "plt.figure()\n",
        "x_val = [x[0] for x in points]\n",
        "y_val = [x[1] for x in points]\n",
        "plt.title('Airline Arrival Delay ROC Curve')\n",
        "plt.xlabel('False Positive Rate')\n",
        "plt.ylabel('True Positive Rate')\n",
        "plt.plot(x_val, y_val)"
      ]
    },
    {
      "cell_type": "code",
      "execution_count": null,
      "metadata": {
        "id": "L4QXK4LyCACx"
      },
      "outputs": [],
      "source": [
        "logr_model = logr_pipeline2.stages[-1]\n",
        "\n",
        "rfc_model = rfc_pipeline.stages[-1]\n",
        "\n",
        "delay_array = rfc_model.featureImportances.toArray()\n",
        "\n",
        "delay_abs = np.abs(delay_array)"
      ]
    },
    {
      "cell_type": "code",
      "execution_count": null,
      "metadata": {
        "colab": {
          "base_uri": "https://localhost:8080/",
          "height": 331
        },
        "id": "YfpJsz3cCNF-",
        "outputId": "9ad209c3-7657-4fcb-fb20-dc94c586a4d3"
      },
      "outputs": [
        {
          "data": {
            "text/html": [
              "\n",
              "  <div id=\"df-e618c576-c635-491a-b54d-a01415bfcc67\">\n",
              "    <div class=\"colab-df-container\">\n",
              "      <div>\n",
              "<style scoped>\n",
              "    .dataframe tbody tr th:only-of-type {\n",
              "        vertical-align: middle;\n",
              "    }\n",
              "\n",
              "    .dataframe tbody tr th {\n",
              "        vertical-align: top;\n",
              "    }\n",
              "\n",
              "    .dataframe thead th {\n",
              "        text-align: right;\n",
              "    }\n",
              "</style>\n",
              "<table border=\"1\" class=\"dataframe\">\n",
              "  <thead>\n",
              "    <tr style=\"text-align: right;\">\n",
              "      <th></th>\n",
              "      <th>feature</th>\n",
              "      <th>importance</th>\n",
              "    </tr>\n",
              "  </thead>\n",
              "  <tbody>\n",
              "    <tr>\n",
              "      <th>6</th>\n",
              "      <td>FlightMonth</td>\n",
              "      <td>0.375631</td>\n",
              "    </tr>\n",
              "    <tr>\n",
              "      <th>7</th>\n",
              "      <td>Airline</td>\n",
              "      <td>0.320257</td>\n",
              "    </tr>\n",
              "    <tr>\n",
              "      <th>0</th>\n",
              "      <td>Origin</td>\n",
              "      <td>0.100140</td>\n",
              "    </tr>\n",
              "    <tr>\n",
              "      <th>3</th>\n",
              "      <td>ExpectedArrivalTime</td>\n",
              "      <td>0.074577</td>\n",
              "    </tr>\n",
              "    <tr>\n",
              "      <th>1</th>\n",
              "      <td>Dest</td>\n",
              "      <td>0.062431</td>\n",
              "    </tr>\n",
              "    <tr>\n",
              "      <th>2</th>\n",
              "      <td>ExpectedDepartTime</td>\n",
              "      <td>0.047873</td>\n",
              "    </tr>\n",
              "    <tr>\n",
              "      <th>8</th>\n",
              "      <td>Season</td>\n",
              "      <td>0.009426</td>\n",
              "    </tr>\n",
              "    <tr>\n",
              "      <th>4</th>\n",
              "      <td>Distance</td>\n",
              "      <td>0.008023</td>\n",
              "    </tr>\n",
              "    <tr>\n",
              "      <th>5</th>\n",
              "      <td>DayOfMonth</td>\n",
              "      <td>0.001642</td>\n",
              "    </tr>\n",
              "  </tbody>\n",
              "</table>\n",
              "</div>\n",
              "      <button class=\"colab-df-convert\" onclick=\"convertToInteractive('df-e618c576-c635-491a-b54d-a01415bfcc67')\"\n",
              "              title=\"Convert this dataframe to an interactive table.\"\n",
              "              style=\"display:none;\">\n",
              "        \n",
              "  <svg xmlns=\"http://www.w3.org/2000/svg\" height=\"24px\"viewBox=\"0 0 24 24\"\n",
              "       width=\"24px\">\n",
              "    <path d=\"M0 0h24v24H0V0z\" fill=\"none\"/>\n",
              "    <path d=\"M18.56 5.44l.94 2.06.94-2.06 2.06-.94-2.06-.94-.94-2.06-.94 2.06-2.06.94zm-11 1L8.5 8.5l.94-2.06 2.06-.94-2.06-.94L8.5 2.5l-.94 2.06-2.06.94zm10 10l.94 2.06.94-2.06 2.06-.94-2.06-.94-.94-2.06-.94 2.06-2.06.94z\"/><path d=\"M17.41 7.96l-1.37-1.37c-.4-.4-.92-.59-1.43-.59-.52 0-1.04.2-1.43.59L10.3 9.45l-7.72 7.72c-.78.78-.78 2.05 0 2.83L4 21.41c.39.39.9.59 1.41.59.51 0 1.02-.2 1.41-.59l7.78-7.78 2.81-2.81c.8-.78.8-2.07 0-2.86zM5.41 20L4 18.59l7.72-7.72 1.47 1.35L5.41 20z\"/>\n",
              "  </svg>\n",
              "      </button>\n",
              "      \n",
              "  <style>\n",
              "    .colab-df-container {\n",
              "      display:flex;\n",
              "      flex-wrap:wrap;\n",
              "      gap: 12px;\n",
              "    }\n",
              "\n",
              "    .colab-df-convert {\n",
              "      background-color: #E8F0FE;\n",
              "      border: none;\n",
              "      border-radius: 50%;\n",
              "      cursor: pointer;\n",
              "      display: none;\n",
              "      fill: #1967D2;\n",
              "      height: 32px;\n",
              "      padding: 0 0 0 0;\n",
              "      width: 32px;\n",
              "    }\n",
              "\n",
              "    .colab-df-convert:hover {\n",
              "      background-color: #E2EBFA;\n",
              "      box-shadow: 0px 1px 2px rgba(60, 64, 67, 0.3), 0px 1px 3px 1px rgba(60, 64, 67, 0.15);\n",
              "      fill: #174EA6;\n",
              "    }\n",
              "\n",
              "    [theme=dark] .colab-df-convert {\n",
              "      background-color: #3B4455;\n",
              "      fill: #D2E3FC;\n",
              "    }\n",
              "\n",
              "    [theme=dark] .colab-df-convert:hover {\n",
              "      background-color: #434B5C;\n",
              "      box-shadow: 0px 1px 3px 1px rgba(0, 0, 0, 0.15);\n",
              "      filter: drop-shadow(0px 1px 2px rgba(0, 0, 0, 0.3));\n",
              "      fill: #FFFFFF;\n",
              "    }\n",
              "  </style>\n",
              "\n",
              "      <script>\n",
              "        const buttonEl =\n",
              "          document.querySelector('#df-e618c576-c635-491a-b54d-a01415bfcc67 button.colab-df-convert');\n",
              "        buttonEl.style.display =\n",
              "          google.colab.kernel.accessAllowed ? 'block' : 'none';\n",
              "\n",
              "        async function convertToInteractive(key) {\n",
              "          const element = document.querySelector('#df-e618c576-c635-491a-b54d-a01415bfcc67');\n",
              "          const dataTable =\n",
              "            await google.colab.kernel.invokeFunction('convertToInteractive',\n",
              "                                                     [key], {});\n",
              "          if (!dataTable) return;\n",
              "\n",
              "          const docLinkHtml = 'Like what you see? Visit the ' +\n",
              "            '<a target=\"_blank\" href=https://colab.research.google.com/notebooks/data_table.ipynb>data table notebook</a>'\n",
              "            + ' to learn more about interactive tables.';\n",
              "          element.innerHTML = '';\n",
              "          dataTable['output_type'] = 'display_data';\n",
              "          await google.colab.output.renderOutput(dataTable, element);\n",
              "          const docLink = document.createElement('div');\n",
              "          docLink.innerHTML = docLinkHtml;\n",
              "          element.appendChild(docLink);\n",
              "        }\n",
              "      </script>\n",
              "    </div>\n",
              "  </div>\n",
              "  "
            ],
            "text/plain": [
              "               feature  importance\n",
              "6          FlightMonth    0.375631\n",
              "7              Airline    0.320257\n",
              "0               Origin    0.100140\n",
              "3  ExpectedArrivalTime    0.074577\n",
              "1                 Dest    0.062431\n",
              "2   ExpectedDepartTime    0.047873\n",
              "8               Season    0.009426\n",
              "4             Distance    0.008023\n",
              "5           DayOfMonth    0.001642"
            ]
          },
          "metadata": {},
          "output_type": "display_data"
        }
      ],
      "source": [
        "rf2_df = pd.DataFrame(list(zip(arr_delay_df.drop('label', 'IsDepartDelay', 'IsWeatherDelay', 'ArrivalDelay', 'ArrivalDelay', 'DepartDelay',\n",
        "                                                'features', 'indexedFeatures', 'IsDepartDelay',\n",
        "                                                'IsArrivalDelay').columns, delay_abs)),\n",
        "            columns = ['feature', 'importance']).sort_values('importance', ascending = False)\n",
        "\n",
        "display(rf2_df)"
      ]
    },
    {
      "cell_type": "code",
      "execution_count": null,
      "metadata": {
        "colab": {
          "base_uri": "https://localhost:8080/",
          "height": 112
        },
        "id": "m8joM8ds9Zk1",
        "outputId": "ee81974c-0fb4-49a6-ea4c-1495640c98c4"
      },
      "outputs": [
        {
          "data": {
            "text/html": [
              "\n",
              "  <div id=\"df-4d9b569c-b9b7-4b50-b788-a634e51739f6\">\n",
              "    <div class=\"colab-df-container\">\n",
              "      <div>\n",
              "<style scoped>\n",
              "    .dataframe tbody tr th:only-of-type {\n",
              "        vertical-align: middle;\n",
              "    }\n",
              "\n",
              "    .dataframe tbody tr th {\n",
              "        vertical-align: top;\n",
              "    }\n",
              "\n",
              "    .dataframe thead th {\n",
              "        text-align: right;\n",
              "    }\n",
              "</style>\n",
              "<table border=\"1\" class=\"dataframe\">\n",
              "  <thead>\n",
              "    <tr style=\"text-align: right;\">\n",
              "      <th></th>\n",
              "      <th>Model</th>\n",
              "      <th>AUC</th>\n",
              "    </tr>\n",
              "  </thead>\n",
              "  <tbody>\n",
              "    <tr>\n",
              "      <th>0</th>\n",
              "      <td>LogR</td>\n",
              "      <td>0.5743</td>\n",
              "    </tr>\n",
              "    <tr>\n",
              "      <th>1</th>\n",
              "      <td>RF</td>\n",
              "      <td>0.5882</td>\n",
              "    </tr>\n",
              "  </tbody>\n",
              "</table>\n",
              "</div>\n",
              "      <button class=\"colab-df-convert\" onclick=\"convertToInteractive('df-4d9b569c-b9b7-4b50-b788-a634e51739f6')\"\n",
              "              title=\"Convert this dataframe to an interactive table.\"\n",
              "              style=\"display:none;\">\n",
              "        \n",
              "  <svg xmlns=\"http://www.w3.org/2000/svg\" height=\"24px\"viewBox=\"0 0 24 24\"\n",
              "       width=\"24px\">\n",
              "    <path d=\"M0 0h24v24H0V0z\" fill=\"none\"/>\n",
              "    <path d=\"M18.56 5.44l.94 2.06.94-2.06 2.06-.94-2.06-.94-.94-2.06-.94 2.06-2.06.94zm-11 1L8.5 8.5l.94-2.06 2.06-.94-2.06-.94L8.5 2.5l-.94 2.06-2.06.94zm10 10l.94 2.06.94-2.06 2.06-.94-2.06-.94-.94-2.06-.94 2.06-2.06.94z\"/><path d=\"M17.41 7.96l-1.37-1.37c-.4-.4-.92-.59-1.43-.59-.52 0-1.04.2-1.43.59L10.3 9.45l-7.72 7.72c-.78.78-.78 2.05 0 2.83L4 21.41c.39.39.9.59 1.41.59.51 0 1.02-.2 1.41-.59l7.78-7.78 2.81-2.81c.8-.78.8-2.07 0-2.86zM5.41 20L4 18.59l7.72-7.72 1.47 1.35L5.41 20z\"/>\n",
              "  </svg>\n",
              "      </button>\n",
              "      \n",
              "  <style>\n",
              "    .colab-df-container {\n",
              "      display:flex;\n",
              "      flex-wrap:wrap;\n",
              "      gap: 12px;\n",
              "    }\n",
              "\n",
              "    .colab-df-convert {\n",
              "      background-color: #E8F0FE;\n",
              "      border: none;\n",
              "      border-radius: 50%;\n",
              "      cursor: pointer;\n",
              "      display: none;\n",
              "      fill: #1967D2;\n",
              "      height: 32px;\n",
              "      padding: 0 0 0 0;\n",
              "      width: 32px;\n",
              "    }\n",
              "\n",
              "    .colab-df-convert:hover {\n",
              "      background-color: #E2EBFA;\n",
              "      box-shadow: 0px 1px 2px rgba(60, 64, 67, 0.3), 0px 1px 3px 1px rgba(60, 64, 67, 0.15);\n",
              "      fill: #174EA6;\n",
              "    }\n",
              "\n",
              "    [theme=dark] .colab-df-convert {\n",
              "      background-color: #3B4455;\n",
              "      fill: #D2E3FC;\n",
              "    }\n",
              "\n",
              "    [theme=dark] .colab-df-convert:hover {\n",
              "      background-color: #434B5C;\n",
              "      box-shadow: 0px 1px 3px 1px rgba(0, 0, 0, 0.15);\n",
              "      filter: drop-shadow(0px 1px 2px rgba(0, 0, 0, 0.3));\n",
              "      fill: #FFFFFF;\n",
              "    }\n",
              "  </style>\n",
              "\n",
              "      <script>\n",
              "        const buttonEl =\n",
              "          document.querySelector('#df-4d9b569c-b9b7-4b50-b788-a634e51739f6 button.colab-df-convert');\n",
              "        buttonEl.style.display =\n",
              "          google.colab.kernel.accessAllowed ? 'block' : 'none';\n",
              "\n",
              "        async function convertToInteractive(key) {\n",
              "          const element = document.querySelector('#df-4d9b569c-b9b7-4b50-b788-a634e51739f6');\n",
              "          const dataTable =\n",
              "            await google.colab.kernel.invokeFunction('convertToInteractive',\n",
              "                                                     [key], {});\n",
              "          if (!dataTable) return;\n",
              "\n",
              "          const docLinkHtml = 'Like what you see? Visit the ' +\n",
              "            '<a target=\"_blank\" href=https://colab.research.google.com/notebooks/data_table.ipynb>data table notebook</a>'\n",
              "            + ' to learn more about interactive tables.';\n",
              "          element.innerHTML = '';\n",
              "          dataTable['output_type'] = 'display_data';\n",
              "          await google.colab.output.renderOutput(dataTable, element);\n",
              "          const docLink = document.createElement('div');\n",
              "          docLink.innerHTML = docLinkHtml;\n",
              "          element.appendChild(docLink);\n",
              "        }\n",
              "      </script>\n",
              "    </div>\n",
              "  </div>\n",
              "  "
            ],
            "text/plain": [
              "  Model     AUC\n",
              "0  LogR  0.5743\n",
              "1    RF  0.5882"
            ]
          },
          "metadata": {},
          "output_type": "display_data"
        }
      ],
      "source": [
        "# Create model comparison df\n",
        "#Create list with specified model labels\n",
        "labels = ['LogR', 'RF']\n",
        "logree_mse = alogr_AUC_Scores[best_alogr_model_idx]\n",
        "rf_MSE2 = bce.evaluate(rfc_pipeline.transform(a_validation_df))\n",
        "\n",
        "#Create list of results from each model\n",
        "scores = [logree_mse, rf_MSE2]\n",
        "#Zip the two lists together, and sort values by AUC in descending order - highest at the top\n",
        "#Had to round the df to the nearest 2 decimals, otherwise AUC value output was returned in scientific notation\n",
        "l_delay_compare_df = pd.DataFrame(list(zip(labels, scores)),\n",
        "            columns = ['Model', 'AUC']).sort_values('AUC', ascending = True).round(4)\n",
        "\n",
        "#Return output\n",
        "display(l_delay_compare_df)"
      ]
    },
    {
      "attachments": {},
      "cell_type": "markdown",
      "metadata": {
        "id": "WB5u8fNYS4V-"
      },
      "source": [
        "# Logistic Regression Model: Predicting Likelihood a Flight Will Be Delayed By Weather\n",
        "A general logistic model is fantastic for a general likelihood prediction and is easier to capture in general - but since there is a variable called *WEATHER_DELAY* we can create a prediction model that indicates the predicted chance of a weather delay occurring. The same general steps of the first logistic model are applied here, but this time we are creating a new binary variable based on the *WEATHER_DELAY* column. If the variable is a positive number (>0.0) then return 1, if the variable is <=0 or null then return 0.\n",
        "\n",
        "\n"
      ]
    },
    {
      "cell_type": "code",
      "execution_count": null,
      "metadata": {
        "id": "W2No_SpnuCRG"
      },
      "outputs": [],
      "source": [
        "#Create specific data frame for this section - set IsWeatherDelay as label because this is the necessary binary target\n",
        "weather_df = delay_df_xformed.withColumnRenamed('IsWeatherDelay', 'label')\n",
        "#Split up new df with portions consistent to other models\n",
        "wd_training_df, wd_validation_df, wd_testing_df = weather_df.randomSplit([0.6, 0.3, 0.1], )"
      ]
    },
    {
      "cell_type": "code",
      "execution_count": null,
      "metadata": {
        "colab": {
          "base_uri": "https://localhost:8080/"
        },
        "id": "fQX0vB0IU9B5",
        "outputId": "1e46cc46-3537-4ad4-c48c-df4acd940b49"
      },
      "outputs": [
        {
          "data": {
            "text/plain": [
              "0.6301834715465717"
            ]
          },
          "execution_count": 369,
          "metadata": {},
          "output_type": "execute_result"
        }
      ],
      "source": [
        "#Run first simple logistic regression model\n",
        "wlogr = LogisticRegression(regParam=0.1)\n",
        "#Fit with training df, use va from the linear regression model above - using the same set of features\n",
        "wlogr_pipeline = Pipeline(stages=[va, wlogr]).fit(wd_training_df)\n",
        "#Define the evaluator\n",
        "bce = BinaryClassificationEvaluator()\n",
        "#Evaluate on the validation df using AUC as the metric\n",
        "bce.evaluate(wlogr_pipeline.transform(wd_validation_df), {bce.metricName: \"areaUnderROC\"})"
      ]
    },
    {
      "cell_type": "code",
      "execution_count": null,
      "metadata": {
        "colab": {
          "base_uri": "https://localhost:8080/"
        },
        "id": "SrIqYpkzY_mO",
        "outputId": "97763963-63b6-4ced-f5ff-712f058316d6"
      },
      "outputs": [
        {
          "name": "stdout",
          "output_type": "stream",
          "text": [
            "0 0\n"
          ]
        }
      ],
      "source": [
        "#Create a predictions data set and only select the true values and prediction values\n",
        "prf = wlogr_pipeline.transform(wd_testing_df).select('label', 'prediction')\n",
        "#Find the count of true positives, true negatives, false positives, and false negatives\n",
        "weather_delay_tp = prf[(prf.label == 1) & (prf.prediction == 1)].count()\n",
        "weather_delay_tn = prf[(prf.label == 0) & (prf.prediction == 0)].count()\n",
        "weather_delay_fp = prf[(prf.label == 0) & (prf.prediction == 1)].count()\n",
        "weather_delay_fn = prf[(prf.label == 1) & (prf.prediction == 0)].count()\n",
        "\n",
        "print(weather_delay_tp, weather_delay_fp)"
      ]
    },
    {
      "cell_type": "code",
      "execution_count": null,
      "metadata": {
        "id": "k7bWjkQwRrVG"
      },
      "outputs": [],
      "source": [
        "# recall = float(weather_delay_tp)/(weather_delay_tp + weather_delay_fn)\n",
        "# precision = float(weather_delay_tp) / (weather_delay_tp + weather_delay_fp)\n",
        "\n",
        "# eval_list = ['recall', 'precision']\n",
        "# eval_scores = [recall, precision]\n",
        "\n",
        "# log_eval_df = pd.DataFrame(list(zip(eval_list, eval_scores)),\n",
        "#             columns = ['Metric', 'Score']).sort_values('Score', ascending = False)"
      ]
    },
    {
      "attachments": {},
      "cell_type": "markdown",
      "metadata": {
        "id": "lz_4dnNHFzWW"
      },
      "source": [
        "### Balancing the Data\n",
        "Undersampling the observations that were not a weather delay so that the model can predict both positive and negative values"
      ]
    },
    {
      "cell_type": "code",
      "execution_count": null,
      "metadata": {
        "colab": {
          "base_uri": "https://localhost:8080/"
        },
        "id": "Lw2JWDg33mTf",
        "outputId": "47ee2797-fabe-4ddb-8b3b-6a7c59a2b94d"
      },
      "outputs": [
        {
          "name": "stdout",
          "output_type": "stream",
          "text": [
            "+------+-----+------------------+-----------+-------------------+------------+--------+----------+-----------+-----+-------------+--------------+-------+------+\n",
            "|Origin| Dest|ExpectedDepartTime|DepartDelay|ExpectedArrivalTime|ArrivalDelay|Distance|DayOfMonth|FlightMonth|label|IsDepartDelay|IsArrivalDelay|Airline|Season|\n",
            "+------+-----+------------------+-----------+-------------------+------------+--------+----------+-----------+-----+-------------+--------------+-------+------+\n",
            "|  17.0| 60.0|              1850|       -1.0|               2041|        -2.0|   474.0|        30|          7|    0|            0|             0|    5.0|   0.0|\n",
            "|  20.0| 59.0|               850|       -7.0|                945|       -13.0|   558.0|        27|          3|    0|            0|             0|    3.0|   1.0|\n",
            "|  21.0|  0.0|               945|       19.0|               1140|        12.0|   577.0|        17|         10|    0|            1|             1|    0.0|   2.0|\n",
            "|   0.0| 13.0|              1717|       -2.0|               2005|        -8.0|   946.0|        21|          6|    0|            0|             0|    6.0|   0.0|\n",
            "|  44.0| 10.0|              1828|       -2.0|               1925|       -21.0|    95.0|        14|         10|    0|            0|             0|    3.0|   2.0|\n",
            "|  92.0| 20.0|               825|       -1.0|               1017|        12.0|   411.0|         2|          5|    0|            0|             1|    3.0|   1.0|\n",
            "|  18.0| 65.0|              2115|       -8.0|               2245|        -8.0|   290.0|        25|         11|    0|            0|             0|    7.0|   2.0|\n",
            "|  71.0|  1.0|               635|       -2.0|               1036|       -11.0|  1236.0|        10|         11|    0|            0|             0|    5.0|   2.0|\n",
            "|  21.0| 65.0|              1215|        8.0|               1305|         9.0|   159.0|         7|          4|    0|            1|             1|    0.0|   1.0|\n",
            "|   6.0|190.0|              2218|       -2.0|               2332|       -11.0|   308.0|        30|          7|    0|            0|             0|    5.0|   0.0|\n",
            "|   9.0|  2.0|               659|       -6.0|                950|       -28.0|  1389.0|        29|          8|    0|            0|             0|    2.0|   0.0|\n",
            "|  30.0|  1.0|              1927|       -9.0|               2045|        -3.0|   258.0|         5|          3|    0|            0|             0|    2.0|   1.0|\n",
            "|  30.0| 12.0|               909|       11.0|               1045|         5.0|   448.0|        21|          2|    0|            1|             1|    1.0|   3.0|\n",
            "|  52.0| 44.0|               910|       36.0|               1030|        29.0|   358.0|         5|          2|    0|            1|             1|    0.0|   3.0|\n",
            "|  11.0|152.0|              1130|       -4.0|               1257|       -39.0|   748.0|        16|          1|    0|            0|             0|    3.0|   3.0|\n",
            "|  76.0|  4.0|               643|       -2.0|                828|         1.0|   583.0|        24|          6|    0|            0|             1|    8.0|   0.0|\n",
            "|   5.0|  8.0|              1915|        0.0|               2135|       -14.0|   370.0|        14|         11|    0|            0|             0|    0.0|   2.0|\n",
            "|   2.0| 46.0|              1655|       -2.0|               1809|        -8.0|  1205.0|        11|          4|    0|            0|             0|    2.0|   1.0|\n",
            "|  32.0| 15.0|              1059|      171.0|               1529|       145.0|  1504.0|        30|         12|    0|            1|             1|    4.0|   3.0|\n",
            "|  20.0|  7.0|              1650|       17.0|               2050|        23.0|  1195.0|        26|          9|    0|            1|             1|    3.0|   2.0|\n",
            "+------+-----+------------------+-----------+-------------------+------------+--------+----------+-----------+-----+-------------+--------------+-------+------+\n",
            "only showing top 20 rows\n",
            "\n"
          ]
        }
      ],
      "source": [
        "#Need to balance out the df - without doing so - the model will only predict 0 because majority of observations are 0 (no delay)\n",
        "majority_df = weather_df.filter(col(\"label\") == 0)\n",
        "minority_df = weather_df.filter(col(\"label\") == 1)\n",
        "ratio = int(majority_df.count()/minority_df.count())\n",
        "#The ratio is 80 of non-weather-delay observations to weather-delay observations\n",
        "\n",
        "#Create new df that samples the majority df as 1/80\n",
        "undersample_df = majority_df.sample(False, 1/ratio)\n",
        "#Full join minority df with equally sized undersampled majority df\n",
        "balance_weather_df = undersample_df.unionAll(minority_df)\n",
        "balance_weather_df.show()"
      ]
    },
    {
      "cell_type": "code",
      "execution_count": null,
      "metadata": {
        "id": "wvUaGHgQ4PK8"
      },
      "outputs": [],
      "source": [
        "#Create new splits with balanced df\n",
        "w_training_df, w_validation_df, w_testing_df = balance_weather_df.randomSplit([0.6, 0.3, 0.1], )"
      ]
    },
    {
      "attachments": {},
      "cell_type": "markdown",
      "metadata": {
        "id": "TVaH_cNKFkaX"
      },
      "source": [
        "### Logistic Regression Model: Weather Delay Prediciton"
      ]
    },
    {
      "cell_type": "code",
      "execution_count": null,
      "metadata": {
        "id": "Pl0UCMbWkJ5-"
      },
      "outputs": [],
      "source": [
        "#Create pipeline that is not fitted on training data yet\n",
        "wlogr_pipe = Pipeline(stages=[va, wlogr])\n",
        "\n",
        "if enable_grid_search:\n",
        "      #Create grid\n",
        "      wlogr_grid = ParamGridBuilder().\\\n",
        "      addGrid(wlogr.regParam, [0.22, 0.25, 0.28]).\\\n",
        "      addGrid(wlogr.elasticNetParam, [0.0065, 0.0075, 0.0085]).\\\n",
        "      build()\n",
        "\n",
        "      #Grid search - fit with training data\n",
        "      wlogr_all_models = []\n",
        "      for j in range(len(wlogr_grid)):\n",
        "        wlogr_model = wlogr_pipe.fit(w_training_df, wlogr_grid[j])\n",
        "        wlogr_all_models.append(wlogr_model)\n",
        "\n",
        "      #Get the AUC scores of each model on the grid\n",
        "      #Create empty list that will be appended\n",
        "      wlogr_AUC_Scores = []\n",
        "      #For each model in all models on the grid - obtain the AUC score\n",
        "      for m in wlogr_all_models:\n",
        "        wlogr_predictions = m.transform(w_validation_df)\n",
        "        wlogr_AUC_score = bce.evaluate(wlogr_predictions, {bce.metricName: \"areaUnderROC\"})\n",
        "        wlogr_AUC_Scores.append(wlogr_AUC_score)\n",
        "\n",
        "      #Get index of the best model by using function argmax\n",
        "      best_wlogr_model_idx = np.argmax(wlogr_AUC_Scores)\n",
        "      best_wlogr_model = wlogr_all_models[best_wlogr_model_idx]\n",
        "\n",
        "      #Look at the corresponding grid index to find the hyper parameter values in the best model\n",
        "      print(wlogr_grid[best_wlogr_model_idx])\n",
        "      print(\"AUC on Validation Data = \", wlogr_AUC_Scores[best_wlogr_model_idx])\n",
        "      pass"
      ]
    },
    {
      "attachments": {},
      "cell_type": "markdown",
      "metadata": {
        "id": "tYL0EUituo-h"
      },
      "source": [
        "### Logisitic Regression Weather Grid Search:\n",
        "First: regParam = [0.085, 0.1, 0.2], elasticNetParam = [0.0025, 0.005, 0.0075] \\\n",
        "Best Model: regParam = 0.2, elasticNetParam = 0.0075, AUC = 0.6311\n",
        "\n",
        "Second: regParam = [0.2, 0.25, 0.4], elasticNetParam = [0.0075, 0.01, 0.1] \\\n",
        "Best Model: regParam = 0.25, elasticNetParam = 0.0075, AUC = 0.6326\n",
        "\n",
        "Third: regParam = [0.22, 0.25, 0.28], elasticNetParam = [0.0065, 0.0075, 0.085] \\\n",
        "Best Model: regParam = 0.25, elasticNetParam = 0.0065, AUC =  0.6326\n",
        "\n",
        "\n",
        "\n"
      ]
    },
    {
      "cell_type": "code",
      "execution_count": null,
      "metadata": {
        "colab": {
          "base_uri": "https://localhost:8080/"
        },
        "id": "cGa_owgUkOkt",
        "outputId": "5d3ddf6c-d65c-459f-f9d1-fd6ff32dbcb3"
      },
      "outputs": [
        {
          "name": "stdout",
          "output_type": "stream",
          "text": [
            "Testing AUC: 0.6130999435347263\n"
          ]
        }
      ],
      "source": [
        "#Hard code best model\n",
        "best_wlogr = LogisticRegression(regParam=0.25, elasticNetParam=0.0065)\n",
        "wlogr_best_pipe = Pipeline(stages=[va, best_wlogr]).fit(w_training_df)\n",
        "bce = BinaryClassificationEvaluator()\n",
        "\n",
        "#The testing set AUC evaluation\n",
        "wlogr_test_auc = bce.evaluate(wlogr_best_pipe.transform(w_testing_df), {bce.metricName: \"areaUnderROC\"})\n",
        "print(\"Testing AUC: \" + str(wlogr_test_auc))"
      ]
    },
    {
      "cell_type": "code",
      "execution_count": null,
      "metadata": {
        "colab": {
          "base_uri": "https://localhost:8080/",
          "height": 525
        },
        "id": "djz7u2R6a3Oc",
        "outputId": "c7c2e0a3-fbf1-4756-b3f6-b3f079ded652"
      },
      "outputs": [
        {
          "name": "stderr",
          "output_type": "stream",
          "text": [
            "/usr/local/lib/python3.7/dist-packages/pyspark/sql/context.py:127: FutureWarning: Deprecated in 3.0.0. Use SparkSession.builder.getOrCreate() instead.\n",
            "  FutureWarning\n"
          ]
        },
        {
          "data": {
            "text/plain": [
              "[<matplotlib.lines.Line2D at 0x7f1039f1e950>]"
            ]
          },
          "execution_count": 376,
          "metadata": {},
          "output_type": "execute_result"
        },
        {
          "data": {
            "image/png": "[encoded data removed]",
            "text/plain": [
              "<Figure size 640x480 with 1 Axes>"
            ]
          },
          "metadata": {},
          "output_type": "display_data"
        }
      ],
      "source": [
        "# Create a Pipeline estimator and fit on train DF, predict on test DF\n",
        "wlogr_best_predictions = wlogr_best_pipe.transform(w_testing_df)\n",
        "\n",
        "# Returns as a list (false positive rate, true positive rate)\n",
        "wlogr_best_preds = wlogr_best_predictions.select('label','probability').rdd.map(lambda row: (float(row['probability'][1]), float(row['label'])))\n",
        "wlogr_best_points = CurveMetrics(wlogr_best_preds).get_curve('roc')\n",
        "\n",
        "plt.figure()\n",
        "wlogr_best_x_val = [x[0] for x in wlogr_best_points]\n",
        "wlogr_best_y_val = [x[1] for x in wlogr_best_points]\n",
        "plt.title('Airline Weather Delay Logistic ROC Curve')\n",
        "plt.xlabel('False Positive Rate')\n",
        "plt.ylabel('True Positive Rate')\n",
        "plt.plot(wlogr_best_x_val, wlogr_best_y_val)"
      ]
    },
    {
      "cell_type": "code",
      "execution_count": null,
      "metadata": {
        "colab": {
          "base_uri": "https://localhost:8080/",
          "height": 331
        },
        "id": "yiVDaLyuTBMP",
        "outputId": "e3aa8097-da70-4ccd-c332-90ab772669d2"
      },
      "outputs": [
        {
          "data": {
            "text/html": [
              "\n",
              "  <div id=\"df-cf7c0d38-30ad-40e8-9f34-721b16581e51\">\n",
              "    <div class=\"colab-df-container\">\n",
              "      <div>\n",
              "<style scoped>\n",
              "    .dataframe tbody tr th:only-of-type {\n",
              "        vertical-align: middle;\n",
              "    }\n",
              "\n",
              "    .dataframe tbody tr th {\n",
              "        vertical-align: top;\n",
              "    }\n",
              "\n",
              "    .dataframe thead th {\n",
              "        text-align: right;\n",
              "    }\n",
              "</style>\n",
              "<table border=\"1\" class=\"dataframe\">\n",
              "  <thead>\n",
              "    <tr style=\"text-align: right;\">\n",
              "      <th></th>\n",
              "      <th>coefficient</th>\n",
              "      <th>weight</th>\n",
              "    </tr>\n",
              "  </thead>\n",
              "  <tbody>\n",
              "    <tr>\n",
              "      <th>3</th>\n",
              "      <td>ExpectedArrivalTime</td>\n",
              "      <td>0.039947</td>\n",
              "    </tr>\n",
              "    <tr>\n",
              "      <th>0</th>\n",
              "      <td>Origin</td>\n",
              "      <td>0.011327</td>\n",
              "    </tr>\n",
              "    <tr>\n",
              "      <th>5</th>\n",
              "      <td>Distance</td>\n",
              "      <td>0.003673</td>\n",
              "    </tr>\n",
              "    <tr>\n",
              "      <th>8</th>\n",
              "      <td>Airline</td>\n",
              "      <td>0.003165</td>\n",
              "    </tr>\n",
              "    <tr>\n",
              "      <th>2</th>\n",
              "      <td>ExpectedDepartTime</td>\n",
              "      <td>0.000989</td>\n",
              "    </tr>\n",
              "    <tr>\n",
              "      <th>1</th>\n",
              "      <td>Dest</td>\n",
              "      <td>0.000642</td>\n",
              "    </tr>\n",
              "    <tr>\n",
              "      <th>6</th>\n",
              "      <td>DayOfMonth</td>\n",
              "      <td>0.000294</td>\n",
              "    </tr>\n",
              "    <tr>\n",
              "      <th>7</th>\n",
              "      <td>FlightMonth</td>\n",
              "      <td>0.000201</td>\n",
              "    </tr>\n",
              "    <tr>\n",
              "      <th>4</th>\n",
              "      <td>ArrivalDelay</td>\n",
              "      <td>0.000084</td>\n",
              "    </tr>\n",
              "  </tbody>\n",
              "</table>\n",
              "</div>\n",
              "      <button class=\"colab-df-convert\" onclick=\"convertToInteractive('df-cf7c0d38-30ad-40e8-9f34-721b16581e51')\"\n",
              "              title=\"Convert this dataframe to an interactive table.\"\n",
              "              style=\"display:none;\">\n",
              "        \n",
              "  <svg xmlns=\"http://www.w3.org/2000/svg\" height=\"24px\"viewBox=\"0 0 24 24\"\n",
              "       width=\"24px\">\n",
              "    <path d=\"M0 0h24v24H0V0z\" fill=\"none\"/>\n",
              "    <path d=\"M18.56 5.44l.94 2.06.94-2.06 2.06-.94-2.06-.94-.94-2.06-.94 2.06-2.06.94zm-11 1L8.5 8.5l.94-2.06 2.06-.94-2.06-.94L8.5 2.5l-.94 2.06-2.06.94zm10 10l.94 2.06.94-2.06 2.06-.94-2.06-.94-.94-2.06-.94 2.06-2.06.94z\"/><path d=\"M17.41 7.96l-1.37-1.37c-.4-.4-.92-.59-1.43-.59-.52 0-1.04.2-1.43.59L10.3 9.45l-7.72 7.72c-.78.78-.78 2.05 0 2.83L4 21.41c.39.39.9.59 1.41.59.51 0 1.02-.2 1.41-.59l7.78-7.78 2.81-2.81c.8-.78.8-2.07 0-2.86zM5.41 20L4 18.59l7.72-7.72 1.47 1.35L5.41 20z\"/>\n",
              "  </svg>\n",
              "      </button>\n",
              "      \n",
              "  <style>\n",
              "    .colab-df-container {\n",
              "      display:flex;\n",
              "      flex-wrap:wrap;\n",
              "      gap: 12px;\n",
              "    }\n",
              "\n",
              "    .colab-df-convert {\n",
              "      background-color: #E8F0FE;\n",
              "      border: none;\n",
              "      border-radius: 50%;\n",
              "      cursor: pointer;\n",
              "      display: none;\n",
              "      fill: #1967D2;\n",
              "      height: 32px;\n",
              "      padding: 0 0 0 0;\n",
              "      width: 32px;\n",
              "    }\n",
              "\n",
              "    .colab-df-convert:hover {\n",
              "      background-color: #E2EBFA;\n",
              "      box-shadow: 0px 1px 2px rgba(60, 64, 67, 0.3), 0px 1px 3px 1px rgba(60, 64, 67, 0.15);\n",
              "      fill: #174EA6;\n",
              "    }\n",
              "\n",
              "    [theme=dark] .colab-df-convert {\n",
              "      background-color: #3B4455;\n",
              "      fill: #D2E3FC;\n",
              "    }\n",
              "\n",
              "    [theme=dark] .colab-df-convert:hover {\n",
              "      background-color: #434B5C;\n",
              "      box-shadow: 0px 1px 3px 1px rgba(0, 0, 0, 0.15);\n",
              "      filter: drop-shadow(0px 1px 2px rgba(0, 0, 0, 0.3));\n",
              "      fill: #FFFFFF;\n",
              "    }\n",
              "  </style>\n",
              "\n",
              "      <script>\n",
              "        const buttonEl =\n",
              "          document.querySelector('#df-cf7c0d38-30ad-40e8-9f34-721b16581e51 button.colab-df-convert');\n",
              "        buttonEl.style.display =\n",
              "          google.colab.kernel.accessAllowed ? 'block' : 'none';\n",
              "\n",
              "        async function convertToInteractive(key) {\n",
              "          const element = document.querySelector('#df-cf7c0d38-30ad-40e8-9f34-721b16581e51');\n",
              "          const dataTable =\n",
              "            await google.colab.kernel.invokeFunction('convertToInteractive',\n",
              "                                                     [key], {});\n",
              "          if (!dataTable) return;\n",
              "\n",
              "          const docLinkHtml = 'Like what you see? Visit the ' +\n",
              "            '<a target=\"_blank\" href=https://colab.research.google.com/notebooks/data_table.ipynb>data table notebook</a>'\n",
              "            + ' to learn more about interactive tables.';\n",
              "          element.innerHTML = '';\n",
              "          dataTable['output_type'] = 'display_data';\n",
              "          await google.colab.output.renderOutput(dataTable, element);\n",
              "          const docLink = document.createElement('div');\n",
              "          docLink.innerHTML = docLinkHtml;\n",
              "          element.appendChild(docLink);\n",
              "        }\n",
              "      </script>\n",
              "    </div>\n",
              "  </div>\n",
              "  "
            ],
            "text/plain": [
              "           coefficient    weight\n",
              "3  ExpectedArrivalTime  0.039947\n",
              "0               Origin  0.011327\n",
              "5             Distance  0.003673\n",
              "8              Airline  0.003165\n",
              "2   ExpectedDepartTime  0.000989\n",
              "1                 Dest  0.000642\n",
              "6           DayOfMonth  0.000294\n",
              "7          FlightMonth  0.000201\n",
              "4         ArrivalDelay  0.000084"
            ]
          },
          "metadata": {},
          "output_type": "display_data"
        }
      ],
      "source": [
        "#Get the coefficient values to determine how important each feature is to the model\n",
        "wlogr_model = wlogr_best_pipe.stages[-1]\n",
        "#Put in an array\n",
        "wlog_array = wlogr_model.coefficients.toArray()\n",
        "#Get the absolute value for each\n",
        "wlog_abs = np.abs(wlog_array)\n",
        "#Zip the coefficient weights with the coefficient names\n",
        "wlog_best_df = pd.DataFrame(list(zip(weather_df.drop('label', 'IsDepartDelay', 'IsWeatherDelay', 'ArrivalDelay''ArrivalDelay', 'DepartDelay',\n",
        "                                                'features', 'indexedFeatures', 'IsDepartDelay',\n",
        "                                                'IsArrivalDelay').columns, wlog_abs)),\n",
        "            columns = ['coefficient', 'weight']).sort_values('weight', ascending = False)\n",
        "\n",
        "display(wlog_best_df)"
      ]
    },
    {
      "attachments": {},
      "cell_type": "markdown",
      "metadata": {
        "id": "iwLrTjyzG_Fc"
      },
      "source": [
        "### Random Forest Classification Model: Weather Delay Prediction"
      ]
    },
    {
      "cell_type": "code",
      "execution_count": null,
      "metadata": {
        "colab": {
          "base_uri": "https://localhost:8080/"
        },
        "id": "Wono2drjvWEi",
        "outputId": "3d7abdbf-fe55-447d-ddfb-f8483143344d"
      },
      "outputs": [
        {
          "data": {
            "text/plain": [
              "0.7073658481305489"
            ]
          },
          "execution_count": 378,
          "metadata": {},
          "output_type": "execute_result"
        }
      ],
      "source": [
        "#Set maxBins =354 because there are 354 origin values\n",
        "#Default RF model\n",
        "wrf = RandomForestClassifier(maxBins=354)\n",
        "wrf_pipeline = Pipeline(stages=[va, wrf]).fit(w_training_df)\n",
        "bce.evaluate(wrf_pipeline.transform(w_validation_df))"
      ]
    },
    {
      "cell_type": "code",
      "execution_count": null,
      "metadata": {
        "id": "dIfOiUXNHTkA"
      },
      "outputs": [],
      "source": [
        "#Create pipeline that is not fit on the training set yet\n",
        "wrf_pipe = Pipeline(stages=[va, wrf])\n",
        "\n",
        "if enable_grid_search:\n",
        "      #Create grid\n",
        "      wrf_grid = ParamGridBuilder().\\\n",
        "      addGrid(wrf.numTrees, [75, 90, 110]).\\\n",
        "      addGrid(wrf.maxDepth, [14, 15, 16]).\\\n",
        "      addGrid(wrf.minInstancesPerNode, [30, 35, 40]).\\\n",
        "      build()\n",
        "\n",
        "      #Grid search\n",
        "      wrf_all_models = []\n",
        "      for j in range(len(wrf_grid)):\n",
        "        wrf_model = wrf_pipe.fit(w_training_df, wrf_grid[j])\n",
        "        wrf_all_models.append(wrf_model)\n",
        "\n",
        "      #Get the AUC scores of each model on the grid\n",
        "      #Create empty list that will be appended\n",
        "      wrf_AUC_Scores = []\n",
        "      #For each model in all models on the grid - obtain the AUC score\n",
        "      for m in wrf_all_models:\n",
        "        wrf_predictions = m.transform(w_validation_df)\n",
        "        wrf_AUC_score = bce.evaluate(wrf_predictions, {bce.metricName: \"areaUnderROC\"})\n",
        "        wrf_AUC_Scores.append(wrf_AUC_score)\n",
        "\n",
        "      #Get index of the best model by using function argmax\n",
        "      best_wrf_model_idx = np.argmax(wrf_AUC_Scores)\n",
        "      best_wrf_model = wrf_all_models[best_wrf_model_idx]\n",
        "\n",
        "      #Look at the corresponding grid index to find the hyper parameter values in the best model\n",
        "      print(wrf_grid[best_wrf_model_idx])\n",
        "      print(\"AUC on Validation Data = \", wrf_AUC_Scores[best_wrf_model_idx])\n",
        "      pass"
      ]
    },
    {
      "attachments": {},
      "cell_type": "markdown",
      "metadata": {
        "id": "btszxMd8HVRY"
      },
      "source": [
        "### Random Forest Classification Weather Grid Search:\n",
        "First Grid: numTrees = [10, 20, 30], maxDepth = [3, 15], minInstancesPerNode = [5, 10, 15] \\\n",
        "Best Model: numTrees = 30, maxDepth = 15, minInstancesPerNode = 15, AUC = 0.6931\n",
        "\n",
        "Second: numTrees = [50, 60, 75], maxDepth = [15, 20], minInstancesPerNode = [20, 25, 30] \\\n",
        "Best Model: numTrees = 75, maxDepth = 15, minInstancesPerNode = 30, AUC = 0.7033\n",
        "\n",
        "Third Grid: numTrees = [75, 90, 110], maxDepth = [14, 15, 16], minInstancesPerNode = [30, 35, 40] \\\n",
        "Best Model: numTrees = 90, maxDepth = 14, minInstancesPerNode = 35, AUC = 0.7356\n",
        "\n"
      ]
    },
    {
      "cell_type": "code",
      "execution_count": null,
      "metadata": {
        "id": "1g7tLdxuHf9e"
      },
      "outputs": [],
      "source": [
        "#Hard code parameter values from the best outcome from the grid search\n",
        "nt = 90\n",
        "md = 14\n",
        "fss = 'sqrt'\n",
        "mipn = 35\n",
        "mb = 354\n",
        "\n",
        "#Create new random forest regressor with hard coded best model hyper params\n",
        "best_wrf = RandomForestClassifier().\\\n",
        "    setLabelCol('label').\\\n",
        "    setFeaturesCol('features').\\\n",
        "    setNumTrees(nt).\\\n",
        "    setMaxBins(mb).\\\n",
        "    setFeatureSubsetStrategy(fss).\\\n",
        "    setMinInstancesPerNode(mipn).\\\n",
        "    setMaxDepth(md)\n",
        "\n",
        "#Create the pipeline\n",
        "best_wrf_pipe = Pipeline(stages=[va, best_wrf]).fit(w_training_df)\n",
        "\n",
        "#Test best_pipe\n",
        "wrf_test_auc = bce.evaluate(best_wrf_pipe.transform(w_testing_df))"
      ]
    },
    {
      "cell_type": "code",
      "execution_count": null,
      "metadata": {
        "colab": {
          "base_uri": "https://localhost:8080/",
          "height": 525
        },
        "id": "G9-Ow51DAaJS",
        "outputId": "d0ffc0da-3fcd-4cce-be2a-d64cda7d9bc0"
      },
      "outputs": [
        {
          "name": "stderr",
          "output_type": "stream",
          "text": [
            "/usr/local/lib/python3.7/dist-packages/pyspark/sql/context.py:127: FutureWarning: Deprecated in 3.0.0. Use SparkSession.builder.getOrCreate() instead.\n",
            "  FutureWarning\n"
          ]
        },
        {
          "data": {
            "text/plain": [
              "[<matplotlib.lines.Line2D at 0x7f1039f91350>]"
            ]
          },
          "execution_count": 381,
          "metadata": {},
          "output_type": "execute_result"
        },
        {
          "data": {
            "image/png": "[encoded data removed]",
            "text/plain": [
              "<Figure size 640x480 with 1 Axes>"
            ]
          },
          "metadata": {},
          "output_type": "display_data"
        }
      ],
      "source": [
        "# Create a Pipeline estimator and fit on train DF, predict on test DF\n",
        "wrf_best_predictions = best_wrf_pipe.transform(w_testing_df)\n",
        "\n",
        "# Returns as a list (false positive rate, true positive rate)\n",
        "wrf_best_preds = wrf_best_predictions.select('label','probability').rdd.map(lambda row: (float(row['probability'][1]), float(row['label'])))\n",
        "wrf_best_points = CurveMetrics(wrf_best_preds).get_curve('roc')\n",
        "\n",
        "#Build Plot\n",
        "plt.figure()\n",
        "wrf_best_x_val = [x[0] for x in wrf_best_points]\n",
        "wrf_best_y_val = [x[1] for x in wrf_best_points]\n",
        "plt.title('Airline Weather Delay RF ROC Curve')\n",
        "plt.xlabel('False Positive Rate')\n",
        "plt.ylabel('True Positive Rate')\n",
        "plt.plot(wrf_best_x_val, wrf_best_y_val)"
      ]
    },
    {
      "cell_type": "code",
      "execution_count": null,
      "metadata": {
        "colab": {
          "base_uri": "https://localhost:8080/",
          "height": 331
        },
        "id": "9nk5cbL3186s",
        "outputId": "e2319482-0226-43bf-84f8-8e932cda6380"
      },
      "outputs": [
        {
          "data": {
            "text/html": [
              "\n",
              "  <div id=\"df-3f9c23ab-31cd-4dd8-9f7d-979828697a94\">\n",
              "    <div class=\"colab-df-container\">\n",
              "      <div>\n",
              "<style scoped>\n",
              "    .dataframe tbody tr th:only-of-type {\n",
              "        vertical-align: middle;\n",
              "    }\n",
              "\n",
              "    .dataframe tbody tr th {\n",
              "        vertical-align: top;\n",
              "    }\n",
              "\n",
              "    .dataframe thead th {\n",
              "        text-align: right;\n",
              "    }\n",
              "</style>\n",
              "<table border=\"1\" class=\"dataframe\">\n",
              "  <thead>\n",
              "    <tr style=\"text-align: right;\">\n",
              "      <th></th>\n",
              "      <th>feature</th>\n",
              "      <th>importance</th>\n",
              "    </tr>\n",
              "  </thead>\n",
              "  <tbody>\n",
              "    <tr>\n",
              "      <th>1</th>\n",
              "      <td>Dest</td>\n",
              "      <td>0.442069</td>\n",
              "    </tr>\n",
              "    <tr>\n",
              "      <th>2</th>\n",
              "      <td>ExpectedDepartTime</td>\n",
              "      <td>0.308139</td>\n",
              "    </tr>\n",
              "    <tr>\n",
              "      <th>6</th>\n",
              "      <td>DayOfMonth</td>\n",
              "      <td>0.064137</td>\n",
              "    </tr>\n",
              "    <tr>\n",
              "      <th>0</th>\n",
              "      <td>Origin</td>\n",
              "      <td>0.058486</td>\n",
              "    </tr>\n",
              "    <tr>\n",
              "      <th>7</th>\n",
              "      <td>FlightMonth</td>\n",
              "      <td>0.042495</td>\n",
              "    </tr>\n",
              "    <tr>\n",
              "      <th>4</th>\n",
              "      <td>ArrivalDelay</td>\n",
              "      <td>0.026433</td>\n",
              "    </tr>\n",
              "    <tr>\n",
              "      <th>3</th>\n",
              "      <td>ExpectedArrivalTime</td>\n",
              "      <td>0.025837</td>\n",
              "    </tr>\n",
              "    <tr>\n",
              "      <th>8</th>\n",
              "      <td>Airline</td>\n",
              "      <td>0.016339</td>\n",
              "    </tr>\n",
              "    <tr>\n",
              "      <th>5</th>\n",
              "      <td>Distance</td>\n",
              "      <td>0.016064</td>\n",
              "    </tr>\n",
              "  </tbody>\n",
              "</table>\n",
              "</div>\n",
              "      <button class=\"colab-df-convert\" onclick=\"convertToInteractive('df-3f9c23ab-31cd-4dd8-9f7d-979828697a94')\"\n",
              "              title=\"Convert this dataframe to an interactive table.\"\n",
              "              style=\"display:none;\">\n",
              "        \n",
              "  <svg xmlns=\"http://www.w3.org/2000/svg\" height=\"24px\"viewBox=\"0 0 24 24\"\n",
              "       width=\"24px\">\n",
              "    <path d=\"M0 0h24v24H0V0z\" fill=\"none\"/>\n",
              "    <path d=\"M18.56 5.44l.94 2.06.94-2.06 2.06-.94-2.06-.94-.94-2.06-.94 2.06-2.06.94zm-11 1L8.5 8.5l.94-2.06 2.06-.94-2.06-.94L8.5 2.5l-.94 2.06-2.06.94zm10 10l.94 2.06.94-2.06 2.06-.94-2.06-.94-.94-2.06-.94 2.06-2.06.94z\"/><path d=\"M17.41 7.96l-1.37-1.37c-.4-.4-.92-.59-1.43-.59-.52 0-1.04.2-1.43.59L10.3 9.45l-7.72 7.72c-.78.78-.78 2.05 0 2.83L4 21.41c.39.39.9.59 1.41.59.51 0 1.02-.2 1.41-.59l7.78-7.78 2.81-2.81c.8-.78.8-2.07 0-2.86zM5.41 20L4 18.59l7.72-7.72 1.47 1.35L5.41 20z\"/>\n",
              "  </svg>\n",
              "      </button>\n",
              "      \n",
              "  <style>\n",
              "    .colab-df-container {\n",
              "      display:flex;\n",
              "      flex-wrap:wrap;\n",
              "      gap: 12px;\n",
              "    }\n",
              "\n",
              "    .colab-df-convert {\n",
              "      background-color: #E8F0FE;\n",
              "      border: none;\n",
              "      border-radius: 50%;\n",
              "      cursor: pointer;\n",
              "      display: none;\n",
              "      fill: #1967D2;\n",
              "      height: 32px;\n",
              "      padding: 0 0 0 0;\n",
              "      width: 32px;\n",
              "    }\n",
              "\n",
              "    .colab-df-convert:hover {\n",
              "      background-color: #E2EBFA;\n",
              "      box-shadow: 0px 1px 2px rgba(60, 64, 67, 0.3), 0px 1px 3px 1px rgba(60, 64, 67, 0.15);\n",
              "      fill: #174EA6;\n",
              "    }\n",
              "\n",
              "    [theme=dark] .colab-df-convert {\n",
              "      background-color: #3B4455;\n",
              "      fill: #D2E3FC;\n",
              "    }\n",
              "\n",
              "    [theme=dark] .colab-df-convert:hover {\n",
              "      background-color: #434B5C;\n",
              "      box-shadow: 0px 1px 3px 1px rgba(0, 0, 0, 0.15);\n",
              "      filter: drop-shadow(0px 1px 2px rgba(0, 0, 0, 0.3));\n",
              "      fill: #FFFFFF;\n",
              "    }\n",
              "  </style>\n",
              "\n",
              "      <script>\n",
              "        const buttonEl =\n",
              "          document.querySelector('#df-3f9c23ab-31cd-4dd8-9f7d-979828697a94 button.colab-df-convert');\n",
              "        buttonEl.style.display =\n",
              "          google.colab.kernel.accessAllowed ? 'block' : 'none';\n",
              "\n",
              "        async function convertToInteractive(key) {\n",
              "          const element = document.querySelector('#df-3f9c23ab-31cd-4dd8-9f7d-979828697a94');\n",
              "          const dataTable =\n",
              "            await google.colab.kernel.invokeFunction('convertToInteractive',\n",
              "                                                     [key], {});\n",
              "          if (!dataTable) return;\n",
              "\n",
              "          const docLinkHtml = 'Like what you see? Visit the ' +\n",
              "            '<a target=\"_blank\" href=https://colab.research.google.com/notebooks/data_table.ipynb>data table notebook</a>'\n",
              "            + ' to learn more about interactive tables.';\n",
              "          element.innerHTML = '';\n",
              "          dataTable['output_type'] = 'display_data';\n",
              "          await google.colab.output.renderOutput(dataTable, element);\n",
              "          const docLink = document.createElement('div');\n",
              "          docLink.innerHTML = docLinkHtml;\n",
              "          element.appendChild(docLink);\n",
              "        }\n",
              "      </script>\n",
              "    </div>\n",
              "  </div>\n",
              "  "
            ],
            "text/plain": [
              "               feature  importance\n",
              "1                 Dest    0.442069\n",
              "2   ExpectedDepartTime    0.308139\n",
              "6           DayOfMonth    0.064137\n",
              "0               Origin    0.058486\n",
              "7          FlightMonth    0.042495\n",
              "4         ArrivalDelay    0.026433\n",
              "3  ExpectedArrivalTime    0.025837\n",
              "8              Airline    0.016339\n",
              "5             Distance    0.016064"
            ]
          },
          "metadata": {},
          "output_type": "display_data"
        }
      ],
      "source": [
        "#Get feature importance\n",
        "#Call on the random forest stage of the pipeline\n",
        "wrf_best_model = best_wrf_pipe.stages[-1]\n",
        "\n",
        "#Send the feature importances from that stage to an array\n",
        "wrf_array = wrf_best_model.featureImportances.toArray()\n",
        "\n",
        "#Zip the necessary column names with the feature importance array\n",
        "wrf_best_df = pd.DataFrame(list(zip(weather_df.drop('label', 'IsDepartDelay', 'IsWeatherDelay', 'ArrivalDelay''ArrivalDelay', 'DepartDelay',\n",
        "                                                'features', 'IsDepartDelay',\n",
        "                                                'IsArrivalDelay').columns, wrf_array)),\n",
        "            columns = ['feature', 'importance']).sort_values('importance', ascending = False)\n",
        "\n",
        "#Display the feature importance results\n",
        "display(wrf_best_df)"
      ]
    },
    {
      "attachments": {},
      "cell_type": "markdown",
      "metadata": {
        "id": "Cun049PaHsC6"
      },
      "source": [
        "### Gradient-Boosted Trees Classification Model: Weather Delay Prediction"
      ]
    },
    {
      "cell_type": "code",
      "execution_count": null,
      "metadata": {
        "colab": {
          "base_uri": "https://localhost:8080/"
        },
        "id": "-YR0H1iRArCt",
        "outputId": "c17d0220-5f05-4ce0-84a5-bc5bde7aded4"
      },
      "outputs": [
        {
          "data": {
            "text/plain": [
              "0.6553893256846326"
            ]
          },
          "execution_count": 383,
          "metadata": {},
          "output_type": "execute_result"
        }
      ],
      "source": [
        "#Default GBT Model\n",
        "wgbt = GBTClassifier(maxBins=354)\n",
        "wgbt_pipeline = Pipeline(stages=[va, wgbt]).fit(w_training_df)\n",
        "bce.evaluate(wgbt_pipeline.transform(w_validation_df))"
      ]
    },
    {
      "cell_type": "code",
      "execution_count": null,
      "metadata": {
        "id": "-tfzGXpJH6jL"
      },
      "outputs": [],
      "source": [
        "#Create pipeline without fit on training\n",
        "wgbt_pipe = Pipeline(stages=[va, wgbt])\n",
        "\n",
        "if enable_grid_search:\n",
        "      #Create grid\n",
        "      wgbt_grid = ParamGridBuilder().\\\n",
        "          addGrid(gbt.subsamplingRate, [0.55, 0.65]).\\\n",
        "          addGrid(gbt.maxIter, [30]).\\\n",
        "          addGrid(gbt.stepSize, [0.07, 0.08, 0.09]).\\\n",
        "          addGrid(gbt.maxDepth, [3]).\\\n",
        "          build()\n",
        "\n",
        "      #Grid search\n",
        "      wgbt_all_models = []\n",
        "      for j in range(len(wgbt_grid)):\n",
        "        wgbt_model = wgbt_pipe.fit(w_training_df, wgbt_grid[j])\n",
        "        wgbt_all_models.append(wgbt_model)\n",
        "\n",
        "      #Get the AUC scores of each model on the grid\n",
        "      #Create empty list that will be appended\n",
        "      wgbt_AUC_Scores = []\n",
        "      #For each model in all models on the grid - obtain the AUC score\n",
        "      for m in wgbt_all_models:\n",
        "        wgbt_predictions = m.transform(w_validation_df)\n",
        "        wgbt_AUC_score = bce.evaluate(wgbt_predictions, {bce.metricName: \"areaUnderROC\"})\n",
        "        wgbt_AUC_Scores.append(wgbt_AUC_score)\n",
        "\n",
        "      #Get index of the best model by using function argmax\n",
        "      best_wgbt_model_idx = np.argmax(wgbt_AUC_Scores)\n",
        "      best_wgbt_model = wgbt_all_models[best_wgbt_model_idx]\n",
        "\n",
        "      #Look at the corresponding grid index to find the hyper param values in the best model\n",
        "      print(wgbt_grid[best_wgbt_model_idx])\n",
        "      print(\"AUC on Validation Data = \", wgbt_AUC_Scores[best_wgbt_model_idx])"
      ]
    },
    {
      "attachments": {},
      "cell_type": "markdown",
      "metadata": {
        "id": "vVYCns8SH8Va"
      },
      "source": [
        "### GBT Model Weather Grid Search:\n",
        "First: subsamplingRate = [0.8, 0.85], maxIter = [30, 35], stepSize = [0.2, 0.22, 0.24], maxDepth = [4] \\\n",
        "Best Model: subsamplingRate = 0.8, maxIter = 30, stepSize = 0.2, maxDepth = 4, AUC = 0.6002 \\\n",
        "Second: subsamplingRate = [0.75, 0.8, 0.85], maxIter = [20, 30, 50], stepSize = [0.05, 0.1, 0.2], maxDepth = [3, 4, 5] \\\n",
        "Best Model: subsamplingRate = 0.75, maxIter = 30, stepSize = 0.1, maxDepth = 3, AUC = 0.6002 \\\n",
        "\n",
        "Third: subsamplingRate = [0.65, 0.75], maxIter = [30], stepSize = [0.08, 0.1, 0.12], maxDepth = [3] \\\n",
        "Best Model: subsamplingRate = 0.65, maxIter = 30, stepSize = 0.08, maxDepth = 3, AUC = 0.6334\n",
        "\n"
      ]
    },
    {
      "cell_type": "code",
      "execution_count": null,
      "metadata": {
        "colab": {
          "base_uri": "https://localhost:8080/"
        },
        "id": "2jIVtZindW4L",
        "outputId": "bbda317b-5d06-4e60-e9f6-bf70053907df"
      },
      "outputs": [
        {
          "data": {
            "text/plain": [
              "0.5599472990777339"
            ]
          },
          "execution_count": 385,
          "metadata": {},
          "output_type": "execute_result"
        }
      ],
      "source": [
        "#Hard code parameter values from the best outcome from the grid search\n",
        "ssr = 0.65\n",
        "mi = 30\n",
        "ss = 0.08\n",
        "md = 3\n",
        "mb= 354\n",
        "\n",
        "#Create new random forest regressor with hard coded best model hyper params\n",
        "best_wgbt = GBTClassifier().\\\n",
        "    setLabelCol('label').\\\n",
        "    setFeaturesCol('features').\\\n",
        "    setSubsamplingRate(ssr).\\\n",
        "    setMaxIter(mi).\\\n",
        "    setStepSize(ss).\\\n",
        "    setMaxBins(mb).\\\n",
        "    setMaxDepth(md)\n",
        "\n",
        "#Create the pipeline\n",
        "best_wgbt_pipe = Pipeline(stages=[va, best_wgbt]).fit(w_training_df)\n",
        "\n",
        "#Test best_pipe\n",
        "wgbt_test_auc = bce.evaluate(best_wgbt_pipe.transform(w_testing_df))\n",
        "bce.evaluate(best_wgbt_pipe.transform(w_testing_df))"
      ]
    },
    {
      "cell_type": "code",
      "execution_count": null,
      "metadata": {
        "colab": {
          "base_uri": "https://localhost:8080/",
          "height": 525
        },
        "id": "h82Em2LnIHk5",
        "outputId": "34f53c53-b68e-4757-d051-b8ef1d709e7e"
      },
      "outputs": [
        {
          "name": "stderr",
          "output_type": "stream",
          "text": [
            "/usr/local/lib/python3.7/dist-packages/pyspark/sql/context.py:127: FutureWarning: Deprecated in 3.0.0. Use SparkSession.builder.getOrCreate() instead.\n",
            "  FutureWarning\n"
          ]
        },
        {
          "data": {
            "text/plain": [
              "[<matplotlib.lines.Line2D at 0x7f1039fa20d0>]"
            ]
          },
          "execution_count": 386,
          "metadata": {},
          "output_type": "execute_result"
        },
        {
          "data": {
            "image/png": "[encoded data removed]",
            "text/plain": [
              "<Figure size 640x480 with 1 Axes>"
            ]
          },
          "metadata": {},
          "output_type": "display_data"
        }
      ],
      "source": [
        "# Get predictions from the best pipeline\n",
        "wgbt_best_predictions = best_wgbt_pipe.transform(w_testing_df)\n",
        "\n",
        "# Returns as a list (false positive rate, true positive rate)\n",
        "wgbt_best_preds = wgbt_best_predictions.select('label','probability').rdd.map(lambda row: (float(row['probability'][1]), float(row['label'])))\n",
        "wgbt_best_points = CurveMetrics(wgbt_best_preds).get_curve('roc')\n",
        "\n",
        "plt.figure()\n",
        "wgbt_best_x_val = [x[0] for x in wgbt_best_points]\n",
        "wgbt_best_y_val = [x[1] for x in wgbt_best_points]\n",
        "plt.title('Airline Weather Delay GBT ROC Curve')\n",
        "plt.xlabel('False Positive Rate')\n",
        "plt.ylabel('True Positive Rate')\n",
        "plt.plot(wgbt_best_x_val, wgbt_best_y_val)"
      ]
    },
    {
      "cell_type": "code",
      "execution_count": null,
      "metadata": {
        "colab": {
          "base_uri": "https://localhost:8080/",
          "height": 331
        },
        "id": "Ci0JuRU-IHym",
        "outputId": "9334e3a4-53d2-4ce3-8553-cbf3b8ebc355"
      },
      "outputs": [
        {
          "data": {
            "text/html": [
              "\n",
              "  <div id=\"df-effe9e09-5d1f-4a41-8cce-d2175c8d0d3a\">\n",
              "    <div class=\"colab-df-container\">\n",
              "      <div>\n",
              "<style scoped>\n",
              "    .dataframe tbody tr th:only-of-type {\n",
              "        vertical-align: middle;\n",
              "    }\n",
              "\n",
              "    .dataframe tbody tr th {\n",
              "        vertical-align: top;\n",
              "    }\n",
              "\n",
              "    .dataframe thead th {\n",
              "        text-align: right;\n",
              "    }\n",
              "</style>\n",
              "<table border=\"1\" class=\"dataframe\">\n",
              "  <thead>\n",
              "    <tr style=\"text-align: right;\">\n",
              "      <th></th>\n",
              "      <th>feature</th>\n",
              "      <th>importance</th>\n",
              "    </tr>\n",
              "  </thead>\n",
              "  <tbody>\n",
              "    <tr>\n",
              "      <th>2</th>\n",
              "      <td>ExpectedDepartTime</td>\n",
              "      <td>0.501699</td>\n",
              "    </tr>\n",
              "    <tr>\n",
              "      <th>1</th>\n",
              "      <td>Dest</td>\n",
              "      <td>0.444953</td>\n",
              "    </tr>\n",
              "    <tr>\n",
              "      <th>6</th>\n",
              "      <td>DayOfMonth</td>\n",
              "      <td>0.023838</td>\n",
              "    </tr>\n",
              "    <tr>\n",
              "      <th>0</th>\n",
              "      <td>Origin</td>\n",
              "      <td>0.022695</td>\n",
              "    </tr>\n",
              "    <tr>\n",
              "      <th>7</th>\n",
              "      <td>FlightMonth</td>\n",
              "      <td>0.004885</td>\n",
              "    </tr>\n",
              "    <tr>\n",
              "      <th>3</th>\n",
              "      <td>ExpectedArrivalTime</td>\n",
              "      <td>0.001930</td>\n",
              "    </tr>\n",
              "    <tr>\n",
              "      <th>4</th>\n",
              "      <td>ArrivalDelay</td>\n",
              "      <td>0.000000</td>\n",
              "    </tr>\n",
              "    <tr>\n",
              "      <th>5</th>\n",
              "      <td>Distance</td>\n",
              "      <td>0.000000</td>\n",
              "    </tr>\n",
              "    <tr>\n",
              "      <th>8</th>\n",
              "      <td>Airline</td>\n",
              "      <td>0.000000</td>\n",
              "    </tr>\n",
              "  </tbody>\n",
              "</table>\n",
              "</div>\n",
              "      <button class=\"colab-df-convert\" onclick=\"convertToInteractive('df-effe9e09-5d1f-4a41-8cce-d2175c8d0d3a')\"\n",
              "              title=\"Convert this dataframe to an interactive table.\"\n",
              "              style=\"display:none;\">\n",
              "        \n",
              "  <svg xmlns=\"http://www.w3.org/2000/svg\" height=\"24px\"viewBox=\"0 0 24 24\"\n",
              "       width=\"24px\">\n",
              "    <path d=\"M0 0h24v24H0V0z\" fill=\"none\"/>\n",
              "    <path d=\"M18.56 5.44l.94 2.06.94-2.06 2.06-.94-2.06-.94-.94-2.06-.94 2.06-2.06.94zm-11 1L8.5 8.5l.94-2.06 2.06-.94-2.06-.94L8.5 2.5l-.94 2.06-2.06.94zm10 10l.94 2.06.94-2.06 2.06-.94-2.06-.94-.94-2.06-.94 2.06-2.06.94z\"/><path d=\"M17.41 7.96l-1.37-1.37c-.4-.4-.92-.59-1.43-.59-.52 0-1.04.2-1.43.59L10.3 9.45l-7.72 7.72c-.78.78-.78 2.05 0 2.83L4 21.41c.39.39.9.59 1.41.59.51 0 1.02-.2 1.41-.59l7.78-7.78 2.81-2.81c.8-.78.8-2.07 0-2.86zM5.41 20L4 18.59l7.72-7.72 1.47 1.35L5.41 20z\"/>\n",
              "  </svg>\n",
              "      </button>\n",
              "      \n",
              "  <style>\n",
              "    .colab-df-container {\n",
              "      display:flex;\n",
              "      flex-wrap:wrap;\n",
              "      gap: 12px;\n",
              "    }\n",
              "\n",
              "    .colab-df-convert {\n",
              "      background-color: #E8F0FE;\n",
              "      border: none;\n",
              "      border-radius: 50%;\n",
              "      cursor: pointer;\n",
              "      display: none;\n",
              "      fill: #1967D2;\n",
              "      height: 32px;\n",
              "      padding: 0 0 0 0;\n",
              "      width: 32px;\n",
              "    }\n",
              "\n",
              "    .colab-df-convert:hover {\n",
              "      background-color: #E2EBFA;\n",
              "      box-shadow: 0px 1px 2px rgba(60, 64, 67, 0.3), 0px 1px 3px 1px rgba(60, 64, 67, 0.15);\n",
              "      fill: #174EA6;\n",
              "    }\n",
              "\n",
              "    [theme=dark] .colab-df-convert {\n",
              "      background-color: #3B4455;\n",
              "      fill: #D2E3FC;\n",
              "    }\n",
              "\n",
              "    [theme=dark] .colab-df-convert:hover {\n",
              "      background-color: #434B5C;\n",
              "      box-shadow: 0px 1px 3px 1px rgba(0, 0, 0, 0.15);\n",
              "      filter: drop-shadow(0px 1px 2px rgba(0, 0, 0, 0.3));\n",
              "      fill: #FFFFFF;\n",
              "    }\n",
              "  </style>\n",
              "\n",
              "      <script>\n",
              "        const buttonEl =\n",
              "          document.querySelector('#df-effe9e09-5d1f-4a41-8cce-d2175c8d0d3a button.colab-df-convert');\n",
              "        buttonEl.style.display =\n",
              "          google.colab.kernel.accessAllowed ? 'block' : 'none';\n",
              "\n",
              "        async function convertToInteractive(key) {\n",
              "          const element = document.querySelector('#df-effe9e09-5d1f-4a41-8cce-d2175c8d0d3a');\n",
              "          const dataTable =\n",
              "            await google.colab.kernel.invokeFunction('convertToInteractive',\n",
              "                                                     [key], {});\n",
              "          if (!dataTable) return;\n",
              "\n",
              "          const docLinkHtml = 'Like what you see? Visit the ' +\n",
              "            '<a target=\"_blank\" href=https://colab.research.google.com/notebooks/data_table.ipynb>data table notebook</a>'\n",
              "            + ' to learn more about interactive tables.';\n",
              "          element.innerHTML = '';\n",
              "          dataTable['output_type'] = 'display_data';\n",
              "          await google.colab.output.renderOutput(dataTable, element);\n",
              "          const docLink = document.createElement('div');\n",
              "          docLink.innerHTML = docLinkHtml;\n",
              "          element.appendChild(docLink);\n",
              "        }\n",
              "      </script>\n",
              "    </div>\n",
              "  </div>\n",
              "  "
            ],
            "text/plain": [
              "               feature  importance\n",
              "2   ExpectedDepartTime    0.501699\n",
              "1                 Dest    0.444953\n",
              "6           DayOfMonth    0.023838\n",
              "0               Origin    0.022695\n",
              "7          FlightMonth    0.004885\n",
              "3  ExpectedArrivalTime    0.001930\n",
              "4         ArrivalDelay    0.000000\n",
              "5             Distance    0.000000\n",
              "8              Airline    0.000000"
            ]
          },
          "metadata": {},
          "output_type": "display_data"
        }
      ],
      "source": [
        "#Call on the gradient-boosted trees stage of the pipeline\n",
        "wgbt_best_model = best_wgbt_pipe.stages[-1]\n",
        "\n",
        "#Send the feature importances from that stage to an array\n",
        "wgbt_array = wgbt_best_model.featureImportances.toArray()\n",
        "\n",
        "#Zip the necessary column names with the feature importance array\n",
        "wgbt_best_df = pd.DataFrame(list(zip(weather_df.drop('label', 'IsDepartDelay', 'IsWeatherDelay', 'ArrivalDelay''ArrivalDelay', 'DepartDelay',\n",
        "                                                'features', 'IsDepartDelay',\n",
        "                                                'IsArrivalDelay').columns, wgbt_array)),\n",
        "            columns = ['feature', 'importance']).sort_values('importance', ascending = False)\n",
        "\n",
        "#Display the feature importance results\n",
        "display(wgbt_best_df)"
      ]
    },
    {
      "attachments": {},
      "cell_type": "markdown",
      "metadata": {
        "id": "iVMAE53Fr2du"
      },
      "source": [
        "### Model Comparison: Weather Delay Prediction"
      ]
    },
    {
      "cell_type": "code",
      "execution_count": null,
      "metadata": {
        "colab": {
          "base_uri": "https://localhost:8080/",
          "height": 143
        },
        "id": "T2C-P9kur1dP",
        "outputId": "d02dafd9-db2d-4f2e-8d44-fede4e6db2c1"
      },
      "outputs": [
        {
          "data": {
            "text/html": [
              "\n",
              "  <div id=\"df-65c9cabf-e6f8-4e08-8547-61f68271dbe7\">\n",
              "    <div class=\"colab-df-container\">\n",
              "      <div>\n",
              "<style scoped>\n",
              "    .dataframe tbody tr th:only-of-type {\n",
              "        vertical-align: middle;\n",
              "    }\n",
              "\n",
              "    .dataframe tbody tr th {\n",
              "        vertical-align: top;\n",
              "    }\n",
              "\n",
              "    .dataframe thead th {\n",
              "        text-align: right;\n",
              "    }\n",
              "</style>\n",
              "<table border=\"1\" class=\"dataframe\">\n",
              "  <thead>\n",
              "    <tr style=\"text-align: right;\">\n",
              "      <th></th>\n",
              "      <th>Model</th>\n",
              "      <th>AUC</th>\n",
              "    </tr>\n",
              "  </thead>\n",
              "  <tbody>\n",
              "    <tr>\n",
              "      <th>2</th>\n",
              "      <td>GBT</td>\n",
              "      <td>0.5599</td>\n",
              "    </tr>\n",
              "    <tr>\n",
              "      <th>0</th>\n",
              "      <td>LogReg</td>\n",
              "      <td>0.6131</td>\n",
              "    </tr>\n",
              "    <tr>\n",
              "      <th>1</th>\n",
              "      <td>RF</td>\n",
              "      <td>0.6643</td>\n",
              "    </tr>\n",
              "  </tbody>\n",
              "</table>\n",
              "</div>\n",
              "      <button class=\"colab-df-convert\" onclick=\"convertToInteractive('df-65c9cabf-e6f8-4e08-8547-61f68271dbe7')\"\n",
              "              title=\"Convert this dataframe to an interactive table.\"\n",
              "              style=\"display:none;\">\n",
              "        \n",
              "  <svg xmlns=\"http://www.w3.org/2000/svg\" height=\"24px\"viewBox=\"0 0 24 24\"\n",
              "       width=\"24px\">\n",
              "    <path d=\"M0 0h24v24H0V0z\" fill=\"none\"/>\n",
              "    <path d=\"M18.56 5.44l.94 2.06.94-2.06 2.06-.94-2.06-.94-.94-2.06-.94 2.06-2.06.94zm-11 1L8.5 8.5l.94-2.06 2.06-.94-2.06-.94L8.5 2.5l-.94 2.06-2.06.94zm10 10l.94 2.06.94-2.06 2.06-.94-2.06-.94-.94-2.06-.94 2.06-2.06.94z\"/><path d=\"M17.41 7.96l-1.37-1.37c-.4-.4-.92-.59-1.43-.59-.52 0-1.04.2-1.43.59L10.3 9.45l-7.72 7.72c-.78.78-.78 2.05 0 2.83L4 21.41c.39.39.9.59 1.41.59.51 0 1.02-.2 1.41-.59l7.78-7.78 2.81-2.81c.8-.78.8-2.07 0-2.86zM5.41 20L4 18.59l7.72-7.72 1.47 1.35L5.41 20z\"/>\n",
              "  </svg>\n",
              "      </button>\n",
              "      \n",
              "  <style>\n",
              "    .colab-df-container {\n",
              "      display:flex;\n",
              "      flex-wrap:wrap;\n",
              "      gap: 12px;\n",
              "    }\n",
              "\n",
              "    .colab-df-convert {\n",
              "      background-color: #E8F0FE;\n",
              "      border: none;\n",
              "      border-radius: 50%;\n",
              "      cursor: pointer;\n",
              "      display: none;\n",
              "      fill: #1967D2;\n",
              "      height: 32px;\n",
              "      padding: 0 0 0 0;\n",
              "      width: 32px;\n",
              "    }\n",
              "\n",
              "    .colab-df-convert:hover {\n",
              "      background-color: #E2EBFA;\n",
              "      box-shadow: 0px 1px 2px rgba(60, 64, 67, 0.3), 0px 1px 3px 1px rgba(60, 64, 67, 0.15);\n",
              "      fill: #174EA6;\n",
              "    }\n",
              "\n",
              "    [theme=dark] .colab-df-convert {\n",
              "      background-color: #3B4455;\n",
              "      fill: #D2E3FC;\n",
              "    }\n",
              "\n",
              "    [theme=dark] .colab-df-convert:hover {\n",
              "      background-color: #434B5C;\n",
              "      box-shadow: 0px 1px 3px 1px rgba(0, 0, 0, 0.15);\n",
              "      filter: drop-shadow(0px 1px 2px rgba(0, 0, 0, 0.3));\n",
              "      fill: #FFFFFF;\n",
              "    }\n",
              "  </style>\n",
              "\n",
              "      <script>\n",
              "        const buttonEl =\n",
              "          document.querySelector('#df-65c9cabf-e6f8-4e08-8547-61f68271dbe7 button.colab-df-convert');\n",
              "        buttonEl.style.display =\n",
              "          google.colab.kernel.accessAllowed ? 'block' : 'none';\n",
              "\n",
              "        async function convertToInteractive(key) {\n",
              "          const element = document.querySelector('#df-65c9cabf-e6f8-4e08-8547-61f68271dbe7');\n",
              "          const dataTable =\n",
              "            await google.colab.kernel.invokeFunction('convertToInteractive',\n",
              "                                                     [key], {});\n",
              "          if (!dataTable) return;\n",
              "\n",
              "          const docLinkHtml = 'Like what you see? Visit the ' +\n",
              "            '<a target=\"_blank\" href=https://colab.research.google.com/notebooks/data_table.ipynb>data table notebook</a>'\n",
              "            + ' to learn more about interactive tables.';\n",
              "          element.innerHTML = '';\n",
              "          dataTable['output_type'] = 'display_data';\n",
              "          await google.colab.output.renderOutput(dataTable, element);\n",
              "          const docLink = document.createElement('div');\n",
              "          docLink.innerHTML = docLinkHtml;\n",
              "          element.appendChild(docLink);\n",
              "        }\n",
              "      </script>\n",
              "    </div>\n",
              "  </div>\n",
              "  "
            ],
            "text/plain": [
              "    Model     AUC\n",
              "2     GBT  0.5599\n",
              "0  LogReg  0.6131\n",
              "1      RF  0.6643"
            ]
          },
          "metadata": {},
          "output_type": "display_data"
        }
      ],
      "source": [
        "# Create model comparison df\n",
        "#Create list with specified model labels\n",
        "labels = ['LogReg', 'RF', 'GBT']\n",
        "#Create list of results from each model\n",
        "scores = [wlogr_test_auc, wrf_test_auc, wgbt_test_auc]\n",
        "#Zip the two lists together, and sort values by AUC in descending order - highest at the top\n",
        "#Had to round the df to the nearest 2 decimals, otherwise AUC value output was returned in scientific notation\n",
        "weather_delay_compare_df = pd.DataFrame(list(zip(labels, scores)),\n",
        "            columns = ['Model', 'AUC']).sort_values('AUC', ascending = True).round(4)\n",
        "\n",
        "#Return output\n",
        "display(weather_delay_compare_df)"
      ]
    },
    {
      "attachments": {},
      "cell_type": "markdown",
      "metadata": {
        "id": "DblMsMMQWXaO"
      },
      "source": [
        "# Logistic or Linear Regression Model: Predicting Likelihood a Flight Will Not Depart On Time\n",
        "One of our original prediction models described in the project proposal was to predict whether a flight will leave on time or not. This could be measured how the other two models were - create a new column with a binary value that will return 1 if the *DEP_DELAY* is > 0.0, and 0 if otherwise."
      ]
    },
    {
      "cell_type": "code",
      "execution_count": null,
      "metadata": {
        "id": "3JtTQSKHSijV"
      },
      "outputs": [],
      "source": [
        "time_df = delay_df_xformed.withColumnRenamed('IsDepartDelay', 'label')\n",
        "time_training_df, time_validation_df, time_testing_df = time_df.randomSplit([0.6, 0.3, 0.1], )"
      ]
    },
    {
      "attachments": {},
      "cell_type": "markdown",
      "metadata": {
        "id": "da4tzFp-Ir2c"
      },
      "source": [
        "### Logistic Regression Model: Departure Delay Prediction"
      ]
    },
    {
      "cell_type": "code",
      "execution_count": null,
      "metadata": {
        "colab": {
          "base_uri": "https://localhost:8080/"
        },
        "id": "c8V21d4YY2uh",
        "outputId": "570e139f-a7d7-44bc-da61-2be65ab1ec04"
      },
      "outputs": [
        {
          "data": {
            "text/plain": [
              "0.6281324928975723"
            ]
          },
          "execution_count": 390,
          "metadata": {},
          "output_type": "execute_result"
        }
      ],
      "source": [
        "tlogr = LogisticRegression(regParam=0.1)\n",
        "tlogr_pipeline = Pipeline(stages=[va, tlogr]).fit(time_training_df)\n",
        "bce = BinaryClassificationEvaluator()\n",
        "bce.evaluate(tlogr_pipeline.transform(time_validation_df))"
      ]
    },
    {
      "cell_type": "code",
      "execution_count": null,
      "metadata": {
        "id": "ElIbWUIhU9ZH"
      },
      "outputs": [],
      "source": [
        "tlogr_pipe = Pipeline(stages=[va, tlogr])\n",
        "if enable_grid_search:\n",
        "      #Create grid\n",
        "      tlogr_grid = ParamGridBuilder().\\\n",
        "      addGrid(tlogr.regParam, [0.22, 0.25, 0.28]).\\\n",
        "      addGrid(tlogr.elasticNetParam, [0.0065, 0.0075, 0.0085]).\\\n",
        "      build()\n",
        "\n",
        "      #Grid search - fit with training data\n",
        "      tlogr_all_models = []\n",
        "      for j in range(len(tlogr_grid)):\n",
        "        tlogr_model = tlogr_pipe.fit(time_training_df, tlogr_grid[j])\n",
        "        tlogr_all_models.append(tlogr_model)\n",
        "\n",
        "      #Get the AUC scores of each model on the grid\n",
        "      #Create empty list that will be appended\n",
        "      tlogr_AUC_Scores = []\n",
        "      #For each model in all models on the grid - obtain the AUC score\n",
        "      for m in tlogr_all_models:\n",
        "        tlogr_predictions = m.transform(time_validation_df)\n",
        "        tlogr_AUC_score = bce.evaluate(tlogr_predictions, {bce.metricName: \"areaUnderROC\"})\n",
        "        tlogr_AUC_Scores.append(tlogr_AUC_score)\n",
        "\n",
        "      #Get index of the best model by using function argmin - the lower the AUC score the better\n",
        "      best_tlogr_model_idx = np.argmax(tlogr_AUC_Scores)\n",
        "      best_tlogr_model = tlogr_all_models[best_tlogr_model_idx]\n",
        "\n",
        "      #Look at the corresponding grid index to find the hyper parameter values in the best model\n",
        "      print(tlogr_grid[best_tlogr_model_idx])\n",
        "      print(\"AUC on Validation Data = \", tlogr_AUC_Scores[best_tlogr_model_idx])\n",
        "      pass"
      ]
    },
    {
      "attachments": {},
      "cell_type": "markdown",
      "metadata": {
        "id": "ssgsqgI9IzMB"
      },
      "source": [
        "### Random Forest Classification Model: Departure Delay Prediction"
      ]
    },
    {
      "cell_type": "code",
      "execution_count": null,
      "metadata": {
        "colab": {
          "base_uri": "https://localhost:8080/"
        },
        "id": "eKpxKvEVloMr",
        "outputId": "6b21b46f-e8a0-430d-b146-86802cc8210f"
      },
      "outputs": [
        {
          "data": {
            "text/plain": [
              "0.6535589200814049"
            ]
          },
          "execution_count": 392,
          "metadata": {},
          "output_type": "execute_result"
        }
      ],
      "source": [
        "trfc = RandomForestClassifier(maxBins=354)\n",
        "trfc_pipeline = Pipeline(stages=[va, trfc]).fit(time_training_df)\n",
        "bce.evaluate(trfc_pipeline.transform(time_validation_df))"
      ]
    },
    {
      "cell_type": "code",
      "execution_count": null,
      "metadata": {
        "colab": {
          "base_uri": "https://localhost:8080/",
          "height": 525
        },
        "id": "l0WQY2ZSo13G",
        "outputId": "9bd5aa4a-1204-4bfb-9e5c-2cd34858286f"
      },
      "outputs": [
        {
          "name": "stderr",
          "output_type": "stream",
          "text": [
            "/usr/local/lib/python3.7/dist-packages/pyspark/sql/context.py:127: FutureWarning: Deprecated in 3.0.0. Use SparkSession.builder.getOrCreate() instead.\n",
            "  FutureWarning\n"
          ]
        },
        {
          "data": {
            "text/plain": [
              "[<matplotlib.lines.Line2D at 0x7f103974a4d0>]"
            ]
          },
          "execution_count": 393,
          "metadata": {},
          "output_type": "execute_result"
        },
        {
          "data": {
            "image/png": "[encoded data removed]",
            "text/plain": [
              "<Figure size 640x480 with 1 Axes>"
            ]
          },
          "metadata": {},
          "output_type": "display_data"
        }
      ],
      "source": [
        "# Create a Pipeline estimator and fit on train DF, predict on test DF\n",
        "tpredictions = tlogr_pipeline.transform(time_testing_df)\n",
        "\n",
        "# Returns as a list (false positive rate, true positive rate)\n",
        "tpreds = tpredictions.select('label','probability').rdd.map(lambda row: (float(row['probability'][1]), float(row['label'])))\n",
        "tpoints = CurveMetrics(tpreds).get_curve('roc')\n",
        "\n",
        "plt.figure()\n",
        "x_val = [x[0] for x in tpoints]\n",
        "y_val = [x[1] for x in tpoints]\n",
        "plt.title('Flight Not Departing on Time ROC Curve')\n",
        "plt.xlabel('False Positive Rate')\n",
        "plt.ylabel('True Positive Rate')\n",
        "plt.plot(x_val, y_val)"
      ]
    },
    {
      "cell_type": "code",
      "execution_count": null,
      "metadata": {
        "id": "E2ZnVUCyVunU"
      },
      "outputs": [],
      "source": [
        "tlogr_model = tlogr_pipeline.stages[-1]\n",
        "\n",
        "trfc_model = trfc_pipeline.stages[-1]\n",
        "\n",
        "t_array = trfc_model.featureImportances.toArray()\n",
        "\n",
        "t_abs = np.abs(t_array)"
      ]
    },
    {
      "cell_type": "code",
      "execution_count": null,
      "metadata": {
        "colab": {
          "base_uri": "https://localhost:8080/"
        },
        "id": "BtYlOnzF4gOA",
        "outputId": "b4465ddf-4cc6-4bdf-e7e1-6ae400fc7b69"
      },
      "outputs": [
        {
          "name": "stdout",
          "output_type": "stream",
          "text": [
            "+------+----+------------------+-----------+-------------------+------------+--------+----------+-----------+--------------+-----+--------------+-------+------+--------------------+--------------------+--------------------+----------+\n",
            "|Origin|Dest|ExpectedDepartTime|DepartDelay|ExpectedArrivalTime|ArrivalDelay|Distance|DayOfMonth|FlightMonth|IsWeatherDelay|label|IsArrivalDelay|Airline|Season|            features|       rawPrediction|         probability|prediction|\n",
            "+------+----+------------------+-----------+-------------------+------------+--------+----------+-----------+--------------+-----+--------------+-------+------+--------------------+--------------------+--------------------+----------+\n",
            "|   0.0| 1.0|               907|        7.0|               1013|        21.0|   606.0|         3|          4|             0|    1|             1|    1.0|   1.0|[1.0,0.0,1.0,1.0,...|[0.78352866074998...|[0.68644012237183...|       0.0|\n",
            "|   0.0| 1.0|              1510|       15.0|               1635|        -2.0|   606.0|        11|          6|             0|    1|             0|    1.0|   0.0|[1.0,0.0,1.0,0.0,...|[0.32186470297624...|[0.57977862721224...|       0.0|\n",
            "|   0.0| 1.0|              1909|       10.0|               2035|         6.0|   606.0|        21|          6|             0|    1|             1|    1.0|   0.0|[1.0,0.0,1.0,0.0,...|[0.05377881753689...|[0.51344146496673...|       0.0|\n",
            "|   0.0| 1.0|              2007|       -6.0|               2125|       -35.0|   606.0|        19|         12|             0|    0|             0|    7.0|   3.0|[7.0,0.0,1.0,3.0,...|[0.30192930949465...|[0.57491408467934...|       0.0|\n",
            "|   0.0| 2.0|               725|       -2.0|                850|       -14.0|   731.0|         2|          4|             0|    0|             0|    1.0|   1.0|[1.0,0.0,2.0,1.0,...|[0.89463531774763...|[0.70984581239944...|       0.0|\n",
            "+------+----+------------------+-----------+-------------------+------------+--------+----------+-----------+--------------+-----+--------------+-------+------+--------------------+--------------------+--------------------+----------+\n",
            "only showing top 5 rows\n",
            "\n"
          ]
        }
      ],
      "source": [
        "tpredictions = tlogr_pipeline.transform(time_testing_df)\n",
        "tpredictions.show(5)"
      ]
    },
    {
      "cell_type": "code",
      "execution_count": null,
      "metadata": {
        "colab": {
          "base_uri": "https://localhost:8080/",
          "height": 331
        },
        "id": "zbEvOQF1bA-q",
        "outputId": "3ef645b4-005a-44ba-fb96-fb6b830f47bb"
      },
      "outputs": [
        {
          "data": {
            "text/html": [
              "\n",
              "  <div id=\"df-dc44ea7a-f8c7-46eb-bc4e-c14ec25ca2c4\">\n",
              "    <div class=\"colab-df-container\">\n",
              "      <div>\n",
              "<style scoped>\n",
              "    .dataframe tbody tr th:only-of-type {\n",
              "        vertical-align: middle;\n",
              "    }\n",
              "\n",
              "    .dataframe tbody tr th {\n",
              "        vertical-align: top;\n",
              "    }\n",
              "\n",
              "    .dataframe thead th {\n",
              "        text-align: right;\n",
              "    }\n",
              "</style>\n",
              "<table border=\"1\" class=\"dataframe\">\n",
              "  <thead>\n",
              "    <tr style=\"text-align: right;\">\n",
              "      <th></th>\n",
              "      <th>feature</th>\n",
              "      <th>importance</th>\n",
              "    </tr>\n",
              "  </thead>\n",
              "  <tbody>\n",
              "    <tr>\n",
              "      <th>0</th>\n",
              "      <td>Origin</td>\n",
              "      <td>0.370262</td>\n",
              "    </tr>\n",
              "    <tr>\n",
              "      <th>6</th>\n",
              "      <td>DayOfMonth</td>\n",
              "      <td>0.298297</td>\n",
              "    </tr>\n",
              "    <tr>\n",
              "      <th>7</th>\n",
              "      <td>FlightMonth</td>\n",
              "      <td>0.236685</td>\n",
              "    </tr>\n",
              "    <tr>\n",
              "      <th>1</th>\n",
              "      <td>Dest</td>\n",
              "      <td>0.035337</td>\n",
              "    </tr>\n",
              "    <tr>\n",
              "      <th>3</th>\n",
              "      <td>DepartDelay</td>\n",
              "      <td>0.033925</td>\n",
              "    </tr>\n",
              "    <tr>\n",
              "      <th>2</th>\n",
              "      <td>ExpectedDepartTime</td>\n",
              "      <td>0.016179</td>\n",
              "    </tr>\n",
              "    <tr>\n",
              "      <th>4</th>\n",
              "      <td>ExpectedArrivalTime</td>\n",
              "      <td>0.007594</td>\n",
              "    </tr>\n",
              "    <tr>\n",
              "      <th>8</th>\n",
              "      <td>Airline</td>\n",
              "      <td>0.001456</td>\n",
              "    </tr>\n",
              "    <tr>\n",
              "      <th>5</th>\n",
              "      <td>Distance</td>\n",
              "      <td>0.000264</td>\n",
              "    </tr>\n",
              "  </tbody>\n",
              "</table>\n",
              "</div>\n",
              "      <button class=\"colab-df-convert\" onclick=\"convertToInteractive('df-dc44ea7a-f8c7-46eb-bc4e-c14ec25ca2c4')\"\n",
              "              title=\"Convert this dataframe to an interactive table.\"\n",
              "              style=\"display:none;\">\n",
              "        \n",
              "  <svg xmlns=\"http://www.w3.org/2000/svg\" height=\"24px\"viewBox=\"0 0 24 24\"\n",
              "       width=\"24px\">\n",
              "    <path d=\"M0 0h24v24H0V0z\" fill=\"none\"/>\n",
              "    <path d=\"M18.56 5.44l.94 2.06.94-2.06 2.06-.94-2.06-.94-.94-2.06-.94 2.06-2.06.94zm-11 1L8.5 8.5l.94-2.06 2.06-.94-2.06-.94L8.5 2.5l-.94 2.06-2.06.94zm10 10l.94 2.06.94-2.06 2.06-.94-2.06-.94-.94-2.06-.94 2.06-2.06.94z\"/><path d=\"M17.41 7.96l-1.37-1.37c-.4-.4-.92-.59-1.43-.59-.52 0-1.04.2-1.43.59L10.3 9.45l-7.72 7.72c-.78.78-.78 2.05 0 2.83L4 21.41c.39.39.9.59 1.41.59.51 0 1.02-.2 1.41-.59l7.78-7.78 2.81-2.81c.8-.78.8-2.07 0-2.86zM5.41 20L4 18.59l7.72-7.72 1.47 1.35L5.41 20z\"/>\n",
              "  </svg>\n",
              "      </button>\n",
              "      \n",
              "  <style>\n",
              "    .colab-df-container {\n",
              "      display:flex;\n",
              "      flex-wrap:wrap;\n",
              "      gap: 12px;\n",
              "    }\n",
              "\n",
              "    .colab-df-convert {\n",
              "      background-color: #E8F0FE;\n",
              "      border: none;\n",
              "      border-radius: 50%;\n",
              "      cursor: pointer;\n",
              "      display: none;\n",
              "      fill: #1967D2;\n",
              "      height: 32px;\n",
              "      padding: 0 0 0 0;\n",
              "      width: 32px;\n",
              "    }\n",
              "\n",
              "    .colab-df-convert:hover {\n",
              "      background-color: #E2EBFA;\n",
              "      box-shadow: 0px 1px 2px rgba(60, 64, 67, 0.3), 0px 1px 3px 1px rgba(60, 64, 67, 0.15);\n",
              "      fill: #174EA6;\n",
              "    }\n",
              "\n",
              "    [theme=dark] .colab-df-convert {\n",
              "      background-color: #3B4455;\n",
              "      fill: #D2E3FC;\n",
              "    }\n",
              "\n",
              "    [theme=dark] .colab-df-convert:hover {\n",
              "      background-color: #434B5C;\n",
              "      box-shadow: 0px 1px 3px 1px rgba(0, 0, 0, 0.15);\n",
              "      filter: drop-shadow(0px 1px 2px rgba(0, 0, 0, 0.3));\n",
              "      fill: #FFFFFF;\n",
              "    }\n",
              "  </style>\n",
              "\n",
              "      <script>\n",
              "        const buttonEl =\n",
              "          document.querySelector('#df-dc44ea7a-f8c7-46eb-bc4e-c14ec25ca2c4 button.colab-df-convert');\n",
              "        buttonEl.style.display =\n",
              "          google.colab.kernel.accessAllowed ? 'block' : 'none';\n",
              "\n",
              "        async function convertToInteractive(key) {\n",
              "          const element = document.querySelector('#df-dc44ea7a-f8c7-46eb-bc4e-c14ec25ca2c4');\n",
              "          const dataTable =\n",
              "            await google.colab.kernel.invokeFunction('convertToInteractive',\n",
              "                                                     [key], {});\n",
              "          if (!dataTable) return;\n",
              "\n",
              "          const docLinkHtml = 'Like what you see? Visit the ' +\n",
              "            '<a target=\"_blank\" href=https://colab.research.google.com/notebooks/data_table.ipynb>data table notebook</a>'\n",
              "            + ' to learn more about interactive tables.';\n",
              "          element.innerHTML = '';\n",
              "          dataTable['output_type'] = 'display_data';\n",
              "          await google.colab.output.renderOutput(dataTable, element);\n",
              "          const docLink = document.createElement('div');\n",
              "          docLink.innerHTML = docLinkHtml;\n",
              "          element.appendChild(docLink);\n",
              "        }\n",
              "      </script>\n",
              "    </div>\n",
              "  </div>\n",
              "  "
            ],
            "text/plain": [
              "               feature  importance\n",
              "0               Origin    0.370262\n",
              "6           DayOfMonth    0.298297\n",
              "7          FlightMonth    0.236685\n",
              "1                 Dest    0.035337\n",
              "3          DepartDelay    0.033925\n",
              "2   ExpectedDepartTime    0.016179\n",
              "4  ExpectedArrivalTime    0.007594\n",
              "8              Airline    0.001456\n",
              "5             Distance    0.000264"
            ]
          },
          "metadata": {},
          "output_type": "display_data"
        }
      ],
      "source": [
        "rf2_df = pd.DataFrame(list(zip(time_df.drop('label', 'IsWeatherDelay', 'ArrivalDelay',\n",
        "                                                'AirTime', 'features', 'indexedFeatures',\n",
        "                                                'IsArrivalDelay').columns, t_abs)),\n",
        "            columns = ['feature', 'importance']).sort_values('importance', ascending = False)\n",
        "\n",
        "display(rf2_df)"
      ]
    },
    {
      "cell_type": "code",
      "execution_count": null,
      "metadata": {
        "colab": {
          "base_uri": "https://localhost:8080/",
          "height": 112
        },
        "id": "oYgcFpDY57NK",
        "outputId": "ca6bca7e-fb5c-45d4-f69d-1d8d3b3ee4dd"
      },
      "outputs": [
        {
          "data": {
            "text/html": [
              "\n",
              "  <div id=\"df-9e7b7154-4cad-403b-9b61-7220af2f3513\">\n",
              "    <div class=\"colab-df-container\">\n",
              "      <div>\n",
              "<style scoped>\n",
              "    .dataframe tbody tr th:only-of-type {\n",
              "        vertical-align: middle;\n",
              "    }\n",
              "\n",
              "    .dataframe tbody tr th {\n",
              "        vertical-align: top;\n",
              "    }\n",
              "\n",
              "    .dataframe thead th {\n",
              "        text-align: right;\n",
              "    }\n",
              "</style>\n",
              "<table border=\"1\" class=\"dataframe\">\n",
              "  <thead>\n",
              "    <tr style=\"text-align: right;\">\n",
              "      <th></th>\n",
              "      <th>Model</th>\n",
              "      <th>AUC</th>\n",
              "    </tr>\n",
              "  </thead>\n",
              "  <tbody>\n",
              "    <tr>\n",
              "      <th>0</th>\n",
              "      <td>LogR</td>\n",
              "      <td>0.6284</td>\n",
              "    </tr>\n",
              "    <tr>\n",
              "      <th>1</th>\n",
              "      <td>RF</td>\n",
              "      <td>0.6534</td>\n",
              "    </tr>\n",
              "  </tbody>\n",
              "</table>\n",
              "</div>\n",
              "      <button class=\"colab-df-convert\" onclick=\"convertToInteractive('df-9e7b7154-4cad-403b-9b61-7220af2f3513')\"\n",
              "              title=\"Convert this dataframe to an interactive table.\"\n",
              "              style=\"display:none;\">\n",
              "        \n",
              "  <svg xmlns=\"http://www.w3.org/2000/svg\" height=\"24px\"viewBox=\"0 0 24 24\"\n",
              "       width=\"24px\">\n",
              "    <path d=\"M0 0h24v24H0V0z\" fill=\"none\"/>\n",
              "    <path d=\"M18.56 5.44l.94 2.06.94-2.06 2.06-.94-2.06-.94-.94-2.06-.94 2.06-2.06.94zm-11 1L8.5 8.5l.94-2.06 2.06-.94-2.06-.94L8.5 2.5l-.94 2.06-2.06.94zm10 10l.94 2.06.94-2.06 2.06-.94-2.06-.94-.94-2.06-.94 2.06-2.06.94z\"/><path d=\"M17.41 7.96l-1.37-1.37c-.4-.4-.92-.59-1.43-.59-.52 0-1.04.2-1.43.59L10.3 9.45l-7.72 7.72c-.78.78-.78 2.05 0 2.83L4 21.41c.39.39.9.59 1.41.59.51 0 1.02-.2 1.41-.59l7.78-7.78 2.81-2.81c.8-.78.8-2.07 0-2.86zM5.41 20L4 18.59l7.72-7.72 1.47 1.35L5.41 20z\"/>\n",
              "  </svg>\n",
              "      </button>\n",
              "      \n",
              "  <style>\n",
              "    .colab-df-container {\n",
              "      display:flex;\n",
              "      flex-wrap:wrap;\n",
              "      gap: 12px;\n",
              "    }\n",
              "\n",
              "    .colab-df-convert {\n",
              "      background-color: #E8F0FE;\n",
              "      border: none;\n",
              "      border-radius: 50%;\n",
              "      cursor: pointer;\n",
              "      display: none;\n",
              "      fill: #1967D2;\n",
              "      height: 32px;\n",
              "      padding: 0 0 0 0;\n",
              "      width: 32px;\n",
              "    }\n",
              "\n",
              "    .colab-df-convert:hover {\n",
              "      background-color: #E2EBFA;\n",
              "      box-shadow: 0px 1px 2px rgba(60, 64, 67, 0.3), 0px 1px 3px 1px rgba(60, 64, 67, 0.15);\n",
              "      fill: #174EA6;\n",
              "    }\n",
              "\n",
              "    [theme=dark] .colab-df-convert {\n",
              "      background-color: #3B4455;\n",
              "      fill: #D2E3FC;\n",
              "    }\n",
              "\n",
              "    [theme=dark] .colab-df-convert:hover {\n",
              "      background-color: #434B5C;\n",
              "      box-shadow: 0px 1px 3px 1px rgba(0, 0, 0, 0.15);\n",
              "      filter: drop-shadow(0px 1px 2px rgba(0, 0, 0, 0.3));\n",
              "      fill: #FFFFFF;\n",
              "    }\n",
              "  </style>\n",
              "\n",
              "      <script>\n",
              "        const buttonEl =\n",
              "          document.querySelector('#df-9e7b7154-4cad-403b-9b61-7220af2f3513 button.colab-df-convert');\n",
              "        buttonEl.style.display =\n",
              "          google.colab.kernel.accessAllowed ? 'block' : 'none';\n",
              "\n",
              "        async function convertToInteractive(key) {\n",
              "          const element = document.querySelector('#df-9e7b7154-4cad-403b-9b61-7220af2f3513');\n",
              "          const dataTable =\n",
              "            await google.colab.kernel.invokeFunction('convertToInteractive',\n",
              "                                                     [key], {});\n",
              "          if (!dataTable) return;\n",
              "\n",
              "          const docLinkHtml = 'Like what you see? Visit the ' +\n",
              "            '<a target=\"_blank\" href=https://colab.research.google.com/notebooks/data_table.ipynb>data table notebook</a>'\n",
              "            + ' to learn more about interactive tables.';\n",
              "          element.innerHTML = '';\n",
              "          dataTable['output_type'] = 'display_data';\n",
              "          await google.colab.output.renderOutput(dataTable, element);\n",
              "          const docLink = document.createElement('div');\n",
              "          docLink.innerHTML = docLinkHtml;\n",
              "          element.appendChild(docLink);\n",
              "        }\n",
              "      </script>\n",
              "    </div>\n",
              "  </div>\n",
              "  "
            ],
            "text/plain": [
              "  Model     AUC\n",
              "0  LogR  0.6284\n",
              "1    RF  0.6534"
            ]
          },
          "metadata": {},
          "output_type": "display_data"
        }
      ],
      "source": [
        "# Create model comparison df\n",
        "#Create list with specified model labels\n",
        "labels = ['LogR', 'RF']\n",
        "logreee_mse = tlogr_AUC_Scores[best_tlogr_model_idx]\n",
        "rf_MSE3 = bce.evaluate(trfc_pipeline.transform(time_validation_df))\n",
        "\n",
        "#Create list of results from each model\n",
        "scores = [logreee_mse, rf_MSE3]\n",
        "#Zip the two lists together, and sort values by AUC in descending order - highest at the top\n",
        "#Had to round the df to the nearest 2 decimals, otherwise AUC value output was returned in scientific notation\n",
        "d_delay_compare_df = pd.DataFrame(list(zip(labels, scores)),\n",
        "            columns = ['Model', 'AUC']).sort_values('AUC', ascending = True).round(4)\n",
        "\n",
        "#Return output\n",
        "display(d_delay_compare_df)"
      ]
    },
    {
      "attachments": {},
      "cell_type": "markdown",
      "metadata": {
        "id": "I2IuMpxoZEY0"
      },
      "source": [
        "# Model Output Interpretations"
      ]
    },
    {
      "attachments": {},
      "cell_type": "markdown",
      "metadata": {
        "id": "mACLl19wZSic"
      },
      "source": [
        "### Linear Regression Model: Predicting How Long a Delay Will Be\n",
        "We created a linear regression model, a random forest regression mode, and a GBT regression model to predict Arrival Delay.  The MSE scores for the two models were 2101.875 , 2097.514, and 2312.970 respectively, meaning that the random forest regression model performed slightly better than the linear regression model and GBT regression in predicting Arrival Delay.  The most important features for the linear regression model were Expected Depart Time and Season, while the least important features were Distance and Origin.  This result was not that surprising; however, the most important features for the random forest regression model and GBT regression model were Distance and Destination, while the least important features were Airline and Flight Month.  This was surprising because the Distance variable was had a complete opposite effect on the different models in terms of the feature importance , and also because I would have thought the Flight Month variable would have more importance in the random forest and GBT regression models.\n"
      ]
    },
    {
      "attachments": {},
      "cell_type": "markdown",
      "metadata": {
        "id": "sXfiTCwDZSr8"
      },
      "source": [
        "### Logistic Regression Model: Predicting Likelihood a Flight Will Be Delayed\n",
        "Variable importance, interesting insights, etc.\n",
        "\n",
        "We created a logistic regression and a random forest model. However, the random forest model was stronger, so we looked at the feature importance of the model. We found season and ExpectDepartTOD were the two most important features of the random forest model. This makes sense as if the actual depart time is greater than the expected depart time, there must be a delay. Season also makes sense as weather may have an effect in delay potential in the winter. Besides these two, Destination was significant (might be other delays at busy arrival airports) along with DayOfMonth and Distance."
      ]
    },
    {
      "attachments": {},
      "cell_type": "markdown",
      "metadata": {
        "id": "nESG4S85ZS1X"
      },
      "source": [
        "### Logistic Regression Model: Predicting Likelihood a Flight Will Be Delayed By Weather\n",
        "It seems as though Airline and Origin are the most important features for predicting a weather delay using the logistic regression model. As for the random forest model, it looks like expected depature time and destination are the most important features for predicting a weather delay. The random forest model is more accurate, but the feature importance rankings seem counterintuitive. I would think that, Airline, Origin, and Flight Month would be the most important - but Airline and Flight Month are the bottom two for the random forest model."
      ]
    },
    {
      "attachments": {},
      "cell_type": "markdown",
      "metadata": {
        "id": "li-ulgNV03CG"
      },
      "source": [
        "### Logistic Regression Model: Predicting Likelihood a Flight Will Not Depart On Time\n",
        "When discovering important features to a model that predicts whether flights will have a departure delay, we find that the biggest factors without a doubt are the origin location of the flight, the airline operating the flight, and the season in which the flight takes place. When thinking about what causes a flight to depart late, these two features being extremely important is not at all surprising, as departure delays happen more often because of the origin airport, issues with the airline before takeoff, or also with weather issues caused by the various seasons, or higher seasonal airport traffic."
      ]
    }
  ],
  "metadata": {
    "colab": {
      "collapsed_sections": [
        "mACLl19wZSic",
        "sXfiTCwDZSr8"
      ],
      "provenance": []
    },
    "kernelspec": {
      "display_name": "Python 3",
      "name": "python3"
    },
    "language_info": {
      "codemirror_mode": {
        "name": "ipython",
        "version": 3
      },
      "file_extension": ".py",
      "mimetype": "text/x-python",
      "name": "python",
      "nbconvert_exporter": "python",
      "pygments_lexer": "ipython3",
      "version": "3.11.4"
    }
  },
  "nbformat": 4,
  "nbformat_minor": 0
}
